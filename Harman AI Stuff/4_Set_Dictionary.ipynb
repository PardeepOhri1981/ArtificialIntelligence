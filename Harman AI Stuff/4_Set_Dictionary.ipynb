{
 "cells": [
  {
   "cell_type": "markdown",
   "id": "276a1ef4",
   "metadata": {},
   "source": [
    "# Set\n",
    "\n",
    "* Set is collection of unique elements only.\n",
    "* It is unordered collection and cannot be indexed"
   ]
  },
  {
   "cell_type": "code",
   "execution_count": 1,
   "id": "f1b46b6a",
   "metadata": {},
   "outputs": [
    {
     "name": "stdout",
     "output_type": "stream",
     "text": [
      "<class 'dict'>\n"
     ]
    }
   ],
   "source": [
    "set1 = {}\n",
    "\n",
    "print(type(set1))"
   ]
  },
  {
   "cell_type": "code",
   "execution_count": 2,
   "id": "fb02d55f",
   "metadata": {},
   "outputs": [
    {
     "name": "stdout",
     "output_type": "stream",
     "text": [
      "{1, 2, 3, 4, 5}\n"
     ]
    }
   ],
   "source": [
    "set1 = {3,4,1,3,4,2,5,4}\n",
    "\n",
    "print(set1)"
   ]
  },
  {
   "cell_type": "code",
   "execution_count": 3,
   "id": "c5dd25f8",
   "metadata": {},
   "outputs": [
    {
     "name": "stdout",
     "output_type": "stream",
     "text": [
      "{2, 3, 4, 5, 6, 7, 'one'}\n"
     ]
    }
   ],
   "source": [
    "list1 = [4, 5, 2, 3, 5, 3, 7, 6, 5, 6, 7, 'one']\n",
    "\n",
    "set2 = set(list1)\n",
    "print(set2)"
   ]
  },
  {
   "cell_type": "code",
   "execution_count": 4,
   "id": "9721217f",
   "metadata": {},
   "outputs": [
    {
     "ename": "TypeError",
     "evalue": "'set' object is not subscriptable",
     "output_type": "error",
     "traceback": [
      "\u001b[1;31m---------------------------------------------------------------------------\u001b[0m",
      "\u001b[1;31mTypeError\u001b[0m                                 Traceback (most recent call last)",
      "Cell \u001b[1;32mIn[4], line 1\u001b[0m\n\u001b[1;32m----> 1\u001b[0m \u001b[38;5;28mprint\u001b[39m(\u001b[43mset2\u001b[49m\u001b[43m[\u001b[49m\u001b[38;5;241;43m0\u001b[39;49m\u001b[43m]\u001b[49m)\n",
      "\u001b[1;31mTypeError\u001b[0m: 'set' object is not subscriptable"
     ]
    }
   ],
   "source": [
    "print(set2[0])"
   ]
  },
  {
   "cell_type": "code",
   "execution_count": 5,
   "id": "1783dca1",
   "metadata": {},
   "outputs": [
    {
     "name": "stdout",
     "output_type": "stream",
     "text": [
      "{2, 3, 4, 5, 6, 7, 'one', 'two'}\n"
     ]
    }
   ],
   "source": [
    "set2.add('two')\n",
    "print(set2)"
   ]
  },
  {
   "cell_type": "code",
   "execution_count": 6,
   "id": "b460e89e",
   "metadata": {},
   "outputs": [],
   "source": [
    "set2.add(2)"
   ]
  },
  {
   "cell_type": "code",
   "execution_count": 7,
   "id": "e6f5206b",
   "metadata": {},
   "outputs": [
    {
     "name": "stdout",
     "output_type": "stream",
     "text": [
      "{2, 3, 4, 5, 6, 7, 'one', 'two'}\n"
     ]
    }
   ],
   "source": [
    "print(set2)"
   ]
  },
  {
   "cell_type": "code",
   "execution_count": 8,
   "id": "8d08dd46",
   "metadata": {},
   "outputs": [
    {
     "ename": "TypeError",
     "evalue": "unhashable type: 'list'",
     "output_type": "error",
     "traceback": [
      "\u001b[1;31m---------------------------------------------------------------------------\u001b[0m",
      "\u001b[1;31mTypeError\u001b[0m                                 Traceback (most recent call last)",
      "Cell \u001b[1;32mIn[8], line 1\u001b[0m\n\u001b[1;32m----> 1\u001b[0m \u001b[43mset2\u001b[49m\u001b[38;5;241;43m.\u001b[39;49m\u001b[43madd\u001b[49m\u001b[43m(\u001b[49m\u001b[43m[\u001b[49m\u001b[38;5;241;43m2\u001b[39;49m\u001b[43m,\u001b[49m\u001b[38;5;241;43m3\u001b[39;49m\u001b[43m,\u001b[49m\u001b[38;5;241;43m3\u001b[39;49m\u001b[43m]\u001b[49m\u001b[43m)\u001b[49m\n",
      "\u001b[1;31mTypeError\u001b[0m: unhashable type: 'list'"
     ]
    }
   ],
   "source": [
    "set2.add([2,3,3])"
   ]
  },
  {
   "cell_type": "code",
   "execution_count": 9,
   "id": "0a9c055b",
   "metadata": {},
   "outputs": [],
   "source": [
    "set2.add((3,11))"
   ]
  },
  {
   "cell_type": "code",
   "execution_count": 10,
   "id": "c03c6722",
   "metadata": {},
   "outputs": [
    {
     "name": "stdout",
     "output_type": "stream",
     "text": [
      "{2, 3, 4, 5, 6, 7, 'one', (3, 11), 'two'}\n"
     ]
    }
   ],
   "source": [
    "print(set2)"
   ]
  },
  {
   "cell_type": "code",
   "execution_count": 13,
   "id": "505ee915",
   "metadata": {},
   "outputs": [],
   "source": [
    "set2.discard(7)"
   ]
  },
  {
   "cell_type": "code",
   "execution_count": 14,
   "id": "0d4d0805",
   "metadata": {},
   "outputs": [
    {
     "name": "stdout",
     "output_type": "stream",
     "text": [
      "{2, 3, 4, 5, 6, 'one', (3, 11), 'two'}\n"
     ]
    }
   ],
   "source": [
    "print(set2)"
   ]
  },
  {
   "cell_type": "code",
   "execution_count": 15,
   "id": "c1bdd845",
   "metadata": {},
   "outputs": [
    {
     "ename": "KeyError",
     "evalue": "30",
     "output_type": "error",
     "traceback": [
      "\u001b[1;31m---------------------------------------------------------------------------\u001b[0m",
      "\u001b[1;31mKeyError\u001b[0m                                  Traceback (most recent call last)",
      "Cell \u001b[1;32mIn[15], line 1\u001b[0m\n\u001b[1;32m----> 1\u001b[0m \u001b[43mset2\u001b[49m\u001b[38;5;241;43m.\u001b[39;49m\u001b[43mremove\u001b[49m\u001b[43m(\u001b[49m\u001b[38;5;241;43m30\u001b[39;49m\u001b[43m)\u001b[49m\n",
      "\u001b[1;31mKeyError\u001b[0m: 30"
     ]
    }
   ],
   "source": [
    "set2.remove(30)"
   ]
  },
  {
   "cell_type": "code",
   "execution_count": 16,
   "id": "8c990a7c",
   "metadata": {},
   "outputs": [
    {
     "name": "stdout",
     "output_type": "stream",
     "text": [
      "{3, 6}\n"
     ]
    }
   ],
   "source": [
    "set3 = {3,2,5,6,3,4}\n",
    "set4 = {8,3,6,8,6}\n",
    "\n",
    "print(set3.intersection(set4))"
   ]
  },
  {
   "cell_type": "markdown",
   "id": "9351e2c8",
   "metadata": {},
   "source": [
    "# Dictionary\n",
    "\n",
    "It is a data structure that stores the element in key:value pair\n",
    "\n"
   ]
  },
  {
   "cell_type": "code",
   "execution_count": 17,
   "id": "11d41f3f",
   "metadata": {},
   "outputs": [
    {
     "name": "stdout",
     "output_type": "stream",
     "text": [
      "{'name': 'Harman', 'id': 123, 'course': 'cse', 'cgpa': 7.9}\n"
     ]
    }
   ],
   "source": [
    "dict1 = {'name':'Harman', 'id':123, 'course':'cse', 'cgpa':7.9}\n",
    "print(dict1)"
   ]
  },
  {
   "cell_type": "code",
   "execution_count": 18,
   "id": "fb600e47",
   "metadata": {},
   "outputs": [
    {
     "name": "stdout",
     "output_type": "stream",
     "text": [
      "{'k1': 'one', 'k2': '3', 'k3': 3.4, 45: [2, 3, 4]}\n"
     ]
    }
   ],
   "source": [
    "dict2 = {'k1':\"one\", 'k2':\"3\", 'k3':3.4, 45:[2,3,4]}\n",
    "print(dict2)"
   ]
  },
  {
   "cell_type": "code",
   "execution_count": 19,
   "id": "750ded38",
   "metadata": {},
   "outputs": [
    {
     "name": "stdout",
     "output_type": "stream",
     "text": [
      "one\n"
     ]
    }
   ],
   "source": [
    "print(dict2['k1'])"
   ]
  },
  {
   "cell_type": "code",
   "execution_count": 20,
   "id": "64812797",
   "metadata": {},
   "outputs": [
    {
     "name": "stdout",
     "output_type": "stream",
     "text": [
      "[2, 3, 4]\n"
     ]
    }
   ],
   "source": [
    "print(dict2[45])"
   ]
  },
  {
   "cell_type": "code",
   "execution_count": 21,
   "id": "2e10ab01",
   "metadata": {},
   "outputs": [
    {
     "name": "stdout",
     "output_type": "stream",
     "text": [
      "{0.3: 'one'}\n"
     ]
    }
   ],
   "source": [
    "dict2 = {.3:\"one\"}\n",
    "print(dict2)"
   ]
  },
  {
   "cell_type": "code",
   "execution_count": 22,
   "id": "a68dad04",
   "metadata": {},
   "outputs": [
    {
     "name": "stdout",
     "output_type": "stream",
     "text": [
      "{0.3: {'one', 'two'}}\n"
     ]
    }
   ],
   "source": [
    "d2 = {.3:{\"one\",'two'}}\n",
    "print(d2)"
   ]
  },
  {
   "cell_type": "code",
   "execution_count": 27,
   "id": "67fa2899",
   "metadata": {},
   "outputs": [
    {
     "name": "stdout",
     "output_type": "stream",
     "text": [
      "45\n"
     ]
    }
   ],
   "source": [
    "d2 = {.3:{\"one\",'two'}, .3:45}\n",
    "print(d2[.3])"
   ]
  },
  {
   "cell_type": "code",
   "execution_count": 37,
   "id": "030f4b24",
   "metadata": {},
   "outputs": [],
   "source": [
    "d3 = {\"Name\": \"CourseMantra\", \"Mobile\":89123, \"EMail\":\"we@gamil.com\",\"list1\":[23,22,11], \"tuple1\":(4,3,5)}"
   ]
  },
  {
   "cell_type": "code",
   "execution_count": 38,
   "id": "a824b147",
   "metadata": {},
   "outputs": [
    {
     "data": {
      "text/plain": [
       "{'Name': 'CourseMantra',\n",
       " 'Mobile': 89123,\n",
       " 'EMail': 'we@gamil.com',\n",
       " 'list1': [23, 22, 11],\n",
       " 'tuple1': (4, 3, 5)}"
      ]
     },
     "execution_count": 38,
     "metadata": {},
     "output_type": "execute_result"
    }
   ],
   "source": [
    "d3"
   ]
  },
  {
   "cell_type": "code",
   "execution_count": 39,
   "id": "97a16e23",
   "metadata": {},
   "outputs": [
    {
     "name": "stdout",
     "output_type": "stream",
     "text": [
      "<class 'tuple'>\n"
     ]
    }
   ],
   "source": [
    "print(type(d3[\"tuple1\"]))"
   ]
  },
  {
   "cell_type": "code",
   "execution_count": 14,
   "id": "88ea11d9",
   "metadata": {},
   "outputs": [],
   "source": [
    "dict4 = {\n",
    "            1:2,\n",
    "            3.1:4.5,\n",
    "            2+7j:2+6j\n",
    "}"
   ]
  },
  {
   "cell_type": "code",
   "execution_count": 12,
   "id": "af7268e8",
   "metadata": {},
   "outputs": [
    {
     "name": "stdout",
     "output_type": "stream",
     "text": [
      "(2+6j)\n"
     ]
    }
   ],
   "source": [
    "print(dict4[2+7j])"
   ]
  },
  {
   "cell_type": "code",
   "execution_count": 16,
   "id": "1d6030d4",
   "metadata": {},
   "outputs": [
    {
     "name": "stdout",
     "output_type": "stream",
     "text": [
      "4.5\n"
     ]
    }
   ],
   "source": [
    "print(dict4[3.1])"
   ]
  },
  {
   "cell_type": "code",
   "execution_count": null,
   "id": "276e8f34",
   "metadata": {},
   "outputs": [],
   "source": []
  },
  {
   "cell_type": "code",
   "execution_count": 41,
   "id": "efd4a1ad",
   "metadata": {},
   "outputs": [
    {
     "data": {
      "text/plain": [
       "dict_keys(['Name', 'Mobile', 'EMail', 'list1', 'tuple1'])"
      ]
     },
     "execution_count": 41,
     "metadata": {},
     "output_type": "execute_result"
    }
   ],
   "source": [
    "d3.keys()"
   ]
  },
  {
   "cell_type": "code",
   "execution_count": 42,
   "id": "8e0f0eef",
   "metadata": {},
   "outputs": [
    {
     "data": {
      "text/plain": [
       "dict_values(['CourseMantra', 89123, 'we@gamil.com', [23, 22, 11], (4, 3, 5)])"
      ]
     },
     "execution_count": 42,
     "metadata": {},
     "output_type": "execute_result"
    }
   ],
   "source": [
    "d3.values()"
   ]
  },
  {
   "cell_type": "code",
   "execution_count": 44,
   "id": "a8c2f514",
   "metadata": {},
   "outputs": [],
   "source": [
    "d3[\"tuple1\"]=(1,2,3)"
   ]
  },
  {
   "cell_type": "code",
   "execution_count": 45,
   "id": "5b060239",
   "metadata": {},
   "outputs": [
    {
     "data": {
      "text/plain": [
       "dict_values(['CourseMantra', 89123, 'we@gamil.com', [23, 22, 11], (1, 2, 3)])"
      ]
     },
     "execution_count": 45,
     "metadata": {},
     "output_type": "execute_result"
    }
   ],
   "source": [
    "d3.values()"
   ]
  },
  {
   "cell_type": "code",
   "execution_count": 18,
   "id": "498d5b54",
   "metadata": {},
   "outputs": [],
   "source": [
    "keys = ('key1', 'key2', 'key3')"
   ]
  },
  {
   "cell_type": "code",
   "execution_count": 22,
   "id": "158e263e",
   "metadata": {},
   "outputs": [],
   "source": [
    "value=[\"Mantra\", 'Course', 'AI']"
   ]
  },
  {
   "cell_type": "code",
   "execution_count": 23,
   "id": "793ee74b",
   "metadata": {},
   "outputs": [],
   "source": [
    "dict5 = dict(zip(keys, value))"
   ]
  },
  {
   "cell_type": "code",
   "execution_count": 24,
   "id": "21031eaa",
   "metadata": {},
   "outputs": [
    {
     "data": {
      "text/plain": [
       "{'key1': 'Mantra', 'key2': 'Course', 'key3': 'AI'}"
      ]
     },
     "execution_count": 24,
     "metadata": {},
     "output_type": "execute_result"
    }
   ],
   "source": [
    "dict5"
   ]
  },
  {
   "cell_type": "code",
   "execution_count": 54,
   "id": "bd3d99e4",
   "metadata": {},
   "outputs": [
    {
     "ename": "TypeError",
     "evalue": "unhashable type: 'list'",
     "output_type": "error",
     "traceback": [
      "\u001b[1;31m---------------------------------------------------------------------------\u001b[0m",
      "\u001b[1;31mTypeError\u001b[0m                                 Traceback (most recent call last)",
      "Cell \u001b[1;32mIn[54], line 1\u001b[0m\n\u001b[1;32m----> 1\u001b[0m d4 \u001b[38;5;241m=\u001b[39m {[\u001b[38;5;241m1\u001b[39m,\u001b[38;5;241m2\u001b[39m,\u001b[38;5;241m3\u001b[39m]:\u001b[38;5;241m23\u001b[39m}\n",
      "\u001b[1;31mTypeError\u001b[0m: unhashable type: 'list'"
     ]
    }
   ],
   "source": [
    "d4 = {[1,2,3]:23}"
   ]
  },
  {
   "cell_type": "code",
   "execution_count": 55,
   "id": "0eb851a8",
   "metadata": {},
   "outputs": [],
   "source": [
    "d4 = {(1,2,3):23}"
   ]
  },
  {
   "cell_type": "code",
   "execution_count": 56,
   "id": "b032c86c",
   "metadata": {},
   "outputs": [
    {
     "name": "stdout",
     "output_type": "stream",
     "text": [
      "{(1, 2, 3): 23}\n"
     ]
    }
   ],
   "source": [
    "print(d4)"
   ]
  },
  {
   "cell_type": "code",
   "execution_count": 57,
   "id": "0c0300a8",
   "metadata": {},
   "outputs": [],
   "source": [
    "d5={\"key1\":23, \"key2\":{\"key3\":45, \"key4\":100}}"
   ]
  },
  {
   "cell_type": "code",
   "execution_count": 58,
   "id": "999f18eb",
   "metadata": {},
   "outputs": [
    {
     "name": "stdout",
     "output_type": "stream",
     "text": [
      "{'key3': 45, 'key4': 100}\n"
     ]
    }
   ],
   "source": [
    "print(d5[\"key2\"])"
   ]
  },
  {
   "cell_type": "code",
   "execution_count": 59,
   "id": "e0377d7b",
   "metadata": {},
   "outputs": [
    {
     "name": "stdout",
     "output_type": "stream",
     "text": [
      "100\n"
     ]
    }
   ],
   "source": [
    "print(d5[\"key2\"][\"key4\"])"
   ]
  },
  {
   "cell_type": "code",
   "execution_count": 60,
   "id": "31cc1e95",
   "metadata": {},
   "outputs": [],
   "source": [
    "d5[\"key2\"][\"key4\"]=500"
   ]
  },
  {
   "cell_type": "code",
   "execution_count": 61,
   "id": "31c22d7c",
   "metadata": {},
   "outputs": [
    {
     "name": "stdout",
     "output_type": "stream",
     "text": [
      "500\n"
     ]
    }
   ],
   "source": [
    "print(d5[\"key2\"][\"key4\"])"
   ]
  },
  {
   "cell_type": "code",
   "execution_count": 62,
   "id": "24891f9d",
   "metadata": {},
   "outputs": [
    {
     "name": "stdout",
     "output_type": "stream",
     "text": [
      "{'key3': 45, 'key4': 500}\n"
     ]
    }
   ],
   "source": [
    "print(d5.get(\"key2\"))"
   ]
  },
  {
   "cell_type": "markdown",
   "id": "e182132e",
   "metadata": {},
   "source": [
    "## Dictionary Comprehension"
   ]
  },
  {
   "cell_type": "code",
   "execution_count": 25,
   "id": "7c736442",
   "metadata": {},
   "outputs": [],
   "source": [
    "dict6 = {i:i**2 for i in range(5)}"
   ]
  },
  {
   "cell_type": "code",
   "execution_count": 26,
   "id": "7907b63a",
   "metadata": {},
   "outputs": [
    {
     "name": "stdout",
     "output_type": "stream",
     "text": [
      "{0: 0, 1: 1, 2: 4, 3: 9, 4: 16}\n"
     ]
    }
   ],
   "source": [
    "print(dict6)"
   ]
  },
  {
   "cell_type": "code",
   "execution_count": 27,
   "id": "abe02733",
   "metadata": {},
   "outputs": [
    {
     "name": "stdout",
     "output_type": "stream",
     "text": [
      "{'key1': 'Mantra', 'key2': 'Course', 'key3': 'AI'}\n"
     ]
    }
   ],
   "source": [
    "dict7 = {k:v for k,v in zip(keys,value)}\n",
    "print(dict7)"
   ]
  },
  {
   "cell_type": "code",
   "execution_count": null,
   "id": "9b86812e",
   "metadata": {},
   "outputs": [],
   "source": []
  }
 ],
 "metadata": {
  "kernelspec": {
   "display_name": "Python 3 (ipykernel)",
   "language": "python",
   "name": "python3"
  },
  "language_info": {
   "codemirror_mode": {
    "name": "ipython",
    "version": 3
   },
   "file_extension": ".py",
   "mimetype": "text/x-python",
   "name": "python",
   "nbconvert_exporter": "python",
   "pygments_lexer": "ipython3",
   "version": "3.10.9"
  }
 },
 "nbformat": 4,
 "nbformat_minor": 5
}
