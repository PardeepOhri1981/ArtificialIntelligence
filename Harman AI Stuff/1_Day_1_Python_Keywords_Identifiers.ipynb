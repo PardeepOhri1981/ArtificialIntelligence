{
 "cells": [
  {
   "cell_type": "code",
   "execution_count": 2,
   "id": "1eff0507",
   "metadata": {},
   "outputs": [
    {
     "name": "stdout",
     "output_type": "stream",
     "text": [
      "The Zen of Python, by Tim Peters\n",
      "\n",
      "Beautiful is better than ugly.\n",
      "Explicit is better than implicit.\n",
      "Simple is better than complex.\n",
      "Complex is better than complicated.\n",
      "Flat is better than nested.\n",
      "Sparse is better than dense.\n",
      "Readability counts.\n",
      "Special cases aren't special enough to break the rules.\n",
      "Although practicality beats purity.\n",
      "Errors should never pass silently.\n",
      "Unless explicitly silenced.\n",
      "In the face of ambiguity, refuse the temptation to guess.\n",
      "There should be one-- and preferably only one --obvious way to do it.\n",
      "Although that way may not be obvious at first unless you're Dutch.\n",
      "Now is better than never.\n",
      "Although never is often better than *right* now.\n",
      "If the implementation is hard to explain, it's a bad idea.\n",
      "If the implementation is easy to explain, it may be a good idea.\n",
      "Namespaces are one honking great idea -- let's do more of those!\n"
     ]
    }
   ],
   "source": [
    "import this"
   ]
  },
  {
   "cell_type": "code",
   "execution_count": 3,
   "id": "d5853d72",
   "metadata": {},
   "outputs": [
    {
     "name": "stdout",
     "output_type": "stream",
     "text": [
      "This is Course Myntra\n"
     ]
    }
   ],
   "source": [
    "print(\"This is Course Myntra\")"
   ]
  },
  {
   "cell_type": "code",
   "execution_count": 4,
   "id": "8a2ce37e",
   "metadata": {},
   "outputs": [
    {
     "name": "stdout",
     "output_type": "stream",
     "text": [
      "\n"
     ]
    }
   ],
   "source": [
    "print() # Press shift+tab after dot to see corresponding options available to variable6"
   ]
  },
  {
   "cell_type": "code",
   "execution_count": 5,
   "id": "46e6e355",
   "metadata": {},
   "outputs": [
    {
     "data": {
      "text/plain": [
       "3"
      ]
     },
     "execution_count": 5,
     "metadata": {},
     "output_type": "execute_result"
    }
   ],
   "source": [
    "1+2"
   ]
  },
  {
   "cell_type": "markdown",
   "id": "9eb7a100",
   "metadata": {},
   "source": [
    "Now if user wants to reuse number 3 then it must be store in some variable."
   ]
  },
  {
   "cell_type": "code",
   "execution_count": 6,
   "id": "65804a74",
   "metadata": {},
   "outputs": [],
   "source": [
    "number1 = 3"
   ]
  },
  {
   "cell_type": "code",
   "execution_count": 7,
   "id": "043db3f1",
   "metadata": {},
   "outputs": [
    {
     "name": "stdout",
     "output_type": "stream",
     "text": [
      "3\n"
     ]
    }
   ],
   "source": [
    "print(number1)"
   ]
  },
  {
   "cell_type": "markdown",
   "id": "7a846fdb",
   "metadata": {},
   "source": [
    "## Python is a case sensitive programming language"
   ]
  },
  {
   "cell_type": "code",
   "execution_count": 8,
   "id": "61d586a7",
   "metadata": {},
   "outputs": [],
   "source": [
    "variable_1 = 20\n",
    "Variable_1 = 10"
   ]
  },
  {
   "cell_type": "code",
   "execution_count": 9,
   "id": "445b5626",
   "metadata": {},
   "outputs": [
    {
     "name": "stdout",
     "output_type": "stream",
     "text": [
      "20\n"
     ]
    }
   ],
   "source": [
    "print(variable_1)"
   ]
  },
  {
   "cell_type": "code",
   "execution_count": 10,
   "id": "f0c36d3c",
   "metadata": {},
   "outputs": [
    {
     "name": "stdout",
     "output_type": "stream",
     "text": [
      "10\n"
     ]
    }
   ],
   "source": [
    "print(Variable_1)"
   ]
  },
  {
   "cell_type": "markdown",
   "id": "6d726c65",
   "metadata": {},
   "source": [
    "# Python Keywords\n",
    "\n",
    "\n",
    "* Keywords are reserved words in python\n",
    "\n",
    "* We cannot use a keyword as variable name, function name or any other identifiers\n",
    "\n",
    "* Keywords are case sensitive"
   ]
  },
  {
   "cell_type": "code",
   "execution_count": 11,
   "id": "623fd570",
   "metadata": {},
   "outputs": [
    {
     "name": "stdout",
     "output_type": "stream",
     "text": [
      "['False', 'None', 'True', 'and', 'as', 'assert', 'async', 'await', 'break', 'class', 'continue', 'def', 'del', 'elif', 'else', 'except', 'finally', 'for', 'from', 'global', 'if', 'import', 'in', 'is', 'lambda', 'nonlocal', 'not', 'or', 'pass', 'raise', 'return', 'try', 'while', 'with', 'yield']\n",
      "\n",
      " Total number of keywords :  35\n"
     ]
    }
   ],
   "source": [
    "# Get all keywords in Python 3.11.3\n",
    "import keyword\n",
    "\n",
    "print(keyword.kwlist)\n",
    "\n",
    "print(\"\\n Total number of keywords : \", len(keyword.kwlist))"
   ]
  },
  {
   "cell_type": "markdown",
   "id": "ea3f88d1",
   "metadata": {},
   "source": [
    "# Identifiers\n",
    "\n",
    "Identifiers is the name given to the entities like class, functions, variable etc. in Python. it helps differentiating one entity from another.\n",
    "\n",
    "Rules for writing the identifiers\n",
    "* Identifiers can be a combination of letters in lowercase(a-z) or uppercase(A-Z) or digits(0-9) or an underscore(_)\n",
    "* An identifiers cannot start with a digit. 1variable is invalid, but variable1 is perfectly fine.\n",
    "* Keywords cannot be used as identifiers."
   ]
  },
  {
   "cell_type": "code",
   "execution_count": 12,
   "id": "74ddafa7",
   "metadata": {},
   "outputs": [],
   "source": [
    "abc_12 = 12"
   ]
  },
  {
   "cell_type": "code",
   "execution_count": 13,
   "id": "968674e3",
   "metadata": {},
   "outputs": [
    {
     "ename": "SyntaxError",
     "evalue": "invalid decimal literal (1091650221.py, line 1)",
     "output_type": "error",
     "traceback": [
      "\u001b[1;36m  Cell \u001b[1;32mIn[13], line 1\u001b[1;36m\u001b[0m\n\u001b[1;33m    12_abc = 12\u001b[0m\n\u001b[1;37m      ^\u001b[0m\n\u001b[1;31mSyntaxError\u001b[0m\u001b[1;31m:\u001b[0m invalid decimal literal\n"
     ]
    }
   ],
   "source": [
    "12_abc = 12"
   ]
  },
  {
   "cell_type": "code",
   "execution_count": null,
   "id": "e0374615",
   "metadata": {},
   "outputs": [],
   "source": [
    "global = 1"
   ]
  },
  {
   "cell_type": "code",
   "execution_count": null,
   "id": "daa07c16",
   "metadata": {},
   "outputs": [],
   "source": [
    "a@ = 12 # Can't use special symbols as an identifiers"
   ]
  },
  {
   "cell_type": "code",
   "execution_count": null,
   "id": "cf1e7ec2",
   "metadata": {},
   "outputs": [],
   "source": []
  }
 ],
 "metadata": {
  "kernelspec": {
   "display_name": "Python 3 (ipykernel)",
   "language": "python",
   "name": "python3"
  },
  "language_info": {
   "codemirror_mode": {
    "name": "ipython",
    "version": 3
   },
   "file_extension": ".py",
   "mimetype": "text/x-python",
   "name": "python",
   "nbconvert_exporter": "python",
   "pygments_lexer": "ipython3",
   "version": "3.10.9"
  }
 },
 "nbformat": 4,
 "nbformat_minor": 5
}
