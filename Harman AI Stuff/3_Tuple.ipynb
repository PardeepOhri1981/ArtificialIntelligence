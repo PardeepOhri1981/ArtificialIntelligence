{
 "cells": [
  {
   "cell_type": "markdown",
   "id": "e57f93ef",
   "metadata": {},
   "source": [
    "# Tuple\n",
    "\n",
    "* A tuple is similar to list\n",
    "\n",
    "* The difference between list and tuple is that we cannot change the elements of tuple once it is assigned  whereas in the list, elements can be changed"
   ]
  },
  {
   "cell_type": "markdown",
   "id": "19d27c07",
   "metadata": {},
   "source": [
    "## Tuple Creation"
   ]
  },
  {
   "cell_type": "code",
   "execution_count": 2,
   "id": "aa3b9a5d",
   "metadata": {},
   "outputs": [
    {
     "name": "stdout",
     "output_type": "stream",
     "text": [
      "<class 'tuple'>\n"
     ]
    }
   ],
   "source": [
    "# Empty Tuple\n",
    "\n",
    "tuple1 = ()\n",
    "\n",
    "print(type(tuple1))"
   ]
  },
  {
   "cell_type": "code",
   "execution_count": 3,
   "id": "8ef620a7",
   "metadata": {},
   "outputs": [],
   "source": [
    "\n",
    "\n",
    "tuple2 = (3,5,2,7,5) # Integer Tuple\n",
    "\n",
    "tuple3 = (3.6,5.3,2.6,7,5.4) # Float Tuple\n",
    "\n",
    "tuple4 = ('one', 'two', 'five', 'zero') # String Tuple\n",
    "\n",
    "tuple5 = (3,5,'two',7+4j,5.9) # Mix datatype Tuple"
   ]
  },
  {
   "cell_type": "code",
   "execution_count": 4,
   "id": "9f9645e7",
   "metadata": {},
   "outputs": [
    {
     "name": "stdout",
     "output_type": "stream",
     "text": [
      "<class 'int'>\n",
      "<class 'int'>\n",
      "<class 'str'>\n",
      "<class 'complex'>\n",
      "<class 'float'>\n"
     ]
    }
   ],
   "source": [
    "for ele in tuple5:\n",
    "    print(type(ele))"
   ]
  },
  {
   "cell_type": "code",
   "execution_count": 5,
   "id": "17778d76",
   "metadata": {},
   "outputs": [
    {
     "ename": "TypeError",
     "evalue": "'tuple' object does not support item assignment",
     "output_type": "error",
     "traceback": [
      "\u001b[1;31m---------------------------------------------------------------------------\u001b[0m",
      "\u001b[1;31mTypeError\u001b[0m                                 Traceback (most recent call last)",
      "Cell \u001b[1;32mIn[5], line 1\u001b[0m\n\u001b[1;32m----> 1\u001b[0m tuple5[\u001b[38;5;241m0\u001b[39m] \u001b[38;5;241m=\u001b[39m \u001b[38;5;241m2.3\u001b[39m\n",
      "\u001b[1;31mTypeError\u001b[0m: 'tuple' object does not support item assignment"
     ]
    }
   ],
   "source": [
    "tuple5[0] = 2.3"
   ]
  },
  {
   "cell_type": "code",
   "execution_count": 6,
   "id": "927b1c1d",
   "metadata": {},
   "outputs": [
    {
     "name": "stdout",
     "output_type": "stream",
     "text": [
      "<class 'str'>\n"
     ]
    }
   ],
   "source": [
    "tuple6 = ('CourseMantra')\n",
    "print(type(tuple6))"
   ]
  },
  {
   "cell_type": "code",
   "execution_count": 7,
   "id": "84fa85e2",
   "metadata": {},
   "outputs": [
    {
     "name": "stdout",
     "output_type": "stream",
     "text": [
      "<class 'tuple'>\n"
     ]
    }
   ],
   "source": [
    "tuple6 = ('CourseMantra',)\n",
    "print(type(tuple6))"
   ]
  },
  {
   "cell_type": "code",
   "execution_count": 8,
   "id": "2ff44f84",
   "metadata": {},
   "outputs": [
    {
     "ename": "AttributeError",
     "evalue": "'tuple' object has no attribute 'append'",
     "output_type": "error",
     "traceback": [
      "\u001b[1;31m---------------------------------------------------------------------------\u001b[0m",
      "\u001b[1;31mAttributeError\u001b[0m                            Traceback (most recent call last)",
      "Cell \u001b[1;32mIn[8], line 1\u001b[0m\n\u001b[1;32m----> 1\u001b[0m \u001b[43mtuple6\u001b[49m\u001b[38;5;241;43m.\u001b[39;49m\u001b[43mappend\u001b[49m(\u001b[38;5;241m10\u001b[39m)\n",
      "\u001b[1;31mAttributeError\u001b[0m: 'tuple' object has no attribute 'append'"
     ]
    }
   ],
   "source": [
    "tuple6."
   ]
  },
  {
   "cell_type": "code",
   "execution_count": 11,
   "id": "f185d457",
   "metadata": {},
   "outputs": [],
   "source": [
    "tuple7 = (2,5,1,6,'one',[4,2,[6,'two']])\n"
   ]
  },
  {
   "cell_type": "code",
   "execution_count": 12,
   "id": "5e83e673",
   "metadata": {},
   "outputs": [
    {
     "ename": "TypeError",
     "evalue": "'tuple' object does not support item assignment",
     "output_type": "error",
     "traceback": [
      "\u001b[1;31m---------------------------------------------------------------------------\u001b[0m",
      "\u001b[1;31mTypeError\u001b[0m                                 Traceback (most recent call last)",
      "Cell \u001b[1;32mIn[12], line 1\u001b[0m\n\u001b[1;32m----> 1\u001b[0m tuple7[\u001b[38;5;241m0\u001b[39m]\u001b[38;5;241m=\u001b[39m\u001b[38;5;241m1\u001b[39m\n",
      "\u001b[1;31mTypeError\u001b[0m: 'tuple' object does not support item assignment"
     ]
    }
   ],
   "source": [
    "tuple7[0]=1"
   ]
  },
  {
   "cell_type": "code",
   "execution_count": 13,
   "id": "d939be35",
   "metadata": {},
   "outputs": [],
   "source": [
    "tuple7[5][1]=1"
   ]
  },
  {
   "cell_type": "code",
   "execution_count": 14,
   "id": "0c360d5a",
   "metadata": {},
   "outputs": [
    {
     "name": "stdout",
     "output_type": "stream",
     "text": [
      "(2, 5, 1, 6, 'one', [4, 1, [6, 'two']])\n"
     ]
    }
   ],
   "source": [
    "print(tuple7)"
   ]
  },
  {
   "cell_type": "markdown",
   "id": "50ef0a52",
   "metadata": {},
   "source": [
    "## Tuple Deletion"
   ]
  },
  {
   "cell_type": "code",
   "execution_count": 15,
   "id": "c320dadd",
   "metadata": {},
   "outputs": [],
   "source": [
    "# We cannot change or delete any element from tuple\n",
    "\n",
    "# We can delete whole tuple onkly\n",
    "\n",
    "del tuple7"
   ]
  },
  {
   "cell_type": "code",
   "execution_count": 16,
   "id": "88fe84c4",
   "metadata": {},
   "outputs": [
    {
     "ename": "NameError",
     "evalue": "name 'tuple7' is not defined",
     "output_type": "error",
     "traceback": [
      "\u001b[1;31m---------------------------------------------------------------------------\u001b[0m",
      "\u001b[1;31mNameError\u001b[0m                                 Traceback (most recent call last)",
      "Cell \u001b[1;32mIn[16], line 1\u001b[0m\n\u001b[1;32m----> 1\u001b[0m \u001b[38;5;28mprint\u001b[39m(\u001b[43mtuple7\u001b[49m)\n",
      "\u001b[1;31mNameError\u001b[0m: name 'tuple7' is not defined"
     ]
    }
   ],
   "source": [
    "print(tuple7)"
   ]
  },
  {
   "cell_type": "markdown",
   "id": "f3220d83",
   "metadata": {},
   "source": [
    "## Tuple Count"
   ]
  },
  {
   "cell_type": "code",
   "execution_count": 3,
   "id": "8f11fe3c",
   "metadata": {},
   "outputs": [
    {
     "data": {
      "text/plain": [
       "2"
      ]
     },
     "execution_count": 3,
     "metadata": {},
     "output_type": "execute_result"
    }
   ],
   "source": [
    "t = (2,5,2,7,5,6,87,3)\n",
    "\n",
    "t.count(2) # Get the frequency of element appears in tuple"
   ]
  },
  {
   "cell_type": "markdown",
   "id": "8b36e228",
   "metadata": {},
   "source": [
    "## Tuple Index"
   ]
  },
  {
   "cell_type": "code",
   "execution_count": 4,
   "id": "7671fadd",
   "metadata": {},
   "outputs": [
    {
     "data": {
      "text/plain": [
       "0"
      ]
     },
     "execution_count": 4,
     "metadata": {},
     "output_type": "execute_result"
    }
   ],
   "source": [
    "t = (2,5,2,7,5,6,87,3)\n",
    "\n",
    "t.index(2)"
   ]
  },
  {
   "cell_type": "markdown",
   "id": "20fbe046",
   "metadata": {},
   "source": [
    "## Tuple Membership"
   ]
  },
  {
   "cell_type": "code",
   "execution_count": 7,
   "id": "bb0ebda3",
   "metadata": {},
   "outputs": [
    {
     "name": "stdout",
     "output_type": "stream",
     "text": [
      "False\n"
     ]
    }
   ],
   "source": [
    "if 50 in t:\n",
    "    print('True')\n",
    "else:\n",
    "    print('False')"
   ]
  },
  {
   "cell_type": "markdown",
   "id": "09fe75f6",
   "metadata": {},
   "source": [
    "## Tuple Function"
   ]
  },
  {
   "cell_type": "code",
   "execution_count": 8,
   "id": "04c6a990",
   "metadata": {},
   "outputs": [
    {
     "name": "stdout",
     "output_type": "stream",
     "text": [
      "8\n"
     ]
    }
   ],
   "source": [
    "# Length of Tuple\n",
    "\n",
    "print(len(t))"
   ]
  },
  {
   "cell_type": "code",
   "execution_count": 9,
   "id": "31d0c4ab",
   "metadata": {},
   "outputs": [
    {
     "name": "stdout",
     "output_type": "stream",
     "text": [
      "[2, 2, 3, 5, 5, 6, 7, 87]\n"
     ]
    }
   ],
   "source": [
    "new_t = sorted(t)\n",
    "print(new_t)"
   ]
  },
  {
   "cell_type": "code",
   "execution_count": 10,
   "id": "b735919c",
   "metadata": {},
   "outputs": [
    {
     "name": "stdout",
     "output_type": "stream",
     "text": [
      "[100, 2, 3, 5, 5, 6, 7, 87]\n"
     ]
    }
   ],
   "source": [
    "new_t[0]=100\n",
    "print(new_t)"
   ]
  },
  {
   "cell_type": "code",
   "execution_count": 11,
   "id": "74c921e3",
   "metadata": {},
   "outputs": [
    {
     "name": "stdout",
     "output_type": "stream",
     "text": [
      "2\n",
      "100\n",
      "215\n"
     ]
    }
   ],
   "source": [
    "print(min(new_t))\n",
    "print(max(new_t))\n",
    "print(sum(new_t))"
   ]
  },
  {
   "cell_type": "code",
   "execution_count": null,
   "id": "db7aa251",
   "metadata": {},
   "outputs": [],
   "source": []
  }
 ],
 "metadata": {
  "kernelspec": {
   "display_name": "Python 3 (ipykernel)",
   "language": "python",
   "name": "python3"
  },
  "language_info": {
   "codemirror_mode": {
    "name": "ipython",
    "version": 3
   },
   "file_extension": ".py",
   "mimetype": "text/x-python",
   "name": "python",
   "nbconvert_exporter": "python",
   "pygments_lexer": "ipython3",
   "version": "3.10.9"
  }
 },
 "nbformat": 4,
 "nbformat_minor": 5
}
