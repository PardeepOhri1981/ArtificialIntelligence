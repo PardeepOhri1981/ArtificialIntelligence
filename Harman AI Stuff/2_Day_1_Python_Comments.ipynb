{
 "cells": [
  {
   "cell_type": "markdown",
   "id": "3364b377",
   "metadata": {},
   "source": [
    "# Python Comments\n",
    "\n",
    "Comments are line that exist in computer programs that are ignored by the compiler and interpreters.\n",
    "\n",
    "Including comments in the program makes code more readable for humans as it provides some information or explanation about what each part of a program is doing.\n",
    "\n",
    "In general, it is a good idea to write comments while you are writing or updating a program as it is easy to forget your thoughts process later on, and comments written later may be useful in the long term."
   ]
  },
  {
   "cell_type": "markdown",
   "id": "8247079e",
   "metadata": {},
   "source": [
    "In python, we use hash(#) symbol to start writing a comment"
   ]
  },
  {
   "cell_type": "code",
   "execution_count": 1,
   "id": "7227a38e",
   "metadata": {},
   "outputs": [
    {
     "name": "stdout",
     "output_type": "stream",
     "text": [
      "Hello, World\n"
     ]
    }
   ],
   "source": [
    "# Print Hello, world to console\n",
    "print('Hello, World')"
   ]
  },
  {
   "cell_type": "markdown",
   "id": "0a69e40b",
   "metadata": {},
   "source": [
    "# Multi Line Comments\n",
    "\n",
    "if we have comments that extend multiple lines, one way of doing it is to use hash(#) in the beginning of the line.\n"
   ]
  },
  {
   "cell_type": "code",
   "execution_count": 2,
   "id": "1fd8253f",
   "metadata": {},
   "outputs": [],
   "source": [
    "# This is CourseMantra\n",
    "# It offers sessions on Python, Machine Learning and Deep Learning.\n",
    "# Multiple Lines"
   ]
  },
  {
   "cell_type": "markdown",
   "id": "0127d294",
   "metadata": {},
   "source": [
    "Another way of doing this is to use triple quotes, either ''' or \"\"\"."
   ]
  },
  {
   "cell_type": "code",
   "execution_count": 3,
   "id": "9da8d209",
   "metadata": {},
   "outputs": [
    {
     "data": {
      "text/plain": [
       "'This is an\\nexample of\\nmulti-line comments'"
      ]
     },
     "execution_count": 3,
     "metadata": {},
     "output_type": "execute_result"
    }
   ],
   "source": [
    "'''This is an\n",
    "example of\n",
    "multi-line comments'''"
   ]
  },
  {
   "cell_type": "code",
   "execution_count": 4,
   "id": "f648f4d8",
   "metadata": {},
   "outputs": [
    {
     "data": {
      "text/plain": [
       "'This is an\\nexample of\\nmulti-line comments'"
      ]
     },
     "execution_count": 4,
     "metadata": {},
     "output_type": "execute_result"
    }
   ],
   "source": [
    "\"\"\"This is an\n",
    "example of\n",
    "multi-line comments\"\"\""
   ]
  },
  {
   "cell_type": "markdown",
   "id": "03dfd6c4",
   "metadata": {},
   "source": [
    "# Python Indentation\n",
    "\n",
    "* Most of the programming language like C, C++, Java use braces {} to define a block of a code. Python uses identation.\n",
    "* A code block (body of a function, loop etc) starts with identation and ends with the first unindented line. The amount of identation is up to you, but it must be consistent through out the block.\n",
    "* Generally four  whitespaces are used for indentation and is preferred over tabs."
   ]
  },
  {
   "cell_type": "code",
   "execution_count": 5,
   "id": "a2c2fbd4",
   "metadata": {},
   "outputs": [
    {
     "name": "stdout",
     "output_type": "stream",
     "text": [
      "0\n",
      "1\n",
      "2\n",
      "3\n",
      "4\n",
      "5\n",
      "6\n",
      "7\n",
      "8\n",
      "9\n"
     ]
    }
   ],
   "source": [
    "for i in range(10):\n",
    "    print(i)"
   ]
  },
  {
   "cell_type": "markdown",
   "id": "f49eb83b",
   "metadata": {},
   "source": [
    "Indentation can be ignored in line continuation. but it's a good idea to always indent. It makes the code more readable."
   ]
  },
  {
   "cell_type": "code",
   "execution_count": 6,
   "id": "08de27d9",
   "metadata": {},
   "outputs": [
    {
     "name": "stdout",
     "output_type": "stream",
     "text": [
      "0\n",
      "0\n",
      "1\n",
      "2\n",
      "2\n",
      "4\n",
      "3\n",
      "6\n",
      "4\n",
      "8\n",
      "5\n",
      "10\n",
      "6\n",
      "12\n",
      "7\n",
      "14\n",
      "8\n",
      "16\n",
      "9\n",
      "18\n",
      "10\n",
      "20\n",
      "11\n",
      "22\n",
      "12\n",
      "24\n",
      "13\n",
      "26\n",
      "14\n",
      "28\n",
      "15\n",
      "30\n",
      "16\n",
      "32\n",
      "17\n",
      "34\n",
      "18\n",
      "36\n",
      "19\n",
      "38\n",
      "20\n",
      "40\n",
      "21\n",
      "42\n",
      "22\n",
      "44\n",
      "23\n",
      "46\n",
      "24\n",
      "48\n",
      "25\n",
      "50\n",
      "26\n",
      "52\n",
      "27\n",
      "54\n",
      "28\n",
      "56\n",
      "29\n",
      "58\n",
      "30\n",
      "60\n",
      "31\n",
      "62\n",
      "32\n",
      "64\n",
      "33\n",
      "66\n",
      "34\n",
      "68\n",
      "35\n",
      "70\n",
      "36\n",
      "72\n",
      "37\n",
      "74\n",
      "38\n",
      "76\n",
      "39\n",
      "78\n",
      "40\n",
      "80\n",
      "41\n",
      "82\n",
      "42\n",
      "84\n",
      "43\n",
      "86\n",
      "44\n",
      "88\n",
      "45\n",
      "90\n",
      "46\n",
      "92\n",
      "47\n",
      "94\n",
      "48\n",
      "96\n",
      "49\n",
      "98\n",
      "50\n",
      "100\n",
      "51\n",
      "102\n",
      "52\n",
      "104\n",
      "53\n",
      "106\n",
      "54\n",
      "108\n",
      "55\n",
      "110\n",
      "56\n",
      "112\n",
      "57\n",
      "114\n",
      "58\n",
      "116\n",
      "59\n",
      "118\n",
      "60\n",
      "120\n",
      "61\n",
      "122\n",
      "62\n",
      "124\n",
      "63\n",
      "126\n",
      "64\n",
      "128\n",
      "65\n",
      "130\n",
      "66\n",
      "132\n",
      "67\n",
      "134\n",
      "68\n",
      "136\n",
      "69\n",
      "138\n",
      "70\n",
      "140\n",
      "71\n",
      "142\n",
      "72\n",
      "144\n",
      "73\n",
      "146\n",
      "74\n",
      "148\n",
      "75\n",
      "150\n",
      "76\n",
      "152\n",
      "77\n",
      "154\n",
      "78\n",
      "156\n",
      "79\n",
      "158\n",
      "80\n",
      "160\n",
      "81\n",
      "162\n",
      "82\n",
      "164\n",
      "83\n",
      "166\n",
      "84\n",
      "168\n",
      "85\n",
      "170\n",
      "86\n",
      "172\n",
      "87\n",
      "174\n",
      "88\n",
      "176\n",
      "89\n",
      "178\n",
      "90\n",
      "180\n",
      "91\n",
      "182\n",
      "92\n",
      "184\n",
      "93\n",
      "186\n",
      "94\n",
      "188\n",
      "95\n",
      "190\n",
      "96\n",
      "192\n",
      "97\n",
      "194\n",
      "98\n",
      "196\n",
      "99\n",
      "198\n",
      "100\n"
     ]
    }
   ],
   "source": [
    "for i in range(100):\n",
    "    print(i)\n",
    "    print(i*2)\n",
    "print(100)"
   ]
  },
  {
   "cell_type": "code",
   "execution_count": 7,
   "id": "b7953b4d",
   "metadata": {},
   "outputs": [
    {
     "name": "stdout",
     "output_type": "stream",
     "text": [
      "Data Science\n"
     ]
    }
   ],
   "source": [
    "if True:\n",
    "    print('Data Science')\n",
    "    str=\"CodeMantra\""
   ]
  },
  {
   "cell_type": "code",
   "execution_count": 8,
   "id": "44f1cdd3",
   "metadata": {},
   "outputs": [
    {
     "name": "stdout",
     "output_type": "stream",
     "text": [
      "Data Science\n"
     ]
    }
   ],
   "source": [
    "if True: print(\"Data Science\"); str = \"CodeMantra\""
   ]
  },
  {
   "cell_type": "markdown",
   "id": "052321da",
   "metadata": {},
   "source": [
    "# Python Statement\n",
    "\n",
    "Instuctions that a python interpreter can execute are called statements"
   ]
  },
  {
   "cell_type": "code",
   "execution_count": 9,
   "id": "ea8b36c8",
   "metadata": {},
   "outputs": [],
   "source": [
    "variable1 = 1 # Single Statement"
   ]
  },
  {
   "cell_type": "markdown",
   "id": "0b70035b",
   "metadata": {},
   "source": [
    "## Multi-Line Statement\n",
    "\n",
    "In Python, end of a statement is marked by a newline chanaracter. but we can make a statement extend over multiple lines with the line continuation character()"
   ]
  },
  {
   "cell_type": "code",
   "execution_count": 10,
   "id": "fef33c2e",
   "metadata": {},
   "outputs": [],
   "source": [
    "variable2 = 1 + 2 + 3 + \\\n",
    "    4 + 5 + 6"
   ]
  },
  {
   "cell_type": "code",
   "execution_count": 11,
   "id": "79de22ba",
   "metadata": {},
   "outputs": [
    {
     "name": "stdout",
     "output_type": "stream",
     "text": [
      "21\n"
     ]
    }
   ],
   "source": [
    "print(variable2)"
   ]
  },
  {
   "cell_type": "code",
   "execution_count": 12,
   "id": "fce3f462",
   "metadata": {},
   "outputs": [
    {
     "name": "stdout",
     "output_type": "stream",
     "text": [
      "21\n"
     ]
    }
   ],
   "source": [
    "# Another way is to use paranthesis\n",
    "\n",
    "variable2 = (1 + 2 + 3 +\n",
    "            4 + 5 + 6)\n",
    "\n",
    "print(variable2)"
   ]
  },
  {
   "cell_type": "code",
   "execution_count": 13,
   "id": "7bf1c2d9",
   "metadata": {},
   "outputs": [],
   "source": [
    "variable1 = 10; variable2 = 20; variable3 = 30 #Put multiple statements in a single line using ;"
   ]
  },
  {
   "cell_type": "code",
   "execution_count": 14,
   "id": "0473b2f8",
   "metadata": {},
   "outputs": [
    {
     "name": "stdout",
     "output_type": "stream",
     "text": [
      "10\n",
      "20\n",
      "30\n"
     ]
    }
   ],
   "source": [
    "print(variable1)\n",
    "print(variable2)\n",
    "print(variable3)"
   ]
  },
  {
   "cell_type": "code",
   "execution_count": null,
   "id": "57df1f97",
   "metadata": {},
   "outputs": [],
   "source": []
  }
 ],
 "metadata": {
  "kernelspec": {
   "display_name": "Python 3 (ipykernel)",
   "language": "python",
   "name": "python3"
  },
  "language_info": {
   "codemirror_mode": {
    "name": "ipython",
    "version": 3
   },
   "file_extension": ".py",
   "mimetype": "text/x-python",
   "name": "python",
   "nbconvert_exporter": "python",
   "pygments_lexer": "ipython3",
   "version": "3.10.9"
  }
 },
 "nbformat": 4,
 "nbformat_minor": 5
}
