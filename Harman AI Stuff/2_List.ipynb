{
 "cells": [
  {
   "cell_type": "markdown",
   "id": "c64ed509",
   "metadata": {},
   "source": [
    "# Python List\n",
    "\n",
    "### Data Structure\n",
    "\n",
    "A data structure is a colleciton of data elements(such as numbers or characters-or even other data structures) that is structured in some way. For example, by numbering the elements. The most basic data structure in Python is 'Sequence'\n",
    "\n",
    "* List is one of the sequence data structure\n",
    "* Lists are collections of items(Strings, integers or even other lists)\n",
    "* Lists are enclosed in []\n",
    "* Each item in the list has an assigned index value "
   ]
  },
  {
   "cell_type": "markdown",
   "id": "972fa8cb",
   "metadata": {},
   "source": [
    "## List Creation"
   ]
  },
  {
   "cell_type": "code",
   "execution_count": 1,
   "id": "dba8a67b",
   "metadata": {},
   "outputs": [],
   "source": [
    "emptyList = []"
   ]
  },
  {
   "cell_type": "code",
   "execution_count": 2,
   "id": "5d2f2487",
   "metadata": {},
   "outputs": [
    {
     "name": "stdout",
     "output_type": "stream",
     "text": [
      "<class 'list'>\n"
     ]
    }
   ],
   "source": [
    "print(type(emptyList))"
   ]
  },
  {
   "cell_type": "code",
   "execution_count": 5,
   "id": "ee8ffef5",
   "metadata": {},
   "outputs": [],
   "source": [
    "lst1 = ['one', 'two', 'three', 'four', 'five'] # list of string\n",
    "\n",
    "lst2 = [1, 2, 3, 4, 5] # list of integer\n",
    "\n",
    "lst3 = [1.0, 2.0, 3.0, 4.0, 5.0] # list of float\n",
    "\n",
    "lst4 = [1, 2, 'one', 3.0, 'four', 5, 4.0, [2, 3, 'one']] # list of different datatypes"
   ]
  },
  {
   "cell_type": "code",
   "execution_count": 6,
   "id": "a2ccfd10",
   "metadata": {},
   "outputs": [
    {
     "name": "stdout",
     "output_type": "stream",
     "text": [
      "['one', 'two', 'three', 'four', 'five']\n",
      "[1, 2, 3, 4, 5]\n",
      "[1.0, 2.0, 3.0, 4.0, 5.0]\n",
      "[1, 2, 'one', 3.0, 'four', 5, 4.0, [2, 3, 'one']]\n"
     ]
    }
   ],
   "source": [
    "print(lst1)\n",
    "print(lst2)\n",
    "print(lst3)\n",
    "print(lst4)"
   ]
  },
  {
   "cell_type": "code",
   "execution_count": 10,
   "id": "f6c93fab",
   "metadata": {},
   "outputs": [
    {
     "name": "stdout",
     "output_type": "stream",
     "text": [
      "<class 'int'>\n",
      "<class 'int'>\n",
      "<class 'str'>\n",
      "<class 'float'>\n",
      "<class 'str'>\n",
      "<class 'int'>\n",
      "<class 'float'>\n",
      "<class 'list'>\n"
     ]
    }
   ],
   "source": [
    "for ele in lst4:\n",
    "    print(type(ele))"
   ]
  },
  {
   "cell_type": "code",
   "execution_count": 8,
   "id": "d9343e6f",
   "metadata": {},
   "outputs": [
    {
     "name": "stdout",
     "output_type": "stream",
     "text": [
      "<class 'list'>\n",
      "<class 'list'>\n",
      "<class 'list'>\n",
      "<class 'list'>\n"
     ]
    }
   ],
   "source": [
    "list1 = [lst1, lst2,lst3,lst4]\n",
    "for ele in list1:\n",
    "    print(type(ele))"
   ]
  },
  {
   "cell_type": "markdown",
   "id": "963368eb",
   "metadata": {},
   "source": [
    "## List Length"
   ]
  },
  {
   "cell_type": "code",
   "execution_count": 11,
   "id": "e9c4774a",
   "metadata": {},
   "outputs": [
    {
     "name": "stdout",
     "output_type": "stream",
     "text": [
      "4\n"
     ]
    }
   ],
   "source": [
    "print(len(list1))"
   ]
  },
  {
   "cell_type": "markdown",
   "id": "2dac9ba1",
   "metadata": {},
   "source": [
    "## List Append"
   ]
  },
  {
   "cell_type": "code",
   "execution_count": 14,
   "id": "d94bf60f",
   "metadata": {},
   "outputs": [],
   "source": [
    "list1.append(3) # Will append element 3 at the end of list 1"
   ]
  },
  {
   "cell_type": "code",
   "execution_count": 13,
   "id": "b11db6ef",
   "metadata": {},
   "outputs": [
    {
     "name": "stdout",
     "output_type": "stream",
     "text": [
      "[['one', 'two', 'three', 'four', 'five'], [1, 2, 3, 4, 5], [1.0, 2.0, 3.0, 4.0, 5.0], [1, 2, 'one', 3.0, 'four', 5, 4.0, [2, 3, 'one']], 3]\n"
     ]
    }
   ],
   "source": [
    "print(list1)"
   ]
  },
  {
   "cell_type": "code",
   "execution_count": 22,
   "id": "99b2e28f",
   "metadata": {},
   "outputs": [
    {
     "name": "stdout",
     "output_type": "stream",
     "text": [
      "['one', 'three', 'four', 'five', 't', 'e', 'n', 'w', ['eleven', 'twelve']]\n"
     ]
    }
   ],
   "source": [
    "lst1.append(['eleven', 'twelve'])\n",
    "print(lst1)"
   ]
  },
  {
   "cell_type": "code",
   "execution_count": 24,
   "id": "514bd54f",
   "metadata": {},
   "outputs": [
    {
     "name": "stdout",
     "output_type": "stream",
     "text": [
      "[1, 2, 3, 4, 5]\n"
     ]
    }
   ],
   "source": [
    "print(lst2)"
   ]
  },
  {
   "cell_type": "code",
   "execution_count": 25,
   "id": "26e1b38b",
   "metadata": {},
   "outputs": [],
   "source": [
    "lst2.append(7)"
   ]
  },
  {
   "cell_type": "code",
   "execution_count": 26,
   "id": "0cf26b32",
   "metadata": {},
   "outputs": [
    {
     "name": "stdout",
     "output_type": "stream",
     "text": [
      "[1, 2, 3, 4, 5, 7]\n"
     ]
    }
   ],
   "source": [
    "print(lst2)"
   ]
  },
  {
   "cell_type": "markdown",
   "id": "4cc5e325",
   "metadata": {},
   "source": [
    "## List Remove"
   ]
  },
  {
   "cell_type": "code",
   "execution_count": 16,
   "id": "70b049a2",
   "metadata": {},
   "outputs": [
    {
     "name": "stdout",
     "output_type": "stream",
     "text": [
      "['one', 'three', 'four', 'five']\n"
     ]
    }
   ],
   "source": [
    "lst1.remove('two')\n",
    "print(lst1)"
   ]
  },
  {
   "cell_type": "markdown",
   "id": "e05a2cd7",
   "metadata": {},
   "source": [
    "## List Extend"
   ]
  },
  {
   "cell_type": "code",
   "execution_count": 17,
   "id": "664364ce",
   "metadata": {},
   "outputs": [
    {
     "name": "stdout",
     "output_type": "stream",
     "text": [
      "['one', 'three', 'four', 'five', 't', 'e', 'n']\n"
     ]
    }
   ],
   "source": [
    "lst1.extend('ten')\n",
    "print(lst1)"
   ]
  },
  {
   "cell_type": "code",
   "execution_count": 18,
   "id": "140b4f72",
   "metadata": {},
   "outputs": [
    {
     "name": "stdout",
     "output_type": "stream",
     "text": [
      "['one', 'three', 'four', 'five', 't', 'e', 'n', 'w']\n"
     ]
    }
   ],
   "source": [
    "lst1.extend('w')\n",
    "print(lst1)"
   ]
  },
  {
   "cell_type": "code",
   "execution_count": 27,
   "id": "739e0c8d",
   "metadata": {},
   "outputs": [
    {
     "name": "stdout",
     "output_type": "stream",
     "text": [
      "['one', 'three', 'four', 'five', 't', 'e', 'n', 'w', ['eleven', 'twelve']]\n"
     ]
    }
   ],
   "source": [
    "print(lst1)"
   ]
  },
  {
   "cell_type": "code",
   "execution_count": 53,
   "id": "af0619c8",
   "metadata": {},
   "outputs": [
    {
     "name": "stdout",
     "output_type": "stream",
     "text": [
      "[3, 4, 2, 6, 7, 5, [4, 8]]\n"
     ]
    }
   ],
   "source": [
    "lst1 = [3,4,2,6,7]\n",
    "lst2 = [5,[4,8]]\n",
    "\n",
    "lst1.extend(lst2)\n",
    "\n",
    "print(lst1)"
   ]
  },
  {
   "cell_type": "code",
   "execution_count": 54,
   "id": "44d9f6ae",
   "metadata": {},
   "outputs": [
    {
     "name": "stdout",
     "output_type": "stream",
     "text": [
      "[3, 4, 2, 6, 7, [5, [4, 8]]]\n"
     ]
    }
   ],
   "source": [
    "lst1 = [3,4,2,6,7]\n",
    "lst2 = [5,[4,8]]\n",
    "\n",
    "lst1.append(lst2)\n",
    "\n",
    "print(lst1)"
   ]
  },
  {
   "cell_type": "markdown",
   "id": "da0d91cb",
   "metadata": {},
   "source": [
    "## List Delete"
   ]
  },
  {
   "cell_type": "code",
   "execution_count": 28,
   "id": "e3f656e6",
   "metadata": {},
   "outputs": [
    {
     "name": "stdout",
     "output_type": "stream",
     "text": [
      "['one', 'two', 'four', 'five']\n"
     ]
    }
   ],
   "source": [
    "# del to remove item based on index position\n",
    "\n",
    "lst4 = ['one', 'two', 'three', 'four', 'five']\n",
    "\n",
    "\n",
    "del lst4[2]\n",
    "\n",
    "print(lst4)"
   ]
  },
  {
   "cell_type": "code",
   "execution_count": 29,
   "id": "12ce5184",
   "metadata": {},
   "outputs": [
    {
     "name": "stdout",
     "output_type": "stream",
     "text": [
      "two\n",
      "['one', 'four', 'five']\n"
     ]
    }
   ],
   "source": [
    "# Or we can use pop method\n",
    "\n",
    "deleted = lst4.pop(1)\n",
    "print(deleted)\n",
    "print(lst4)"
   ]
  },
  {
   "cell_type": "markdown",
   "id": "f90bdc9c",
   "metadata": {},
   "source": [
    "## List related keywords in python"
   ]
  },
  {
   "cell_type": "code",
   "execution_count": 32,
   "id": "6fcb6a01",
   "metadata": {},
   "outputs": [
    {
     "name": "stdout",
     "output_type": "stream",
     "text": [
      "Element not present\n"
     ]
    }
   ],
   "source": [
    "lst = ['one', 'two', 'three', 'four', 'five', 1, 3, 2.5, 2+6j, 'CourseMantra']\n",
    "\n",
    "if 2 + 7j in lst:\n",
    "    print('Element present')\n",
    "else:\n",
    "    print('Element not present')"
   ]
  },
  {
   "cell_type": "code",
   "execution_count": 33,
   "id": "835d754c",
   "metadata": {},
   "outputs": [
    {
     "name": "stdout",
     "output_type": "stream",
     "text": [
      "Element not present\n"
     ]
    }
   ],
   "source": [
    "if 2 + 7j not in lst:\n",
    "    print('Element not present')\n",
    "else:\n",
    "    print('Element present')"
   ]
  },
  {
   "cell_type": "markdown",
   "id": "91573dbd",
   "metadata": {},
   "source": [
    "## List Sorting\n",
    "\n",
    "The easiest way to sort a List is the sorted(list) function.\n",
    "\n",
    "That takes a list and returns a new list with those elements in sorted order.\n",
    "\n",
    "The original list is not changed\n",
    "\n",
    "The sorted() optional argument reverse=True. e.g. sorted(list, reverse=True), makes it sort backward."
   ]
  },
  {
   "cell_type": "code",
   "execution_count": 34,
   "id": "140472f3",
   "metadata": {},
   "outputs": [
    {
     "name": "stdout",
     "output_type": "stream",
     "text": [
      "Original List::[4, 2, 7, 1, 2, 3, 1, 8]\n",
      "Sorted List::[1, 1, 2, 2, 3, 4, 7, 8]\n"
     ]
    }
   ],
   "source": [
    "list1 = [4,2,7,1,2,3,1,8]\n",
    "\n",
    "sorted_lst = sorted(list1)\n",
    "\n",
    "print('Original List::{}'.format(list1))\n",
    "\n",
    "\n",
    "print('Sorted List::{}'.format(sorted_lst))"
   ]
  },
  {
   "cell_type": "code",
   "execution_count": 35,
   "id": "ceda5ba0",
   "metadata": {},
   "outputs": [
    {
     "name": "stdout",
     "output_type": "stream",
     "text": [
      "Original List::[4, 2, 7, 1, 2, 3, 1, 8]\n",
      "Sorted List::[8, 7, 4, 3, 2, 2, 1, 1]\n"
     ]
    }
   ],
   "source": [
    "list1 = [4,2,7,1,2,3,1,8]\n",
    "\n",
    "sorted_lst = sorted(list1, reverse=True)\n",
    "\n",
    "print('Original List::{}'.format(list1))\n",
    "\n",
    "\n",
    "print('Sorted List::{}'.format(sorted_lst))"
   ]
  },
  {
   "cell_type": "markdown",
   "id": "433bb29d",
   "metadata": {},
   "source": [
    "## List having multiple reference"
   ]
  },
  {
   "cell_type": "code",
   "execution_count": 36,
   "id": "d988c12f",
   "metadata": {},
   "outputs": [
    {
     "name": "stdout",
     "output_type": "stream",
     "text": [
      "[5, 2, 7, 'r', 6.9, (5+7j), 6]\n",
      "[5, 2, 7, 'r', 6.9, (5+7j), 6]\n"
     ]
    }
   ],
   "source": [
    "list1 = [5,2,7,'r', 6.9, 5+7j]\n",
    "\n",
    "list2 = list1\n",
    "\n",
    "list2.append(6)\n",
    "\n",
    "print(list1)\n",
    "print(list2)"
   ]
  },
  {
   "cell_type": "markdown",
   "id": "6d844db8",
   "metadata": {},
   "source": [
    "## Split string to create a list\n"
   ]
  },
  {
   "cell_type": "code",
   "execution_count": 39,
   "id": "9d682462",
   "metadata": {},
   "outputs": [
    {
     "name": "stdout",
     "output_type": "stream",
     "text": [
      "['Chandigarh', 'Delhi', 'Gujrat', 'Pune', 'Chennai']\n"
     ]
    }
   ],
   "source": [
    "\n",
    "str1 = 'Chandigarh,Delhi,Gujrat,Pune,Chennai'\n",
    "\n",
    "list1 = str1.split(',')\n",
    "print(list1)"
   ]
  },
  {
   "cell_type": "code",
   "execution_count": 41,
   "id": "06f73e82",
   "metadata": {},
   "outputs": [
    {
     "name": "stdout",
     "output_type": "stream",
     "text": [
      "['This', 'is', 'Course', 'Mantra', 'AI', 'ML', 'Course']\n"
     ]
    }
   ],
   "source": [
    "str1 = 'This is Course Mantra AI ML Course'\n",
    "list2 = str1.split(' ')\n",
    "print(list2)"
   ]
  },
  {
   "cell_type": "markdown",
   "id": "9774c998",
   "metadata": {},
   "source": [
    "## List Indexing\n",
    "\n",
    "Each item in the list has an assigned index value starting from 0\n",
    "\n",
    "Accessing elements in a list is called indexing\n"
   ]
  },
  {
   "cell_type": "code",
   "execution_count": 42,
   "id": "ca22ff5f",
   "metadata": {},
   "outputs": [
    {
     "name": "stdout",
     "output_type": "stream",
     "text": [
      "5\n"
     ]
    }
   ],
   "source": [
    "lst = [5,3,8,7,3,6]\n",
    "\n",
    "print(lst[0])"
   ]
  },
  {
   "cell_type": "code",
   "execution_count": 43,
   "id": "8d20f4db",
   "metadata": {},
   "outputs": [
    {
     "name": "stdout",
     "output_type": "stream",
     "text": [
      "6\n"
     ]
    }
   ],
   "source": [
    "print(lst[-1])"
   ]
  },
  {
   "cell_type": "code",
   "execution_count": 44,
   "id": "b72f38be",
   "metadata": {},
   "outputs": [
    {
     "name": "stdout",
     "output_type": "stream",
     "text": [
      "3\n"
     ]
    }
   ],
   "source": [
    "print(lst[-2])"
   ]
  },
  {
   "cell_type": "code",
   "execution_count": 46,
   "id": "085a1694",
   "metadata": {},
   "outputs": [
    {
     "name": "stdout",
     "output_type": "stream",
     "text": [
      "6\n"
     ]
    }
   ],
   "source": [
    "print(lst[len(lst)-1])"
   ]
  },
  {
   "cell_type": "code",
   "execution_count": 82,
   "id": "3bee9909",
   "metadata": {},
   "outputs": [
    {
     "name": "stdout",
     "output_type": "stream",
     "text": [
      "two\n"
     ]
    }
   ],
   "source": [
    "list10 = [2,5,1,6,'one',[4,2,[6,'two']]]\n",
    "print(list10[5][2][1])"
   ]
  },
  {
   "cell_type": "code",
   "execution_count": 86,
   "id": "505e9c85",
   "metadata": {},
   "outputs": [
    {
     "name": "stdout",
     "output_type": "stream",
     "text": [
      "[2, 5, 1, 6, 'one', [4, 2, [6, (4+6j)]]]\n"
     ]
    }
   ],
   "source": [
    "list10[5][2][1] = 4+6J\n",
    "print(list10)"
   ]
  },
  {
   "cell_type": "code",
   "execution_count": 87,
   "id": "58bb30e3",
   "metadata": {},
   "outputs": [
    {
     "name": "stdout",
     "output_type": "stream",
     "text": [
      "<class 'complex'>\n"
     ]
    }
   ],
   "source": [
    "print(type(list10[5][2][1]))"
   ]
  },
  {
   "cell_type": "markdown",
   "id": "3d374ee7",
   "metadata": {},
   "source": [
    "## List Slicing"
   ]
  },
  {
   "cell_type": "code",
   "execution_count": 49,
   "id": "f95116b5",
   "metadata": {},
   "outputs": [
    {
     "name": "stdout",
     "output_type": "stream",
     "text": [
      "[5, 8, 3]\n"
     ]
    }
   ],
   "source": [
    "lst = [5,3,8,7,3,6]\n",
    "\n",
    "sliced_list = lst[0::2]\n",
    "print(sliced_list)"
   ]
  },
  {
   "cell_type": "markdown",
   "id": "2e0b6462",
   "metadata": {},
   "source": [
    "## List extend using +"
   ]
  },
  {
   "cell_type": "code",
   "execution_count": 55,
   "id": "0ff2fe15",
   "metadata": {},
   "outputs": [
    {
     "name": "stdout",
     "output_type": "stream",
     "text": [
      "[5, 3, 8, 7, 3, 6, 10]\n"
     ]
    }
   ],
   "source": [
    "lst = [5,3,8,7,3,6]\n",
    "\n",
    "\n",
    "extended_List = lst + [10]\n",
    "print(extended_List)"
   ]
  },
  {
   "cell_type": "code",
   "execution_count": 56,
   "id": "c50ab357",
   "metadata": {},
   "outputs": [
    {
     "name": "stdout",
     "output_type": "stream",
     "text": [
      "[5, 3, 8, 7, 3, 6, 10]\n"
     ]
    }
   ],
   "source": [
    "lst = [5,3,8,7,3,6]\n",
    "\n",
    "\n",
    "appended_List = lst.append(10)\n",
    "print(extended_List)"
   ]
  },
  {
   "cell_type": "markdown",
   "id": "15b43850",
   "metadata": {},
   "source": [
    "## List Count"
   ]
  },
  {
   "cell_type": "code",
   "execution_count": 57,
   "id": "77ed99a0",
   "metadata": {},
   "outputs": [
    {
     "name": "stdout",
     "output_type": "stream",
     "text": [
      "2\n"
     ]
    }
   ],
   "source": [
    "lst = [5,3,8,7,7,3,6]\n",
    "\n",
    "print(lst.count(7))"
   ]
  },
  {
   "cell_type": "markdown",
   "id": "6e5bdae3",
   "metadata": {},
   "source": [
    "## List Looping\n"
   ]
  },
  {
   "cell_type": "code",
   "execution_count": 58,
   "id": "efd2ecf5",
   "metadata": {},
   "outputs": [
    {
     "name": "stdout",
     "output_type": "stream",
     "text": [
      "5\n",
      "3\n",
      "8\n",
      "7\n",
      "3\n",
      "6\n"
     ]
    }
   ],
   "source": [
    "lst = [5,3,8,7,3,6]\n",
    "\n",
    "for ele in lst:\n",
    "    print(ele)"
   ]
  },
  {
   "cell_type": "markdown",
   "id": "3863a252",
   "metadata": {},
   "source": [
    "## List Comprehensions\n",
    "\n",
    "List comprehensions provide a concise way to create list\n",
    "Common applications are to make new lists where each element is the result of some operations applied to each member of another sequence or iterable, or to create a subsequence of those elements that satisfy a certain condition."
   ]
  },
  {
   "cell_type": "code",
   "execution_count": 60,
   "id": "73973c12",
   "metadata": {},
   "outputs": [
    {
     "name": "stdout",
     "output_type": "stream",
     "text": [
      "[0, 1, 4, 9, 16, 25, 36, 49, 64, 81]\n"
     ]
    }
   ],
   "source": [
    "# Without list comprehension\n",
    "\n",
    "squares = []\n",
    "\n",
    "for i in range(0,10):\n",
    "    squares.append(i**2)\n",
    "\n",
    "print(squares)"
   ]
  },
  {
   "cell_type": "code",
   "execution_count": 62,
   "id": "f24cf734",
   "metadata": {},
   "outputs": [
    {
     "name": "stdout",
     "output_type": "stream",
     "text": [
      "[0, 1, 4, 9, 16, 25, 36, 49, 64, 81]\n"
     ]
    }
   ],
   "source": [
    "# With List Comprehension\n",
    "\n",
    "sqaures = [i**2 for i in range(0,10)]\n",
    "print(sqaures)"
   ]
  },
  {
   "cell_type": "code",
   "execution_count": 66,
   "id": "d8661504",
   "metadata": {},
   "outputs": [
    {
     "name": "stdout",
     "output_type": "stream",
     "text": [
      "[4, 25, 1, 64]\n"
     ]
    }
   ],
   "source": [
    "# With List Comprehension\n",
    "\n",
    "lst = [-10,-20,-10,2,5,1,8,-12]\n",
    "\n",
    "squares = [i**2 for i in lst if i >= 0]\n",
    "print(squares)"
   ]
  },
  {
   "cell_type": "code",
   "execution_count": 67,
   "id": "26177e50",
   "metadata": {},
   "outputs": [
    {
     "name": "stdout",
     "output_type": "stream",
     "text": [
      "[[2, 4], [5, 25], [1, 1], [8, 64]]\n"
     ]
    }
   ],
   "source": [
    "lst = [-10,-20,-10,2,5,1,8,-12]\n",
    "\n",
    "squares = [[i,i**2] for i in lst if i >= 0]\n",
    "print(squares)"
   ]
  },
  {
   "cell_type": "markdown",
   "id": "7be8f6db",
   "metadata": {},
   "source": [
    "# Nested List Comprehension"
   ]
  },
  {
   "cell_type": "code",
   "execution_count": 2,
   "id": "66062005",
   "metadata": {},
   "outputs": [
    {
     "name": "stdout",
     "output_type": "stream",
     "text": [
      "Original Matrix is ::[[1, 2, 3], [4, 5, 6], [7, 8, 9]]\n"
     ]
    }
   ],
   "source": [
    "# Transpose matrix without list comprehension\n",
    "\n",
    "matrix = [[1,2,3],[4,5,6],[7,8,9]]\n",
    "\n",
    "print('Original Matrix is ::{}'.format(matrix))\n"
   ]
  },
  {
   "cell_type": "code",
   "execution_count": 3,
   "id": "c20f50e7",
   "metadata": {},
   "outputs": [
    {
     "name": "stdout",
     "output_type": "stream",
     "text": [
      "Transpose Matrix::[[1, 4, 7], [2, 5, 8], [3, 6, 9]]\n"
     ]
    }
   ],
   "source": [
    "transpose = []\n",
    "\n",
    "for i in range(3):\n",
    "    lst = []\n",
    "    for row in matrix:\n",
    "        lst.append(row[i])\n",
    "    transpose.append(lst)\n",
    "    \n",
    "print('Transpose Matrix::{}'.format(transpose))"
   ]
  },
  {
   "cell_type": "code",
   "execution_count": 79,
   "id": "03f90875",
   "metadata": {},
   "outputs": [
    {
     "name": "stdout",
     "output_type": "stream",
     "text": [
      "[[1, 4, 7], [2, 5, 8], [3, 6, 9]]\n"
     ]
    }
   ],
   "source": [
    "# With List comprehension\n",
    "\n",
    "transposeMatrix = [[row[i] for row in matrix]for i in range(3)]\n",
    "print(transposeMatrix)"
   ]
  },
  {
   "cell_type": "code",
   "execution_count": null,
   "id": "a06c0aaa",
   "metadata": {},
   "outputs": [],
   "source": []
  }
 ],
 "metadata": {
  "kernelspec": {
   "display_name": "Python 3 (ipykernel)",
   "language": "python",
   "name": "python3"
  },
  "language_info": {
   "codemirror_mode": {
    "name": "ipython",
    "version": 3
   },
   "file_extension": ".py",
   "mimetype": "text/x-python",
   "name": "python",
   "nbconvert_exporter": "python",
   "pygments_lexer": "ipython3",
   "version": "3.10.9"
  }
 },
 "nbformat": 4,
 "nbformat_minor": 5
}
