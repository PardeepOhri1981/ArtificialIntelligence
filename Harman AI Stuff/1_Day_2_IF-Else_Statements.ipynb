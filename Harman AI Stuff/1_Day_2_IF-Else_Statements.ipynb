{
 "cells": [
  {
   "cell_type": "markdown",
   "id": "5658a9fa",
   "metadata": {},
   "source": [
    "# Python If Statement"
   ]
  },
  {
   "cell_type": "code",
   "execution_count": 1,
   "id": "835a5e7e",
   "metadata": {},
   "outputs": [],
   "source": [
    "a = 10"
   ]
  },
  {
   "cell_type": "code",
   "execution_count": 2,
   "id": "76aa923d",
   "metadata": {},
   "outputs": [
    {
     "data": {
      "text/plain": [
       "True"
      ]
     },
     "execution_count": 2,
     "metadata": {},
     "output_type": "execute_result"
    }
   ],
   "source": [
    "a < 15"
   ]
  },
  {
   "cell_type": "code",
   "execution_count": 3,
   "id": "e38455d3",
   "metadata": {},
   "outputs": [],
   "source": [
    "if 24 < 15:\n",
    "    print(\"Course Mantra\")"
   ]
  },
  {
   "cell_type": "code",
   "execution_count": 4,
   "id": "80e92d7b",
   "metadata": {},
   "outputs": [
    {
     "data": {
      "text/plain": [
       "False"
      ]
     },
     "execution_count": 4,
     "metadata": {},
     "output_type": "execute_result"
    }
   ],
   "source": [
    "24 < 15"
   ]
  },
  {
   "cell_type": "markdown",
   "id": "236049d9",
   "metadata": {},
   "source": [
    "# Python If-else statement\n",
    "\n",
    "The **if...elif...else** statement is used in python for decision making.\n",
    "\n",
    "## if statement syntax\n",
    "\n",
    "    \n",
    "    \n",
    "    if test expression:\n",
    "        \n",
    "        statement(s)\n",
    "        \n",
    "The program evaluates the test expression and will execute statement(s) only if the test expression is True.\n",
    "\n",
    "If the test expression is False, the statement(s) is not executed.\n",
    "\n",
    "Python interpretes **non-zero** value as **True**. **None** and **0** are interpreted as **False**.\n",
    "\n",
    "\n",
    "# Flow Chart\n",
    "\n",
    "![Python_if_statement.jpg](attachment:Python_if_statement.jpg)\n",
    "\n",
    "\n",
    "\n",
    "# Example"
   ]
  },
  {
   "cell_type": "code",
   "execution_count": null,
   "id": "497076e4",
   "metadata": {},
   "outputs": [],
   "source": [
    "num = 10\n",
    "\n",
    "# try 0, -1 and None\n",
    "\n",
    "if num > 10:\n",
    "    print(\"Number is positive\")\n",
    "    \n",
    "print(\"Always executed\")             # This print statment will always print\n"
   ]
  },
  {
   "cell_type": "code",
   "execution_count": null,
   "id": "d0ca8a5b",
   "metadata": {},
   "outputs": [],
   "source": [
    "num = 10\n",
    "\n",
    "# try 0, -1 and None\n",
    "\n",
    "if num > 0:\n",
    "    print(\"Number is positive\")\n",
    "    \n",
    "print(\"Always executed\")             # This print statment will always print\n"
   ]
  },
  {
   "cell_type": "code",
   "execution_count": null,
   "id": "aaa014df",
   "metadata": {},
   "outputs": [],
   "source": [
    "num = 10\n",
    "\n",
    "# try 0, -1 and None\n",
    "\n",
    "if num > -1:\n",
    "    print(\"Number is positive\")\n",
    "    \n",
    "print(\"Always executed\")             # This print statment will always print\n"
   ]
  },
  {
   "cell_type": "code",
   "execution_count": null,
   "id": "fd7b5474",
   "metadata": {},
   "outputs": [],
   "source": [
    "num = 10\n",
    "\n",
    "# try 0, -1 and None\n",
    "\n",
    "if num > None:\n",
    "    print(\"Number is positive\")\n",
    "    \n",
    "print(\"Always executed\")             # This print statment will always print\n"
   ]
  },
  {
   "cell_type": "markdown",
   "id": "28c57873",
   "metadata": {},
   "source": [
    "# if...else Statement\n",
    "\n",
    "## Syntax\n",
    "\n",
    "    if test-expression:\n",
    "        Body of if\n",
    "        \n",
    "     else:\n",
    "         Body of else\n",
    "         \n",
    "## Flow Chart\n",
    "\n",
    "![Python_if_else_statement.jpg](attachment:Python_if_else_statement.jpg)\n",
    "\n",
    "\n",
    "## Example"
   ]
  },
  {
   "cell_type": "code",
   "execution_count": null,
   "id": "6e012d33",
   "metadata": {},
   "outputs": [],
   "source": [
    "num = 10\n",
    "if num >10:\n",
    "    print('Positive Number')\n",
    "else:\n",
    "    print('Negative Number')"
   ]
  },
  {
   "cell_type": "code",
   "execution_count": null,
   "id": "5819090d",
   "metadata": {},
   "outputs": [],
   "source": [
    "if (10<3):\n",
    "    print('10 is greater than 3')\n",
    "else:\n",
    "    print('If-Statement is wrong')"
   ]
  },
  {
   "cell_type": "code",
   "execution_count": null,
   "id": "cca01c63",
   "metadata": {},
   "outputs": [],
   "source": [
    "coursePrice = int(input('Enter course price:'))\n",
    "couponCode = input('Enter Coupon Code')\n",
    "\n",
    "if couponCode == 'HARMAN10':\n",
    "    print('Applied Coupon::{}'.format(couponCode))\n",
    "    totalPriceAfterDiscount = coursePrice - (coursePrice * .10)\n",
    "    print('Course Price after applying coupan code is::{}'.format(totalPriceAfterDiscount))\n",
    "else:\n",
    "    print('Invalid coupon code')"
   ]
  },
  {
   "cell_type": "markdown",
   "id": "4f4ed950",
   "metadata": {},
   "source": [
    "# If...elif...else\n",
    "\n",
    "## Syntax\n",
    "\n",
    "    if test expression:\n",
    "        \n",
    "        Body of if\n",
    "    \n",
    "    elif test expression:\n",
    "        \n",
    "        Body of elif\n",
    "        \n",
    "     else:\n",
    "     \n",
    "         Body of else\n",
    "         \n",
    "## Flow Chart\n",
    "\n",
    "![Python_if_elif_else_statement.jpg](attachment:Python_if_elif_else_statement.jpg)\n",
    "\n",
    "\n",
    "## Example\n",
    "        \n",
    "     "
   ]
  },
  {
   "cell_type": "code",
   "execution_count": null,
   "id": "e2d4e707",
   "metadata": {},
   "outputs": [],
   "source": [
    "num = 10.5\n",
    "\n",
    "if num > 0:\n",
    "    print('Positive Number')\n",
    "\n",
    "elif num == 0:\n",
    "    print(\"ZERO\")\n",
    "\n",
    "else:\n",
    "    print('Negative Number')\n",
    "    "
   ]
  },
  {
   "cell_type": "code",
   "execution_count": 5,
   "id": "922cd33e",
   "metadata": {},
   "outputs": [
    {
     "name": "stdout",
     "output_type": "stream",
     "text": [
      "Enter income:12\n",
      "I cannot afford anything at this moment\n"
     ]
    }
   ],
   "source": [
    "income = int(input('Enter income:'))\n",
    "\n",
    "if (income > 10000 and income < 30000):\n",
    "    print('I can afford to buy a  Phone')\n",
    "elif (income > 30000 and income < 50000 ):\n",
    "    print('I can afford to rent a 3bhk flat')\n",
    "elif (income > 50000 and income < 80000 ):\n",
    "    print('I can afford to buy a bike')\n",
    "else:\n",
    "    print('I cannot afford anything at this moment')\n",
    "    "
   ]
  },
  {
   "cell_type": "code",
   "execution_count": null,
   "id": "5a430f51",
   "metadata": {},
   "outputs": [],
   "source": [
    "coursePrice = int(input('Enter course price:'))\n",
    "#discount = 0\n",
    "if coursePrice > 50000:\n",
    "    discount = coursePrice * .20\n",
    "    print('Discount will be ::{}'.format(discount))\n",
    "    totalPrice = coursePrice - discount\n",
    "    print('Total price after discount is {}'.format(totalPrice))\n",
    "elif coursePrice > 25000 and coursePrice < 50000:\n",
    "    discount = coursePrice * .10\n",
    "    print('Discount will be ::{}'.format(discount))\n",
    "    totalPrice = coursePrice - discount\n",
    "    print('Total price after discount is:: {}'.format(totalPrice))\n",
    "else:\n",
    "    print('No discount')\n",
    "    print('Total price:: {}'.format(coursePrice))\n",
    "\n"
   ]
  },
  {
   "cell_type": "markdown",
   "id": "1b86b9b3",
   "metadata": {},
   "source": [
    "## Nested if Statements\n",
    "\n",
    "We can have a if...elif...statement inside another if..elif..else statement. This is called as nesting in computer programming.\n",
    "\n",
    "## Example"
   ]
  },
  {
   "cell_type": "code",
   "execution_count": null,
   "id": "f4a00546",
   "metadata": {},
   "outputs": [],
   "source": [
    "num = 10.5\n",
    "\n",
    "if num >= 0:\n",
    "    if num == 0:\n",
    "        print('Zero')\n",
    "    else:\n",
    "        print(\"Positive Number\")\n",
    "else:\n",
    "    print('Negative Number')"
   ]
  },
  {
   "cell_type": "markdown",
   "id": "38118460",
   "metadata": {},
   "source": [
    "## Python program to find the largest element among three numbers"
   ]
  },
  {
   "cell_type": "code",
   "execution_count": null,
   "id": "482c5604",
   "metadata": {},
   "outputs": [],
   "source": [
    "num1 = 10\n",
    "num2 = 50\n",
    "num3 = 15\n",
    "\n",
    "if (num1 >= num2) and (num1 >= num3):\n",
    "    largest = num1\n",
    "\n",
    "    \n",
    "elif (num2 >= num1) and (num2 >= num3):\n",
    "    largest = num2\n",
    "\n",
    "    \n",
    "else:\n",
    "    largest = num3\n",
    "    \n",
    "print('Largest element among three numbers is: {}'.format(largest))\n",
    "    "
   ]
  },
  {
   "cell_type": "code",
   "execution_count": null,
   "id": "dd400fe4",
   "metadata": {},
   "outputs": [],
   "source": []
  }
 ],
 "metadata": {
  "kernelspec": {
   "display_name": "Python 3 (ipykernel)",
   "language": "python",
   "name": "python3"
  },
  "language_info": {
   "codemirror_mode": {
    "name": "ipython",
    "version": 3
   },
   "file_extension": ".py",
   "mimetype": "text/x-python",
   "name": "python",
   "nbconvert_exporter": "python",
   "pygments_lexer": "ipython3",
   "version": "3.10.9"
  }
 },
 "nbformat": 4,
 "nbformat_minor": 5
}
