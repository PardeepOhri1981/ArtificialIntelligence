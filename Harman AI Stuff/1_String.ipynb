{
 "cells": [
  {
   "cell_type": "code",
   "execution_count": 2,
   "id": "a45def8d",
   "metadata": {},
   "outputs": [],
   "source": [
    "str1 = 'Course Mantra'"
   ]
  },
  {
   "cell_type": "code",
   "execution_count": 3,
   "id": "1cdc3c1a",
   "metadata": {},
   "outputs": [
    {
     "name": "stdout",
     "output_type": "stream",
     "text": [
      "<class 'str'>\n"
     ]
    }
   ],
   "source": [
    "print(type(str1))"
   ]
  },
  {
   "cell_type": "code",
   "execution_count": 4,
   "id": "9696523a",
   "metadata": {},
   "outputs": [
    {
     "data": {
      "text/plain": [
       "'C'"
      ]
     },
     "execution_count": 4,
     "metadata": {},
     "output_type": "execute_result"
    }
   ],
   "source": [
    "str1[0]"
   ]
  },
  {
   "cell_type": "code",
   "execution_count": 7,
   "id": "b020680a",
   "metadata": {},
   "outputs": [
    {
     "data": {
      "text/plain": [
       "'a'"
      ]
     },
     "execution_count": 7,
     "metadata": {},
     "output_type": "execute_result"
    }
   ],
   "source": [
    "str1[-1]"
   ]
  },
  {
   "cell_type": "code",
   "execution_count": 8,
   "id": "4ccffc52",
   "metadata": {},
   "outputs": [
    {
     "data": {
      "text/plain": [
       "'r'"
      ]
     },
     "execution_count": 8,
     "metadata": {},
     "output_type": "execute_result"
    }
   ],
   "source": [
    "str1[-2]"
   ]
  },
  {
   "cell_type": "code",
   "execution_count": 11,
   "id": "991a4785",
   "metadata": {},
   "outputs": [
    {
     "name": "stdout",
     "output_type": "stream",
     "text": [
      "r\n"
     ]
    }
   ],
   "source": [
    "print(str1[len(str1)-2])"
   ]
  },
  {
   "cell_type": "code",
   "execution_count": 12,
   "id": "758d8db2",
   "metadata": {},
   "outputs": [
    {
     "ename": "IndexError",
     "evalue": "string index out of range",
     "output_type": "error",
     "traceback": [
      "\u001b[1;31m---------------------------------------------------------------------------\u001b[0m",
      "\u001b[1;31mIndexError\u001b[0m                                Traceback (most recent call last)",
      "Cell \u001b[1;32mIn[12], line 1\u001b[0m\n\u001b[1;32m----> 1\u001b[0m \u001b[38;5;28mprint\u001b[39m(\u001b[43mstr1\u001b[49m\u001b[43m[\u001b[49m\u001b[38;5;241;43m100\u001b[39;49m\u001b[43m]\u001b[49m)\n",
      "\u001b[1;31mIndexError\u001b[0m: string index out of range"
     ]
    }
   ],
   "source": [
    "print(str1[100])"
   ]
  },
  {
   "cell_type": "code",
   "execution_count": 13,
   "id": "e196375e",
   "metadata": {},
   "outputs": [
    {
     "name": "stdout",
     "output_type": "stream",
     "text": [
      "Course Mantra\n"
     ]
    }
   ],
   "source": [
    "print(str1[0:len(str1)+1])"
   ]
  },
  {
   "cell_type": "code",
   "execution_count": 15,
   "id": "9fa056e2",
   "metadata": {},
   "outputs": [
    {
     "name": "stdout",
     "output_type": "stream",
     "text": [
      "Cus ata\n"
     ]
    }
   ],
   "source": [
    "print(str1[0:len(str1)+1:2])"
   ]
  },
  {
   "cell_type": "code",
   "execution_count": 18,
   "id": "4c70f8b6",
   "metadata": {},
   "outputs": [
    {
     "name": "stdout",
     "output_type": "stream",
     "text": [
      "Cus ata\n"
     ]
    }
   ],
   "source": [
    "print(str1[::2])"
   ]
  },
  {
   "cell_type": "code",
   "execution_count": 27,
   "id": "131d8681",
   "metadata": {},
   "outputs": [
    {
     "name": "stdout",
     "output_type": "stream",
     "text": [
      "ata suC\n"
     ]
    }
   ],
   "source": [
    "print(str1[len(str1)+1::-2])"
   ]
  },
  {
   "cell_type": "code",
   "execution_count": 28,
   "id": "a3280432",
   "metadata": {},
   "outputs": [
    {
     "data": {
      "text/plain": [
       "''"
      ]
     },
     "execution_count": 28,
     "metadata": {},
     "output_type": "execute_result"
    }
   ],
   "source": [
    "str1[0:100:-1]"
   ]
  },
  {
   "cell_type": "code",
   "execution_count": 29,
   "id": "a4100c1e",
   "metadata": {},
   "outputs": [
    {
     "data": {
      "text/plain": [
       "'Course Mantra'"
      ]
     },
     "execution_count": 29,
     "metadata": {},
     "output_type": "execute_result"
    }
   ],
   "source": [
    "str1[0:100]"
   ]
  },
  {
   "cell_type": "code",
   "execution_count": 30,
   "id": "4746ee1e",
   "metadata": {},
   "outputs": [
    {
     "data": {
      "text/plain": [
       "'C'"
      ]
     },
     "execution_count": 30,
     "metadata": {},
     "output_type": "execute_result"
    }
   ],
   "source": [
    "str1[0:-100:-1]"
   ]
  },
  {
   "cell_type": "code",
   "execution_count": 4,
   "id": "bb04830d",
   "metadata": {},
   "outputs": [
    {
     "name": "stdout",
     "output_type": "stream",
     "text": [
      "courseMantracourseMantracourseMantra\n"
     ]
    }
   ],
   "source": [
    "str2 = 'courseMantra'*3\n",
    "print(str2)"
   ]
  },
  {
   "cell_type": "code",
   "execution_count": 32,
   "id": "17b42a79",
   "metadata": {},
   "outputs": [
    {
     "name": "stdout",
     "output_type": "stream",
     "text": [
      "['This', 'is', 'course', 'mantra']\n"
     ]
    }
   ],
   "source": [
    "str3 = 'This is course mantra'\n",
    "\n",
    "str4 = str3.split(' ')\n",
    "print(str4)"
   ]
  },
  {
   "cell_type": "code",
   "execution_count": 33,
   "id": "63f8eb27",
   "metadata": {},
   "outputs": [
    {
     "name": "stdout",
     "output_type": "stream",
     "text": [
      "<class 'list'>\n"
     ]
    }
   ],
   "source": [
    "print(type(str4))"
   ]
  },
  {
   "cell_type": "code",
   "execution_count": 17,
   "id": "39681bd8",
   "metadata": {},
   "outputs": [
    {
     "data": {
      "text/plain": [
       "'Course Mantra'"
      ]
     },
     "execution_count": 17,
     "metadata": {},
     "output_type": "execute_result"
    }
   ],
   "source": [
    "str1"
   ]
  },
  {
   "cell_type": "code",
   "execution_count": 18,
   "id": "8729a36c",
   "metadata": {},
   "outputs": [],
   "source": [
    "str2=\"AI\""
   ]
  },
  {
   "cell_type": "code",
   "execution_count": 20,
   "id": "f68fe76b",
   "metadata": {},
   "outputs": [
    {
     "name": "stdout",
     "output_type": "stream",
     "text": [
      "C o u r s e   M a n t r a\n"
     ]
    }
   ],
   "source": [
    "str3 = \"ML\".join(str1)\n",
    "print(str3)"
   ]
  },
  {
   "cell_type": "code",
   "execution_count": 10,
   "id": "ed6c29ad",
   "metadata": {},
   "outputs": [],
   "source": [
    "str3 = 'Machine Learning'"
   ]
  },
  {
   "cell_type": "code",
   "execution_count": 11,
   "id": "e5bde857",
   "metadata": {},
   "outputs": [
    {
     "data": {
      "text/plain": [
       "'Course Mantra'"
      ]
     },
     "execution_count": 11,
     "metadata": {},
     "output_type": "execute_result"
    }
   ],
   "source": [
    "str1"
   ]
  },
  {
   "cell_type": "code",
   "execution_count": 12,
   "id": "65d562f6",
   "metadata": {},
   "outputs": [
    {
     "data": {
      "text/plain": [
       "'Machine Learning'"
      ]
     },
     "execution_count": 12,
     "metadata": {},
     "output_type": "execute_result"
    }
   ],
   "source": [
    "str3"
   ]
  },
  {
   "cell_type": "code",
   "execution_count": 13,
   "id": "58012f42",
   "metadata": {},
   "outputs": [
    {
     "data": {
      "text/plain": [
       "'MCourse MantraaCourse MantracCourse MantrahCourse MantraiCourse MantranCourse MantraeCourse Mantra Course MantraLCourse MantraeCourse MantraaCourse MantrarCourse MantranCourse MantraiCourse MantranCourse Mantrag'"
      ]
     },
     "execution_count": 13,
     "metadata": {},
     "output_type": "execute_result"
    }
   ],
   "source": [
    "str1.join(str3)"
   ]
  },
  {
   "cell_type": "code",
   "execution_count": 41,
   "id": "9aecb058",
   "metadata": {},
   "outputs": [
    {
     "data": {
      "text/plain": [
       "<reversed at 0x1a185ec3d90>"
      ]
     },
     "execution_count": 41,
     "metadata": {},
     "output_type": "execute_result"
    }
   ],
   "source": [
    "reversed(str1)"
   ]
  },
  {
   "cell_type": "code",
   "execution_count": 42,
   "id": "02b9927f",
   "metadata": {},
   "outputs": [
    {
     "name": "stdout",
     "output_type": "stream",
     "text": [
      "C\n",
      "o\n",
      "u\n",
      "r\n",
      "s\n",
      "e\n",
      " \n",
      "M\n",
      "a\n",
      "n\n",
      "t\n",
      "r\n",
      "a\n"
     ]
    }
   ],
   "source": [
    "for i in str1:\n",
    "    print(i)"
   ]
  },
  {
   "cell_type": "code",
   "execution_count": 59,
   "id": "09c6398c",
   "metadata": {},
   "outputs": [
    {
     "name": "stdout",
     "output_type": "stream",
     "text": [
      "artnaM esruoC\n"
     ]
    }
   ],
   "source": [
    "print(str1[::-1])"
   ]
  },
  {
   "cell_type": "code",
   "execution_count": 60,
   "id": "ebca0d89",
   "metadata": {},
   "outputs": [
    {
     "ename": "TypeError",
     "evalue": "'str' object does not support item assignment",
     "output_type": "error",
     "traceback": [
      "\u001b[1;31m---------------------------------------------------------------------------\u001b[0m",
      "\u001b[1;31mTypeError\u001b[0m                                 Traceback (most recent call last)",
      "Cell \u001b[1;32mIn[60], line 1\u001b[0m\n\u001b[1;32m----> 1\u001b[0m str1[\u001b[38;5;241m0\u001b[39m] \u001b[38;5;241m=\u001b[39m \u001b[38;5;124m'\u001b[39m\u001b[38;5;124me\u001b[39m\u001b[38;5;124m'\u001b[39m\n",
      "\u001b[1;31mTypeError\u001b[0m: 'str' object does not support item assignment"
     ]
    }
   ],
   "source": [
    "str1[0] = 'e'"
   ]
  },
  {
   "cell_type": "code",
   "execution_count": null,
   "id": "170299fa",
   "metadata": {},
   "outputs": [],
   "source": []
  }
 ],
 "metadata": {
  "kernelspec": {
   "display_name": "Python 3 (ipykernel)",
   "language": "python",
   "name": "python3"
  },
  "language_info": {
   "codemirror_mode": {
    "name": "ipython",
    "version": 3
   },
   "file_extension": ".py",
   "mimetype": "text/x-python",
   "name": "python",
   "nbconvert_exporter": "python",
   "pygments_lexer": "ipython3",
   "version": "3.10.9"
  }
 },
 "nbformat": 4,
 "nbformat_minor": 5
}
