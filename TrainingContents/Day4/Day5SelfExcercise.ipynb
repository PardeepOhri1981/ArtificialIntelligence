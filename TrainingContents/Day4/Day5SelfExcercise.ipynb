{
 "cells": [
  {
   "cell_type": "code",
   "execution_count": 122,
   "metadata": {},
   "outputs": [
    {
     "name": "stdout",
     "output_type": "stream",
     "text": [
      " the array of np.array(10 is : 10\n",
      "dimesnion of array arr1 : 0\n",
      " the array of np.array(1,10) is : [ 2 30]\n",
      "dimesnion of array arr2 : 1\n",
      " the array of np.array(1,10) is : [[ 2 30]\n",
      " [ 4  5]]\n",
      "dimesnion of array arr3 : 2\n",
      " the array of np.array(1,10) is : [[[ 2 30]\n",
      "  [ 4  5]]\n",
      "\n",
      " [[21 30]\n",
      "  [41  5]]]\n",
      "dimesnion of array arr3 : 3\n"
     ]
    }
   ],
   "source": [
    "import numpy as np\n",
    "arr1 = np.array(10)\n",
    "print( \" the array of np.array(10 is :\", arr1)\n",
    "print( 'dimesnion of array arr1 :',arr1.ndim)\n",
    "\n",
    "arr2 = np.array([2,30])\n",
    "print( \" the array of np.array(1,10) is :\", arr2)\n",
    "print( 'dimesnion of array arr2 :',arr2.ndim)\n",
    "\n",
    "arr3 = np.array([[2,30], [4,5]])\n",
    "print( \" the array of np.array(1,10) is :\", arr3)\n",
    "print( 'dimesnion of array arr3 :',arr3.ndim)\n",
    " \n",
    "arr3 = np.array([[[2,30], [4,5]],[[21,30], [41,5]]])\n",
    "print( \" the array of np.array(1,10) is :\", arr3)\n",
    "print( 'dimesnion of array arr3 :',arr3.ndim)"
   ]
  },
  {
   "cell_type": "code",
   "execution_count": 123,
   "metadata": {},
   "outputs": [
    {
     "name": "stdout",
     "output_type": "stream",
     "text": [
      "[1 2 3 4 5 6 7 8 9]\n",
      "[1 3 5 7 9]\n",
      "[ 1  3  5  7  9 11 13 15 17 19 21 23 25 27 29 31 33 35 37 39 41 43 45 47\n",
      " 49 51 53 55 57 59 61 63 65 67 69 71 73 75 77 79 81 83 85 87 89 91 93 95\n",
      " 97 99]\n",
      "9\n",
      "67\n",
      "randomV [0.96437648 0.49131992 0.2561016 ]\n",
      "[0.49131992 0.2561016 ]\n"
     ]
    }
   ],
   "source": [
    "from numpy import random\n",
    "range1 = np.arange(1,10)\n",
    "print (range1)\n",
    "\n",
    "range2 = np.arange(1,10,2)\n",
    "print (range2)\n",
    "\n",
    "\n",
    "range3 = np.arange(1,100,2, dtype= 'i')\n",
    "print(range3)\n",
    "print(range3[4])\n",
    "\n",
    "arr4 = np.random.randint(1,100)\n",
    "print (arr4)\n",
    "\n",
    "randomV = random.random(size=3)\n",
    "print(\"randomV\",randomV)\n",
    "print(randomV[1:3])"
   ]
  },
  {
   "cell_type": "code",
   "execution_count": 124,
   "metadata": {},
   "outputs": [
    {
     "name": "stdout",
     "output_type": "stream",
     "text": [
      "arrayVal ones array [[1. 1. 1.]\n",
      " [1. 1. 1.]\n",
      " [1. 1. 1.]]\n",
      "arrVal selected values [1. 1.]\n",
      "arraVal1 zero array [[0. 0. 0.]\n",
      " [0. 0. 0.]\n",
      " [0. 0. 0.]]\n",
      "Diagonal Array \n",
      " [[1 0 0 0]\n",
      " [0 2 0 0]\n",
      " [0 0 3 0]\n",
      " [0 0 0 4]]\n",
      "Selected Values : [[1 0]\n",
      " [0 2]\n",
      " [0 0]\n",
      " [0 0]]\n"
     ]
    }
   ],
   "source": [
    "arrayVal = np.ones((3,3),dtype='float')\n",
    "print(\"arrayVal ones array\",arrayVal)\n",
    "print(\"arrVal selected values\",arrayVal[1:3,2])\n",
    "\n",
    "arrayVal1 = np.zeros((3,3))\n",
    "print(\"arraVal1 zero array\", arrayVal1)\n",
    "\n",
    "\n",
    "arrdiagonal = np.diag((1,2,3,4))\n",
    "print(\"Diagonal Array \\n\" ,arrdiagonal)\n",
    "print(\"Selected Values :\", arrdiagonal[0:4,0:2])\n",
    "\n",
    "\n"
   ]
  },
  {
   "cell_type": "code",
   "execution_count": 125,
   "metadata": {},
   "outputs": [
    {
     "name": "stdout",
     "output_type": "stream",
     "text": [
      " DataFrame: \n",
      "         Day  Temprature  Wind Speed  Event\n",
      "0  1/1/2024           8          41  Sunny\n",
      "1  2/1/2024           2          42  Rainy\n",
      "2  3/1/2024           8          45  Sunny\n",
      "3  4/1/2024           8          45  Sunny\n",
      "4  5/1/2024           3          45  Rainy\n",
      "5  6/1/2024          23          20    Hot\n"
     ]
    }
   ],
   "source": [
    "## Broadcast the value\n",
    "\n",
    "##Create dataframes from list\n",
    "import pandas as pd\n",
    "weatherData = [('1/1/2024', 8,41,'Sunny'),\n",
    " ('2/1/2024', 2,42,'Rainy'),\n",
    " ('3/1/2024', 8,45,'Sunny'),\n",
    " ('4/1/2024', 8,45,'Sunny'),\n",
    " ('5/1/2024', 3,45,'Rainy'),\n",
    " ('6/1/2024', 23,20,'Hot')\n",
    " ]\n",
    "\n",
    "df = pd.DataFrame(weatherData, columns= ('Day','Temprature','Wind Speed', 'Event' ))\n",
    "\n",
    "print(\" DataFrame: \\n\", df)"
   ]
  },
  {
   "cell_type": "code",
   "execution_count": 126,
   "metadata": {},
   "outputs": [
    {
     "name": "stdout",
     "output_type": "stream",
     "text": [
      "dataFrames \n",
      ":            0         1         2         3         4         5         6\n",
      "0   0.045372  0.058638  0.152502  0.606047  0.887455  0.521185  0.078512\n",
      "1   0.449450  0.492538  0.377909  0.074556  0.589180  0.103275  0.017716\n",
      "2   0.580642  0.580967  0.248603  0.048649  0.808648  0.005679  0.370171\n",
      "3   0.720179  0.875797  0.975735  0.491581  0.845401  0.284170  0.374182\n",
      "4   0.308791  0.904776  0.982523  0.446408  0.402785  0.704687  0.845693\n",
      "5   0.519088  0.858734  0.618829  0.220567  0.494563  0.943800  0.932404\n",
      "6   0.470589  0.923384  0.443768  0.566622  0.364964  0.788726  0.927420\n",
      "7   0.877728  0.567419  0.826936  0.614249  0.964872  0.004851  0.581401\n",
      "8   0.407015  0.519573  0.259073  0.913597  0.177750  0.211945  0.562240\n",
      "9   0.289655  0.682446  0.104892  0.304287  0.687784  0.836082  0.633283\n",
      "10  0.243406  0.147347  0.103920  0.032282  0.543061  0.436403  0.044233\n",
      "11  0.035452  0.547391  0.504804  0.449386  0.377374  0.358598  0.736040\n",
      "12  0.559830  0.215417  0.856318  0.070674  0.460830  0.860289  0.638070\n",
      "13  0.994337  0.876239  0.140724  0.870299  0.587470  0.713200  0.157964\n",
      "14  0.448160  0.477503  0.530923  0.735615  0.217041  0.116827  0.493856\n",
      "15  0.397763  0.608617  0.031580  0.959442  0.679517  0.227599  0.937237\n",
      "16  0.685653  0.533389  0.948986  0.057642  0.851457  0.914514  0.209842\n",
      "17  0.108314  0.936805  0.417049  0.463929  0.797865  0.231926  0.553716\n",
      "18  0.111504  0.709260  0.948832  0.979789  0.617853  0.012434  0.757504\n",
      "19  0.501276  0.250075  0.246793  0.060435  0.464568  0.794382  0.978798\n"
     ]
    }
   ],
   "source": [
    "# Creating dataframes from array\n",
    "\n",
    "df1 = pd.DataFrame(np.random.rand(20,7))\n",
    "print(\"dataFrames \\n:\", df1)"
   ]
  },
  {
   "cell_type": "code",
   "execution_count": 127,
   "metadata": {},
   "outputs": [
    {
     "name": "stdout",
     "output_type": "stream",
     "text": [
      "Full Array :  \n",
      " [0 1 2 3 4 5 6 7 8 9]\n",
      "single Value :  1\n"
     ]
    }
   ],
   "source": [
    "\n",
    "abc = np.arange(10)\n",
    "print (\"Full Array :  \\n\",abc)\n",
    "print(\"single Value : \", abc[1])\n",
    "\n"
   ]
  },
  {
   "cell_type": "code",
   "execution_count": 128,
   "metadata": {},
   "outputs": [
    {
     "name": "stdout",
     "output_type": "stream",
     "text": [
      "Full Range Array  : \n",
      " [0 1 2 3 4 5 6 7 8 9]\n",
      "After changing 5th Onward va;ue to 100 : \n",
      "  [  0   1   2   3   4 100 100 100 100 100]\n",
      " selection from 2 to 9th element by step 2 : \n",
      " [  2   4 100 100]\n",
      "Actual value of b : \n",
      " [0 1 2 3 4]\n",
      "Reverse value of b : \n",
      " [4 3 2 1 0]\n",
      " Actual value of a after change \n",
      " : [0 1 2 3 4 4 3 2 1 0]\n"
     ]
    }
   ],
   "source": [
    "a = np.arange(10)  ## slicing the data\n",
    "b = np.arange(5)\n",
    "print(\"Full Range Array  : \\n\",a)\n",
    "a[5 :] = 100\n",
    "print(\"After changing 5th Onward va;ue to 100 : \\n \",a)\n",
    "\n",
    "print(\" selection from 2 to 9th element by step 2 : \\n\", a[2:9:2])\n",
    "\n",
    "print(\"Actual value of b : \\n\",b)\n",
    "print(\"Reverse value of b : \\n\",b[::-1])\n",
    "\n",
    "a[5:] = b[::-1] ## assigning the element\n",
    "\n",
    "print(\" Actual value of a after change \\n :\",a )\n"
   ]
  },
  {
   "cell_type": "markdown",
   "metadata": {},
   "source": [
    "Shared Memory"
   ]
  },
  {
   "cell_type": "code",
   "execution_count": 129,
   "metadata": {},
   "outputs": [
    {
     "name": "stdout",
     "output_type": "stream",
     "text": [
      "a: [0 1 2 3 4 5 6 7 8 9]\n",
      "Address a: 1454235024912\n",
      "b:  [0 2 4 6 8]\n",
      "Address b: 1454250588176\n",
      "True\n",
      "a: [  0   1 100   3   4   5   6   7   8   9]\n",
      "b:  [  0 100   4   6   8]\n"
     ]
    }
   ],
   "source": [
    "a = np.arange(10)\n",
    "print(\"a:\",a)\n",
    "print(\"Address a:\",id(a))\n",
    "b = a[::2]\n",
    "print(\"b: \",b)\n",
    "print(\"Address b:\",id(b))\n",
    "print(np.shares_memory(a,b))\n",
    "\n",
    "\n",
    "## One element change will impact other array too\n",
    "b[1] = 100\n",
    "print(\"a:\",a)\n",
    "print(\"b: \",b)"
   ]
  }
 ],
 "metadata": {
  "kernelspec": {
   "display_name": "Python 3",
   "language": "python",
   "name": "python3"
  },
  "language_info": {
   "codemirror_mode": {
    "name": "ipython",
    "version": 3
   },
   "file_extension": ".py",
   "mimetype": "text/x-python",
   "name": "python",
   "nbconvert_exporter": "python",
   "pygments_lexer": "ipython3",
   "version": "3.12.2"
  }
 },
 "nbformat": 4,
 "nbformat_minor": 2
}
