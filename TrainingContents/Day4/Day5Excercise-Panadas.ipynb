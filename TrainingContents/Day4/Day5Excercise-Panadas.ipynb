{
 "cells": [
  {
   "cell_type": "markdown",
   "metadata": {},
   "source": [
    "Automatic Creation of Array\n"
   ]
  },
  {
   "cell_type": "code",
   "execution_count": null,
   "metadata": {},
   "outputs": [],
   "source": [
    "import numpy as np\n",
    "\n",
    "## create array of specific size\n",
    "print(np.arange(10))\n"
   ]
  },
  {
   "cell_type": "code",
   "execution_count": null,
   "metadata": {},
   "outputs": [],
   "source": [
    "arr = np.arange(4,10,.5)  ## (start, upto size, step)\n",
    "arr"
   ]
  },
  {
   "cell_type": "code",
   "execution_count": null,
   "metadata": {},
   "outputs": [],
   "source": [
    "# to comapre and get the specific item from array\n",
    "arr[arr>8.5]"
   ]
  },
  {
   "cell_type": "code",
   "execution_count": null,
   "metadata": {},
   "outputs": [],
   "source": [
    "arr1 = arr[arr > 8.0]\n",
    "print(arr1)"
   ]
  },
  {
   "cell_type": "code",
   "execution_count": null,
   "metadata": {},
   "outputs": [],
   "source": [
    "from numpy import random\n",
    "arr = random.rand(4,5,) ## rand function create array of flaot values\n",
    "print(arr)\n"
   ]
  },
  {
   "cell_type": "code",
   "execution_count": null,
   "metadata": {},
   "outputs": [],
   "source": [
    "arr[1,2] ## 2 row and 3 element"
   ]
  },
  {
   "cell_type": "code",
   "execution_count": null,
   "metadata": {},
   "outputs": [],
   "source": [
    "arr[1:3] ## [ start row : upto n-1 row]"
   ]
  },
  {
   "cell_type": "code",
   "execution_count": null,
   "metadata": {},
   "outputs": [],
   "source": [
    "arr[[1,2],3]  ## print [[rows range], column]"
   ]
  },
  {
   "cell_type": "code",
   "execution_count": null,
   "metadata": {},
   "outputs": [],
   "source": [
    "arr [[1,2,3],3] "
   ]
  },
  {
   "cell_type": "code",
   "execution_count": null,
   "metadata": {},
   "outputs": [],
   "source": [
    "arr[1:3,1] # [row range, column ]"
   ]
  },
  {
   "cell_type": "code",
   "execution_count": null,
   "metadata": {},
   "outputs": [],
   "source": [
    "print(arr)\n",
    "arr[1:3, 2:4]"
   ]
  },
  {
   "cell_type": "code",
   "execution_count": 11,
   "metadata": {},
   "outputs": [
    {
     "name": "stdout",
     "output_type": "stream",
     "text": [
      "44.6 µs ± 4.34 µs per loop (mean ± std. dev. of 7 runs, 10,000 loops each)\n"
     ]
    }
   ],
   "source": [
    "L = range(1000)\n",
    "%timeit [i**2 for i in L]"
   ]
  },
  {
   "cell_type": "code",
   "execution_count": 12,
   "metadata": {},
   "outputs": [
    {
     "name": "stdout",
     "output_type": "stream",
     "text": [
      "859 ns ± 96.3 ns per loop (mean ± std. dev. of 7 runs, 1,000,000 loops each)\n"
     ]
    }
   ],
   "source": [
    "a = np.arange(1000) # arange is automatic range\n",
    "%timeit a**2"
   ]
  },
  {
   "cell_type": "code",
   "execution_count": 28,
   "metadata": {},
   "outputs": [
    {
     "name": "stdout",
     "output_type": "stream",
     "text": [
      "366 ns ± 29.2 ns per loop (mean ± std. dev. of 7 runs, 1,000,000 loops each)\n"
     ]
    }
   ],
   "source": [
    "a = np.array(1000) # arange is automatic range\n",
    "%timeit a**2"
   ]
  },
  {
   "cell_type": "code",
   "execution_count": 14,
   "metadata": {},
   "outputs": [
    {
     "data": {
      "text/plain": [
       "array([0.        , 0.02040816, 0.04081633, 0.06122449, 0.08163265,\n",
       "       0.10204082, 0.12244898, 0.14285714, 0.16326531, 0.18367347,\n",
       "       0.20408163, 0.2244898 , 0.24489796, 0.26530612, 0.28571429,\n",
       "       0.30612245, 0.32653061, 0.34693878, 0.36734694, 0.3877551 ,\n",
       "       0.40816327, 0.42857143, 0.44897959, 0.46938776, 0.48979592,\n",
       "       0.51020408, 0.53061224, 0.55102041, 0.57142857, 0.59183673,\n",
       "       0.6122449 , 0.63265306, 0.65306122, 0.67346939, 0.69387755,\n",
       "       0.71428571, 0.73469388, 0.75510204, 0.7755102 , 0.79591837,\n",
       "       0.81632653, 0.83673469, 0.85714286, 0.87755102, 0.89795918,\n",
       "       0.91836735, 0.93877551, 0.95918367, 0.97959184, 1.        ])"
      ]
     },
     "execution_count": 14,
     "metadata": {},
     "output_type": "execute_result"
    }
   ],
   "source": [
    "a = np.linspace(0,1,50) ## get the 50 element start from 0 to 1\n",
    "a"
   ]
  },
  {
   "cell_type": "code",
   "execution_count": 15,
   "metadata": {},
   "outputs": [
    {
     "data": {
      "text/plain": [
       "array([1., 3.])"
      ]
     },
     "execution_count": 15,
     "metadata": {},
     "output_type": "execute_result"
    }
   ],
   "source": [
    "arr = np.arange(1,4,2,float) ## (start, end, step, dType)\n",
    "arr"
   ]
  },
  {
   "cell_type": "code",
   "execution_count": 21,
   "metadata": {},
   "outputs": [
    {
     "data": {
      "text/plain": [
       "11"
      ]
     },
     "execution_count": 21,
     "metadata": {},
     "output_type": "execute_result"
    }
   ],
   "source": [
    "arr = np.random.randint(1,30)\n",
    "arr"
   ]
  },
  {
   "cell_type": "code",
   "execution_count": 17,
   "metadata": {},
   "outputs": [
    {
     "data": {
      "text/plain": [
       "array([[[5.11799995e-01, 9.41088039e-01],\n",
       "        [1.92595777e-01, 2.06702512e-01],\n",
       "        [6.87631446e-01, 7.14343172e-01],\n",
       "        [9.19440171e-01, 3.26773572e-02],\n",
       "        [8.79100465e-01, 2.33955943e-01]],\n",
       "\n",
       "       [[6.60411743e-01, 5.51419138e-01],\n",
       "        [4.58288429e-01, 3.45469385e-01],\n",
       "        [6.19463815e-01, 3.44976648e-01],\n",
       "        [6.82987350e-01, 4.83480572e-01],\n",
       "        [3.42230067e-01, 2.70463201e-01]],\n",
       "\n",
       "       [[7.82137704e-01, 2.76091573e-01],\n",
       "        [2.66211073e-01, 7.59061007e-01],\n",
       "        [3.27262589e-01, 8.76361182e-01],\n",
       "        [9.68377700e-02, 6.33350944e-01],\n",
       "        [6.84240937e-01, 8.34996301e-01]],\n",
       "\n",
       "       [[7.74828711e-01, 5.28236377e-01],\n",
       "        [2.15547054e-01, 3.53069345e-01],\n",
       "        [5.49073975e-01, 3.99019610e-04],\n",
       "        [7.80880893e-02, 9.16438260e-01],\n",
       "        [5.98138339e-01, 7.14699930e-01]],\n",
       "\n",
       "       [[5.40576912e-01, 4.32157935e-01],\n",
       "        [7.14933830e-01, 3.99901859e-01],\n",
       "        [1.03589966e-01, 3.80729589e-01],\n",
       "        [3.52987282e-01, 6.93032927e-01],\n",
       "        [4.81565096e-02, 5.07080109e-01]]])"
      ]
     },
     "execution_count": 17,
     "metadata": {},
     "output_type": "execute_result"
    }
   ],
   "source": [
    "arr = np.random.rand(5,5,2) ##(config,row,column)\n",
    "arr"
   ]
  },
  {
   "cell_type": "code",
   "execution_count": 18,
   "metadata": {},
   "outputs": [
    {
     "data": {
      "text/plain": [
       "array([[[ 1.13612935,  0.19123135],\n",
       "        [-0.41214563, -0.93043346]],\n",
       "\n",
       "       [[-0.03499787,  0.05891298],\n",
       "        [-0.59889514, -0.22928826]]])"
      ]
     },
     "execution_count": 18,
     "metadata": {},
     "output_type": "execute_result"
    }
   ],
   "source": [
    "arr = np.random.randn(2,2,2)\n",
    "arr"
   ]
  },
  {
   "cell_type": "code",
   "execution_count": 19,
   "metadata": {},
   "outputs": [
    {
     "data": {
      "text/plain": [
       "array([-0.2980319 , -0.07870206, -0.13354835, -0.75598004, -0.61165222,\n",
       "       -1.93547034, -0.06997787,  0.30416148,  0.85773321,  1.32750719,\n",
       "       -0.05113248,  0.38491125, -1.35031105,  1.62510066,  1.51570482,\n",
       "        0.7381102 , -0.63836478,  1.56489974, -0.09148396, -0.43319595,\n",
       "        0.79499925,  0.02694775, -0.59737786,  0.53233436, -0.81339129,\n",
       "        1.00407234,  0.5907648 ,  1.56913449,  0.43926099,  0.56049559])"
      ]
     },
     "execution_count": 19,
     "metadata": {},
     "output_type": "execute_result"
    }
   ],
   "source": [
    "arr = np.random.randn(30)\n",
    "arr"
   ]
  },
  {
   "cell_type": "code",
   "execution_count": 20,
   "metadata": {},
   "outputs": [
    {
     "data": {
      "text/plain": [
       "array([0.31096787, 0.7070737 , 0.03234252, 0.96388159, 0.38155137,\n",
       "       0.32076282, 0.87631319, 0.1040845 , 0.70734177, 0.51215246,\n",
       "       0.75614939, 0.78647662, 0.10452299, 0.91419137, 0.10726469,\n",
       "       0.35423737, 0.32376191, 0.60696517, 0.70920996, 0.15102108,\n",
       "       0.37506273, 0.5743816 , 0.1838579 , 0.02228831, 0.99737711,\n",
       "       0.48591467, 0.04637572, 0.33526065, 0.13887656, 0.3538931 ])"
      ]
     },
     "execution_count": 20,
     "metadata": {},
     "output_type": "execute_result"
    }
   ],
   "source": [
    "arr = np.random.random(30)\n",
    "arr"
   ]
  },
  {
   "cell_type": "code",
   "execution_count": 22,
   "metadata": {},
   "outputs": [
    {
     "data": {
      "text/plain": [
       "array([[1., 1.],\n",
       "       [1., 1.]])"
      ]
     },
     "execution_count": 22,
     "metadata": {},
     "output_type": "execute_result"
    }
   ],
   "source": [
    "arr = np.ones((2,2))\n",
    "arr"
   ]
  },
  {
   "cell_type": "code",
   "execution_count": 23,
   "metadata": {},
   "outputs": [
    {
     "data": {
      "text/plain": [
       "array([[0., 0., 0.],\n",
       "       [0., 0., 0.],\n",
       "       [0., 0., 0.]])"
      ]
     },
     "execution_count": 23,
     "metadata": {},
     "output_type": "execute_result"
    }
   ],
   "source": [
    "arr = np.zeros((3,3))\n",
    "arr"
   ]
  },
  {
   "cell_type": "code",
   "execution_count": 24,
   "metadata": {},
   "outputs": [
    {
     "data": {
      "text/plain": [
       "array([[1, 0, 0, 0],\n",
       "       [0, 1, 0, 0],\n",
       "       [0, 0, 1, 0],\n",
       "       [0, 0, 0, 1]])"
      ]
     },
     "execution_count": 24,
     "metadata": {},
     "output_type": "execute_result"
    }
   ],
   "source": [
    "arr = np.eye(4,4,dtype='int')  ## diagonal one\n",
    "arr"
   ]
  },
  {
   "cell_type": "code",
   "execution_count": 25,
   "metadata": {},
   "outputs": [
    {
     "data": {
      "text/plain": [
       "array([[1, 0, 0, 0],\n",
       "       [0, 2, 0, 0],\n",
       "       [0, 0, 3, 0],\n",
       "       [0, 0, 0, 4]])"
      ]
     },
     "execution_count": 25,
     "metadata": {},
     "output_type": "execute_result"
    }
   ],
   "source": [
    "arr = np.diag((1,2,3,4))\n",
    "arr"
   ]
  },
  {
   "cell_type": "code",
   "execution_count": 29,
   "metadata": {},
   "outputs": [
    {
     "data": {
      "text/html": [
       "<div>\n",
       "<style scoped>\n",
       "    .dataframe tbody tr th:only-of-type {\n",
       "        vertical-align: middle;\n",
       "    }\n",
       "\n",
       "    .dataframe tbody tr th {\n",
       "        vertical-align: top;\n",
       "    }\n",
       "\n",
       "    .dataframe thead th {\n",
       "        text-align: right;\n",
       "    }\n",
       "</style>\n",
       "<table border=\"1\" class=\"dataframe\">\n",
       "  <thead>\n",
       "    <tr style=\"text-align: right;\">\n",
       "      <th></th>\n",
       "      <th>Day</th>\n",
       "      <th>Temp</th>\n",
       "      <th>Winspeed</th>\n",
       "      <th>Event</th>\n",
       "    </tr>\n",
       "  </thead>\n",
       "  <tbody>\n",
       "    <tr>\n",
       "      <th>0</th>\n",
       "      <td>1/1/2024</td>\n",
       "      <td>8</td>\n",
       "      <td>45</td>\n",
       "      <td>Sunny</td>\n",
       "    </tr>\n",
       "    <tr>\n",
       "      <th>1</th>\n",
       "      <td>2/1/2024</td>\n",
       "      <td>8</td>\n",
       "      <td>45</td>\n",
       "      <td>Sunny</td>\n",
       "    </tr>\n",
       "    <tr>\n",
       "      <th>2</th>\n",
       "      <td>3/1/2024</td>\n",
       "      <td>8</td>\n",
       "      <td>45</td>\n",
       "      <td>Sunny</td>\n",
       "    </tr>\n",
       "    <tr>\n",
       "      <th>3</th>\n",
       "      <td>4/1/2024</td>\n",
       "      <td>8</td>\n",
       "      <td>45</td>\n",
       "      <td>Sunny</td>\n",
       "    </tr>\n",
       "    <tr>\n",
       "      <th>4</th>\n",
       "      <td>5/1/2024</td>\n",
       "      <td>3</td>\n",
       "      <td>45</td>\n",
       "      <td>Rainy</td>\n",
       "    </tr>\n",
       "    <tr>\n",
       "      <th>5</th>\n",
       "      <td>6/1/2024</td>\n",
       "      <td>45</td>\n",
       "      <td>20</td>\n",
       "      <td>Hot</td>\n",
       "    </tr>\n",
       "  </tbody>\n",
       "</table>\n",
       "</div>"
      ],
      "text/plain": [
       "        Day  Temp  Winspeed  Event\n",
       "0  1/1/2024     8        45  Sunny\n",
       "1  2/1/2024     8        45  Sunny\n",
       "2  3/1/2024     8        45  Sunny\n",
       "3  4/1/2024     8        45  Sunny\n",
       "4  5/1/2024     3        45  Rainy\n",
       "5  6/1/2024    45        20    Hot"
      ]
     },
     "execution_count": 29,
     "metadata": {},
     "output_type": "execute_result"
    }
   ],
   "source": [
    "## creating dataframes using list\n",
    "import pandas as pd \n",
    "weatherData = [('1/1/2024', 8,45,'Sunny'),\n",
    " ('2/1/2024', 8,45,'Sunny'),\n",
    " ('3/1/2024', 8,45,'Sunny'),\n",
    " ('4/1/2024', 8,45,'Sunny'),\n",
    " ('5/1/2024', 3,45,'Rainy'),\n",
    " ('6/1/2024', 45,20,'Hot')\n",
    " ]\n",
    "df =pd.DataFrame(weatherData,columns=('Day', 'Temp','Winspeed','Event'))\n",
    "df"
   ]
  },
  {
   "cell_type": "code",
   "execution_count": null,
   "metadata": {},
   "outputs": [],
   "source": [
    "pd.DataFrame(np.random.rand(100,2)) ## create dataframe using numpy "
   ]
  },
  {
   "cell_type": "code",
   "execution_count": 26,
   "metadata": {},
   "outputs": [
    {
     "data": {
      "text/plain": [
       "5"
      ]
     },
     "execution_count": 26,
     "metadata": {},
     "output_type": "execute_result"
    }
   ],
   "source": [
    "a = np.arange(10)\n",
    "a[5]\n"
   ]
  },
  {
   "cell_type": "code",
   "execution_count": 27,
   "metadata": {},
   "outputs": [
    {
     "name": "stdout",
     "output_type": "stream",
     "text": [
      "[[1 0 0]\n",
      " [0 2 0]\n",
      " [0 0 3]]\n"
     ]
    },
    {
     "data": {
      "text/plain": [
       "3"
      ]
     },
     "execution_count": 27,
     "metadata": {},
     "output_type": "execute_result"
    }
   ],
   "source": [
    "a = np.diag([1,2,3])\n",
    "print(a)\n",
    "a[2,2]"
   ]
  },
  {
   "cell_type": "code",
   "execution_count": null,
   "metadata": {},
   "outputs": [],
   "source": [
    "a = np.arange(10)  ## slicing the data\n",
    "print(a)\n",
    "a[5 :] = 100\n",
    "print(a)"
   ]
  },
  {
   "cell_type": "code",
   "execution_count": null,
   "metadata": {},
   "outputs": [],
   "source": [
    "a[2:9:2] ## get the element start from 2 up to 9 with step size 2\n"
   ]
  },
  {
   "cell_type": "code",
   "execution_count": 30,
   "metadata": {},
   "outputs": [
    {
     "name": "stdout",
     "output_type": "stream",
     "text": [
      "a: [0 1 2 3 4 5 6 7 8 9]\n",
      "b: [0 1 2 3 4]\n",
      "after change a : [0 1 2 3 4 4 3 2 1 0]\n"
     ]
    }
   ],
   "source": [
    "## change the element of a starting form 5th to range element with b elements // the size of element should be same\n",
    "a = np.arange(10)\n",
    "print(\"a:\",a)\n",
    "b = np.arange(5)\n",
    "print(\"b:\",b)\n",
    "a[5:] = b[::-1] ## reverse of element and assign to a\n",
    "print(\"after change a :\", a)"
   ]
  },
  {
   "cell_type": "code",
   "execution_count": 31,
   "metadata": {},
   "outputs": [
    {
     "name": "stdout",
     "output_type": "stream",
     "text": [
      "a: [0 1 2 3 4 5 6 7 8 9]\n",
      "Address a: 1851103416592\n",
      "b:  [0 2 4 6 8]\n",
      "Address b: 1851117809520\n",
      "True\n",
      "a: [  0   1 100   3   4   5   6   7   8   9]\n",
      "b:  [  0 100   4   6   8]\n"
     ]
    }
   ],
   "source": [
    "a = np.arange(10)\n",
    "print(\"a:\",a)\n",
    "print(\"Address a:\",id(a))\n",
    "b = a[::2]\n",
    "print(\"b: \",b)\n",
    "print(\"Address b:\",id(b))\n",
    "print(np.shares_memory(a,b))\n",
    "\n",
    "\n",
    "## One element change will impact other array too\n",
    "b[1] = 100\n",
    "print(\"a:\",a)\n",
    "print(\"b: \",b)"
   ]
  },
  {
   "cell_type": "markdown",
   "metadata": {},
   "source": [
    "### Operators in numpy array"
   ]
  },
  {
   "cell_type": "code",
   "execution_count": 32,
   "metadata": {},
   "outputs": [
    {
     "data": {
      "text/plain": [
       "array([2, 3, 4, 5])"
      ]
     },
     "execution_count": 32,
     "metadata": {},
     "output_type": "execute_result"
    }
   ],
   "source": [
    "a = np.array([1,2,3,4])\n",
    "a+1"
   ]
  },
  {
   "cell_type": "code",
   "execution_count": 33,
   "metadata": {},
   "outputs": [
    {
     "data": {
      "text/plain": [
       "array([[ 1,  0,  0,  0],\n",
       "       [ 0,  4,  0,  0],\n",
       "       [ 0,  0,  9,  0],\n",
       "       [ 0,  0,  0, 16]])"
      ]
     },
     "execution_count": 33,
     "metadata": {},
     "output_type": "execute_result"
    }
   ],
   "source": [
    "c = np.diag([1,2,3,4])\n",
    "c**2"
   ]
  },
  {
   "cell_type": "code",
   "execution_count": 34,
   "metadata": {},
   "outputs": [
    {
     "data": {
      "text/plain": [
       "array([False,  True,  True, False, False])"
      ]
     },
     "execution_count": 34,
     "metadata": {},
     "output_type": "execute_result"
    }
   ],
   "source": [
    "a = np.array([1,2,3,4,5])\n",
    "b = np.array([5,2,3,2,9])\n",
    "a==b"
   ]
  },
  {
   "cell_type": "code",
   "execution_count": 35,
   "metadata": {},
   "outputs": [
    {
     "data": {
      "text/plain": [
       "array([False, False, False,  True, False])"
      ]
     },
     "execution_count": 35,
     "metadata": {},
     "output_type": "execute_result"
    }
   ],
   "source": [
    "a>b\n"
   ]
  },
  {
   "cell_type": "code",
   "execution_count": null,
   "metadata": {},
   "outputs": [],
   "source": [
    "np.array_equal(a,b,)"
   ]
  },
  {
   "cell_type": "code",
   "execution_count": 36,
   "metadata": {},
   "outputs": [
    {
     "data": {
      "text/plain": [
       "array([ True,  True,  True,  True])"
      ]
     },
     "execution_count": 36,
     "metadata": {},
     "output_type": "execute_result"
    }
   ],
   "source": [
    "a  = np.array([1,2,3,4])\n",
    "b  = np.array([2,3,4,5])\n",
    "c  = np.array([3,4,5,6])\n",
    "\n",
    "(a<=b) &(b<=c)"
   ]
  },
  {
   "cell_type": "code",
   "execution_count": 37,
   "metadata": {},
   "outputs": [
    {
     "data": {
      "text/plain": [
       "array([ True,  True,  True, False])"
      ]
     },
     "execution_count": 37,
     "metadata": {},
     "output_type": "execute_result"
    }
   ],
   "source": [
    "c[3] =1\n",
    "(a<=b) &(b<=c)"
   ]
  },
  {
   "cell_type": "code",
   "execution_count": 40,
   "metadata": {},
   "outputs": [
    {
     "name": "stdout",
     "output_type": "stream",
     "text": [
      "x value [1 2 3 4]\n",
      "y value [[1 2 3]\n",
      " [5 4 7]]\n",
      " x mean value :  2.5\n",
      " y mean Column wise [3. 3. 5.]\n",
      " y mean row wise [2.         5.33333333]\n",
      " x Median value :  2.5\n",
      " y Median column wise [3. 3. 5.]\n",
      " y Median row wise [2. 5.]\n",
      " y Median value :  3.5\n"
     ]
    }
   ],
   "source": [
    "x = np.array([1,2,3,4])\n",
    "y = np.array([[1,2,3], [5,4,7]])\n",
    "print(\"x value\",x)\n",
    "print(\"y value\",y)\n",
    "##The mean is the average of a data set. It can be calculated by adding up all of the numbers in the data set and then dividing by the total number of values in the set.\n",
    "print(\" x mean value : \",x.mean())\n",
    "print(\" y mean Column wise\", y.mean(axis= 0)) ## column wise mean\n",
    "print(\" y mean row wise\", y.mean(axis= 1)) ## row wise mean\n",
    "\n",
    "\n",
    "##The median is the middle value (or midpoint) when a data set is ordered from least to greatest.\n",
    "print(\" x Median value : \",np.median(x))\n",
    "print(\" y Median column wise\", np.median(y, axis= 0)) ## column wise Median\n",
    "print(\" y Median row wise\", np.median(y, axis= 1)) ## row wise Median\n",
    "print(\" y Median value : \",np.median(y))\n",
    "\n",
    "\n"
   ]
  },
  {
   "cell_type": "code",
   "execution_count": 41,
   "metadata": {},
   "outputs": [
    {
     "name": "stdout",
     "output_type": "stream",
     "text": [
      " mode value of array is 5\n"
     ]
    },
    {
     "data": {
      "text/plain": [
       "count(3)"
      ]
     },
     "execution_count": 41,
     "metadata": {},
     "output_type": "execute_result"
    }
   ],
   "source": [
    "## Mode Function\n",
    "import statistics as st\n",
    "arr = np.array([1,2,2,3,3,4,5,5,5])\n",
    "print(\" mode value of array is\", st.mode(arr))\n",
    "st.count(3)"
   ]
  },
  {
   "cell_type": "code",
   "execution_count": 42,
   "metadata": {},
   "outputs": [
    {
     "data": {
      "text/plain": [
       "array([[ 1900., 30000.,  4000., 48300.],\n",
       "       [ 1901., 47200.,  6100., 48200.],\n",
       "       [ 1902., 70200.,  9800., 41500.],\n",
       "       [ 1903., 77400., 35200., 38200.],\n",
       "       [ 1904., 36300., 59400., 40600.],\n",
       "       [ 1905., 20600., 41700., 39800.],\n",
       "       [ 1906., 18100., 19000., 38600.],\n",
       "       [ 1907., 21400., 13000., 42300.],\n",
       "       [ 1908., 22000.,  8300., 44500.],\n",
       "       [ 1909., 25400.,  9100., 42100.],\n",
       "       [ 1910., 27100.,  7400., 46000.],\n",
       "       [ 1911., 40300.,  8000., 46800.],\n",
       "       [ 1912., 57000., 12300., 43800.],\n",
       "       [ 1913., 76600., 19500., 40900.],\n",
       "       [ 1914., 52300., 45700., 39400.],\n",
       "       [ 1915., 19500., 51100., 39000.],\n",
       "       [ 1916., 11200., 29700., 36700.],\n",
       "       [ 1917.,  7600., 15800., 41800.],\n",
       "       [ 1918., 14600.,  9700., 43300.],\n",
       "       [ 1919., 16200., 10100., 41300.],\n",
       "       [ 1920., 24700.,  8600., 47300.]])"
      ]
     },
     "execution_count": 42,
     "metadata": {},
     "output_type": "execute_result"
    }
   ],
   "source": [
    "data = np.loadtxt('populations.txt')\n",
    "data"
   ]
  },
  {
   "cell_type": "code",
   "execution_count": 43,
   "metadata": {},
   "outputs": [
    {
     "name": "stdout",
     "output_type": "stream",
     "text": [
      "Year Value :  [1900. 1901. 1902. 1903. 1904. 1905. 1906. 1907. 1908. 1909. 1910. 1911.\n",
      " 1912. 1913. 1914. 1915. 1916. 1917. 1918. 1919. 1920.]\n",
      "hare Value :  [30000. 47200. 70200. 77400. 36300. 20600. 18100. 21400. 22000. 25400.\n",
      " 27100. 40300. 57000. 76600. 52300. 19500. 11200.  7600. 14600. 16200.\n",
      " 24700.]\n",
      "lynx Value :  [ 4000.  6100.  9800. 35200. 59400. 41700. 19000. 13000.  8300.  9100.\n",
      "  7400.  8000. 12300. 19500. 45700. 51100. 29700. 15800.  9700. 10100.\n",
      "  8600.]\n",
      "carrot Value :  [48300. 48200. 41500. 38200. 40600. 39800. 38600. 42300. 44500. 42100.\n",
      " 46000. 46800. 43800. 40900. 39400. 39000. 36700. 41800. 43300. 41300.\n",
      " 47300.]\n"
     ]
    }
   ],
   "source": [
    "## assign the headers to data and Transvers the data\n",
    "year, hare, lynx, carrot = data.T\n",
    "\n",
    "## Print the header value\n",
    "\n",
    "print(\"Year Value : \",year)\n",
    "print(\"hare Value : \",hare)\n",
    "print(\"lynx Value : \",lynx)\n",
    "print(\"carrot Value : \",carrot)"
   ]
  },
  {
   "cell_type": "code",
   "execution_count": 44,
   "metadata": {},
   "outputs": [
    {
     "name": "stdout",
     "output_type": "stream",
     "text": [
      "print population 2: [[30000.  4000. 48300.]\n",
      " [47200.  6100. 48200.]\n",
      " [70200.  9800. 41500.]\n",
      " [77400. 35200. 38200.]\n",
      " [36300. 59400. 40600.]\n",
      " [20600. 41700. 39800.]\n",
      " [18100. 19000. 38600.]\n",
      " [21400. 13000. 42300.]\n",
      " [22000.  8300. 44500.]\n",
      " [25400.  9100. 42100.]\n",
      " [27100.  7400. 46000.]\n",
      " [40300.  8000. 46800.]\n",
      " [57000. 12300. 43800.]\n",
      " [76600. 19500. 40900.]\n",
      " [52300. 45700. 39400.]\n",
      " [19500. 51100. 39000.]\n",
      " [11200. 29700. 36700.]\n",
      " [ 7600. 15800. 41800.]\n",
      " [14600.  9700. 43300.]\n",
      " [16200. 10100. 41300.]\n",
      " [24700.  8600. 47300.]]\n"
     ]
    }
   ],
   "source": [
    "\n",
    "##print(\"print population 1:\",populations)\n",
    "populations = data[:,1:] ## pick all rows and start second columns values\n",
    "print(\"print population 2:\",populations)\n"
   ]
  },
  {
   "cell_type": "code",
   "execution_count": 45,
   "metadata": {},
   "outputs": [
    {
     "data": {
      "text/plain": [
       "array([48300., 48200., 70200., 77400., 59400., 41700., 38600., 42300.,\n",
       "       44500., 42100., 46000., 46800., 57000., 76600., 52300., 51100.,\n",
       "       36700., 41800., 43300., 41300., 47300.])"
      ]
     },
     "execution_count": 45,
     "metadata": {},
     "output_type": "execute_result"
    }
   ],
   "source": [
    "np.max(populations,axis=1) ## Get the max value from data"
   ]
  },
  {
   "cell_type": "code",
   "execution_count": 46,
   "metadata": {},
   "outputs": [
    {
     "data": {
      "text/plain": [
       "array([2, 2, 0, 0, 1, 1, 2, 2, 2, 2, 2, 2, 0, 0, 0, 1, 2, 2, 2, 2, 2],\n",
       "      dtype=int64)"
      ]
     },
     "execution_count": 46,
     "metadata": {},
     "output_type": "execute_result"
    }
   ],
   "source": [
    "np.argmax(populations, axis=1) ## index value of maximum value from data"
   ]
  },
  {
   "cell_type": "markdown",
   "metadata": {},
   "source": [
    "### Broadcasting / Tiles"
   ]
  },
  {
   "cell_type": "code",
   "execution_count": 48,
   "metadata": {},
   "outputs": [
    {
     "name": "stdout",
     "output_type": "stream",
     "text": [
      "tile value a:  [[ 0 10 20 30]\n",
      " [ 0 10 20 30]\n",
      " [ 0 10 20 30]]\n",
      " After Transpose a:  [[ 0  0  0]\n",
      " [10 10 10]\n",
      " [20 20 20]\n",
      " [30 30 30]]\n",
      "Array b [0 1 2]\n",
      " \n",
      "Adding two tiles :  [[ 0  1  2]\n",
      " [10 11 12]\n",
      " [20 21 22]\n",
      " [30 31 32]]\n"
     ]
    }
   ],
   "source": [
    "### Create the Tiles if we don't have tiles\n",
    "\n",
    "a = np.tile(np.arange(0,40,10),(3,1))\n",
    "print(\"tile value a: \",a)\n",
    "a = a.T\n",
    "print(\" After Transpose a: \",a)\n",
    "\n",
    "\n",
    "b = np.array([0,1,2])\n",
    "print(\"Array b\", b)\n",
    "print(\" \\nAdding two tiles : \",(a + b)) ## as a is tiles and b is array.. it will automatically convert the b to similar tiles  and adding it\n"
   ]
  },
  {
   "cell_type": "code",
   "execution_count": 49,
   "metadata": {},
   "outputs": [
    {
     "name": "stdout",
     "output_type": "stream",
     "text": [
      "a Shape: (4,)\n",
      "a value:  [ 0 10 20 30]\n"
     ]
    }
   ],
   "source": [
    "#### when 1 dimension array given but enhance it\n",
    "a = np.arange(0,40,10)\n",
    "print(\"a Shape:\",a.shape)\n",
    "print(\"a value: \",a)\n"
   ]
  },
  {
   "cell_type": "code",
   "execution_count": 50,
   "metadata": {},
   "outputs": [
    {
     "name": "stdout",
     "output_type": "stream",
     "text": [
      "a Shape: (4, 1)\n",
      "a value:  [[ 0]\n",
      " [10]\n",
      " [20]\n",
      " [30]]\n"
     ]
    }
   ],
   "source": [
    "a= a[:,np.newaxis]\n",
    "print(\"a Shape:\",a.shape)\n",
    "print(\"a value: \",a)"
   ]
  },
  {
   "cell_type": "code",
   "execution_count": 52,
   "metadata": {},
   "outputs": [
    {
     "name": "stdout",
     "output_type": "stream",
     "text": [
      "Vlue of A : \n",
      " [[ 0]\n",
      " [10]\n",
      " [20]\n",
      " [30]]\n",
      "Vlue of B : \n",
      " [0 1 2]\n"
     ]
    },
    {
     "data": {
      "text/plain": [
       "array([[ 0,  1,  2],\n",
       "       [10, 11, 12],\n",
       "       [20, 21, 22],\n",
       "       [30, 31, 32]])"
      ]
     },
     "execution_count": 52,
     "metadata": {},
     "output_type": "execute_result"
    }
   ],
   "source": [
    "print(\"Vlue of A : \\n\",a)\n",
    "print(\"Vlue of B : \\n\",b)\n",
    "a + b"
   ]
  }
 ],
 "metadata": {
  "kernelspec": {
   "display_name": "Python 3",
   "language": "python",
   "name": "python3"
  },
  "language_info": {
   "codemirror_mode": {
    "name": "ipython",
    "version": 3
   },
   "file_extension": ".py",
   "mimetype": "text/x-python",
   "name": "python",
   "nbconvert_exporter": "python",
   "pygments_lexer": "ipython3",
   "version": "3.12.2"
  }
 },
 "nbformat": 4,
 "nbformat_minor": 2
}
