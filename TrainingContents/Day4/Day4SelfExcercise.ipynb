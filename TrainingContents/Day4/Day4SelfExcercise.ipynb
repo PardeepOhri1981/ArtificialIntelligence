{
 "cells": [
  {
   "cell_type": "code",
   "execution_count": null,
   "metadata": {},
   "outputs": [],
   "source": [
    "## different functions used in numpy array\n",
    "import numpy as np\n",
    "list1 = [1,2,3,4,5,6,7,8,9,10,11,12]\n",
    "arr = np.asarray(list1)\n",
    "print(arr)\n",
    "print (type(arr))\n",
    "print (arr.shape)\n",
    "print(arr.ndim)\n",
    "\n",
    "### Reshape the array\n",
    "arr1 = arr.reshape(2,3,2)\n",
    "print(arr1)\n",
    "print (arr1.shape)\n",
    "print(arr1.ndim)\n"
   ]
  },
  {
   "cell_type": "code",
   "execution_count": null,
   "metadata": {},
   "outputs": [],
   "source": [
    "import numpy as np\n",
    "\n",
    "list3 = [1,2,3,4,5,6,5,4,3,2,1]\n",
    "\n",
    "newArr1 = np.array(list3, ndmin=1, dtype= float)\n",
    "print(\"array:\",newArr1)\n",
    "print(\"Dimension:\",newArr1.ndim)\n",
    "print(\"Shape:\",newArr1.shape)\n",
    "newArr2 = np.array(list3, ndmin=2, dtype= int)\n",
    "print(\"Array2:\",newArr2)\n",
    "newArr3 = np.array(list3, ndmin=3, dtype= int)\n",
    "print(\"Array3:\",newArr3)\n",
    "\n",
    "newArr = np.array([[1,2,3,4],[5,6,7,8]])\n",
    "print(\"Array define with array function: \",newArr)\n",
    "print(\"Vale of [1][3]:\",newArr[1][3])\n",
    "\n",
    "## Convert in to array\n",
    "list1 = [2,3,4,5,False]\n",
    "newArr1 = np.asarray(np.array(list1))\n",
    "print(newArr1)\n",
    "\n",
    "mat = np.matrix(list1)\n",
    "print(\"Matrix\",mat)\n",
    "print(mat.ndim)\n",
    "\n",
    "arrNew = np.asarray(mat)\n",
    "print(\"New Array\",arrNew)\n",
    "\n",
    "arrNew2 = np.asanyarray(np.array(list3))\n",
    "print(\"ArrayNew2:\",arrNew2)\n"
   ]
  },
  {
   "cell_type": "code",
   "execution_count": null,
   "metadata": {},
   "outputs": [],
   "source": [
    "##Copy the array\n",
    "print(\"Original Array:\", arr)\n",
    "arrayCopy = arr.copy()\n",
    "print(\"Copy array :\",arrayCopy)\n",
    "arrayCopy [1] = 30\n",
    "print(\"After Change [1] element:\",arrayCopy)\n",
    "print(\"Original Array:\", arr)"
   ]
  },
  {
   "cell_type": "code",
   "execution_count": null,
   "metadata": {},
   "outputs": [],
   "source": [
    "# program to define arrray with dimensions and type, View of array, change in view will change the original array as well\n",
    "listTest = [1,2,3,4,5,6,7,8,9]\n",
    "arrTest = np.array(listTest, ndmin=3, dtype = 'i4')\n",
    "print(\" Original array element:\", arrTest)\n",
    "print(type(arrTest))\n",
    "arrTest1 = arrTest.view()\n",
    "print(\" Array View :\", arrTest1)\n",
    "arrTest1[0][0][0]= 10\n",
    "print(\" After change in view the Original array element:\", arrTest)\n",
    "\n",
    "\n"
   ]
  },
  {
   "cell_type": "code",
   "execution_count": null,
   "metadata": {},
   "outputs": [],
   "source": [
    "## Shaping and Reshaping an array\n",
    "print(\"Original Array:\",arrTest)\n",
    "print(\"dimension of array:\", arrTest.ndim)\n",
    "print(\"shape of array:\", arrTest.shape)\n",
    "print(\"After Reshaping :\",arrTest.reshape(9,1))"
   ]
  },
  {
   "cell_type": "code",
   "execution_count": null,
   "metadata": {},
   "outputs": [],
   "source": [
    "#create matrix, create array from matrix and create array from array\n",
    "\n",
    "matrixTest1 = np.mat((1,2,3,4),dtype='str')\n",
    "print(\"new Matrix matrixTest1:\", matrixTest1)\n",
    "\n",
    "matrixTest = np.asmatrix(matrixTest1,dtype='int')\n",
    "print(\"Matrix using asmatrix function:\", matrixTest)\n",
    "\n",
    "print(\"using asarray\",np.asarray(matrixTest, dtype= 'float'))\n",
    "print(\"using asanyarray function\",np.asanyarray(np.asarray(matrixTest, dtype= 'float'),dtype='str'))\n",
    "\n"
   ]
  },
  {
   "cell_type": "code",
   "execution_count": null,
   "metadata": {},
   "outputs": [],
   "source": [
    "## Creating an array from fucntion (using lambda)\n",
    "\n",
    "arrFunction = np.fromfunction(lambda i,j : i*j, (3,3),dtype='int')\n",
    "print(\"Created array0 using lambda function: \\n\",arrFunction)\n",
    "\n",
    "\n",
    "arrFunction1 = np.fromfunction(lambda i,j : i+j, (3,3),dtype='int')\n",
    "print(\"Created array1 using lambda function: \\n\",arrFunction1)\n",
    "\n",
    "\n",
    "arrFunction2 = np.fromfunction(lambda i,j : i==j, (3,3),dtype='float')\n",
    "print(\"Created array2 using lambda function: \\n\",arrFunction2)\n",
    "\n",
    "\n",
    "arrFunction3 = np.fromfunction(lambda i,j : i**2, (3,3),dtype='int')\n",
    "print(\"Created array3 using lambda function: \\n\",arrFunction3)\n",
    "\n",
    "\n",
    "arrFunction4 = np.fromfunction(lambda i,j,k : i*j*k , (4,4,4),dtype='int')\n",
    "# print(\"Created array4 using lambda function: \\n\",arrFunction4)\n",
    "\n",
    "for x in arrFunction4 :\n",
    "    print(\"\\n iterative\",x)"
   ]
  },
  {
   "cell_type": "markdown",
   "metadata": {},
   "source": [
    "###Convert array into Dataframe using Pandas"
   ]
  },
  {
   "cell_type": "code",
   "execution_count": null,
   "metadata": {},
   "outputs": [],
   "source": [
    "## Convert array into Dataframe using Pandas\n",
    "\n",
    "import pandas as pd\n",
    "a = np.fromfunction(lambda i,j : i*j, (100,400), dtype= 'int')\n",
    "pd.DataFrame(a)"
   ]
  },
  {
   "cell_type": "code",
   "execution_count": null,
   "metadata": {},
   "outputs": [],
   "source": [
    "### Iterative using for\n",
    "\n",
    "arrValue = np.fromfunction(lambda i,j : i*j,(3,3), dtype= 'int')\n",
    "print(arrValue)\n",
    "\n",
    "\n",
    "for x in arrValue:\n",
    "    print(\"Row wise value of array\",x)\n",
    "\n",
    "\n",
    "for x in arrValue:\n",
    "    for y in x:\n",
    "        print(\"element wise value :\",y)\n",
    "\n",
    "\n",
    "for i in np.nditer(arrValue):\n",
    "    print(\"printing value using nditer function rather then multiple loops\", i)\n",
    "\n",
    "\n",
    "## Iterating array sing different datatype\n",
    "for i in np.nditer(arrValue,flags=['buffered'],op_dtypes=['S']):\n",
    "    print(\"printing value after converting type using nditer function\", i)"
   ]
  },
  {
   "cell_type": "code",
   "execution_count": null,
   "metadata": {},
   "outputs": [],
   "source": [
    "### using nditer and printing value stepwise\n",
    "\n",
    "print(\"Original array :\\n\",arrValue)\n",
    "\n",
    "for x in np.nditer(arrValue[:, ::2]):\n",
    "    print(\"printing the value of array step by 2\",x)\n"
   ]
  },
  {
   "cell_type": "code",
   "execution_count": null,
   "metadata": {},
   "outputs": [],
   "source": [
    "## using ndenumeration\n",
    "\n",
    "arrOriginal = np.array([[1,2,3,4],[2,3,4,5]])\n",
    "\n",
    "for idx,i in np.ndenumerate(arrOriginal):\n",
    "    print(\"the value at {0} is {1} \\n\".format(idx,i))"
   ]
  },
  {
   "cell_type": "markdown",
   "metadata": {},
   "source": []
  },
  {
   "cell_type": "code",
   "execution_count": null,
   "metadata": {},
   "outputs": [],
   "source": [
    "## Join Arrays using concatenate and stack function\n",
    "import numpy as np\n",
    "\n",
    "arr1 = np.array([[1, 2,3], [3, 4,5]])\n",
    "\n",
    "arr2 = np.array([[5, 6,7], [7, 8,9]])\n",
    "arr3 = np.array([[50, 60,70], [70, 80,90]])\n",
    "arrF = np.concatenate((arr1, arr2, arr3), axis=0)\n",
    "print(\"Axix 0\",arrF)\n",
    "\n",
    "arr = np.concatenate((arr1, arr2, arr3), axis=1)\n",
    "print(\"Axis 1\",arr)\n",
    "\n",
    "\n",
    "## Stack fucntion\n",
    "\n",
    "import numpy as np\n",
    "\n",
    "arr1 = np.array([1, 2, 3])\n",
    "\n",
    "arr2 = np.array([4, 5, 6])\n",
    "\n",
    "arr = np.stack((arr1, arr2), axis=1)\n",
    "\n",
    "print(\"Stack the array: \",arr)"
   ]
  },
  {
   "cell_type": "code",
   "execution_count": null,
   "metadata": {},
   "outputs": [],
   "source": [
    "\n",
    "# Horizental stack:\n",
    "\n",
    "import numpy as np\n",
    "\n",
    "arr1 = np.array([1, 2, 3])\n",
    "\n",
    "arr2 = np.array([4, 5, 6])\n",
    "\n",
    "arr = np.hstack((arr1, arr2))\n",
    "\n",
    "print(\"Horizental Stack:\",arr)\n",
    "\n"
   ]
  },
  {
   "cell_type": "code",
   "execution_count": null,
   "metadata": {},
   "outputs": [],
   "source": [
    "## Vertical Stack\n",
    "\n",
    "import numpy as np\n",
    "\n",
    "arr1 = np.array([1, 2, 3])\n",
    "\n",
    "arr2 = np.array([4, 5, 6])\n",
    "\n",
    "arr = np.vstack((arr1, arr2))\n",
    "\n",
    "print(\"Vertical Stack:\",arr)\n"
   ]
  },
  {
   "cell_type": "code",
   "execution_count": null,
   "metadata": {},
   "outputs": [],
   "source": [
    "#Depth Stack\n",
    "\n",
    "import numpy as np\n",
    "\n",
    "arr1 = np.array([1, 2, 3])\n",
    "\n",
    "arr2 = np.array([4, 5, 6])\n",
    "\n",
    "arr = np.dstack((arr1, arr2))\n",
    "\n",
    "print(\"Depth Stack:\",arr)"
   ]
  },
  {
   "cell_type": "code",
   "execution_count": 12,
   "metadata": {},
   "outputs": [
    {
     "name": "stdout",
     "output_type": "stream",
     "text": [
      " Single Random value of floatbetween 0 and 1 0.22518362068851994\n",
      " Single Random value of interger 42\n",
      " 1D array of 5 float value [0.63273311 0.28443137 0.50526867 0.46551895 0.67714564]\n",
      " 1D array of 5 integer value [10  6 57 21 33]\n",
      " 2D array of float values [[0.27611616 0.18832379 0.37410268 0.28894067 0.28643918]\n",
      " [0.69342411 0.23246563 0.70644092 0.2310209  0.22113182]]\n",
      " 2D array of integer values [[76 84 74 31 13]\n",
      " [ 8 18 87 93 79]]\n",
      " get the random number from array 7\n",
      " generate array of size 2,3 using choice of numbers in 1D array [[7 6 4]\n",
      " [7 7 7]]\n",
      " Generate 100 Number using probability of values in array [3 7 7 5 5 5 5 7 7 5 5 7 5 5 7 5 7 7 5 7 5 5 7 5 3 7 7 7 7 7 5 7 7 7 7 7 5\n",
      " 5 7 7 5 5 7 7 7 7 7 7 3 5 5 7 7 3 7 5 5 7 7 7 3 5 7 3 7 7 5 3 5 7 7 7 3 5\n",
      " 7 5 7 5 7 7 7 5 5 7 7 7 5 5 5 5 5 7 7 7 7 7 7 7 7 7]\n",
      " Generate 2 D array using probability of values in array [[7 5 7]\n",
      " [7 7 7]]\n"
     ]
    }
   ],
   "source": [
    "### Random array\n",
    "from numpy import random\n",
    "var1 = random.rand() ## provide value between 0 and 1\n",
    "var2 = random.randint(100)\n",
    "var3 = random.rand(5) # Provide 1 d array of 5 float values\n",
    "var4 = random.randint(100, size=5) # Provide 1 d array of 5 int values\n",
    "arr1 = random.rand(2,5) # Provide 2 d array of 2,5  size\n",
    "arr2 = random.randint(100, size=(2,5)) # Provide 2 d array of 2,5 size \n",
    "rnum = random.choice([3, 5, 7, 9]) ## get the random number from arraty\n",
    "narray = random.choice([3,4,6,7], size=(2,3)) # generate array of size 2,3 using choice of these numbers\n",
    "\n",
    "probabilityNumber = random.choice([3, 5, 7, 9], p=[0.1, 0.3, 0.6, 0.0], size=(100)) ## 100 values, probability is set by a number between 0 and 1, where 0 means that the value will never occur and 1 means that the value will always occur.\n",
    "probabilityArray = random.choice([3, 5, 7, 9], p=[0.1, 0.3, 0.6, 0.0], size=(2,3)) ## 100 values, probability is set by a number between 0 and 1, where 0 means that the value will never occur and 1 means that the value will always occur.\n",
    "\n",
    "print(\" Single Random value of floatbetween 0 and 1\", var1)\n",
    "print(\" Single Random value of interger\", var2)\n",
    "print(\" 1D array of 5 float value\", var3)\n",
    "print(\" 1D array of 5 integer value\", var4)\n",
    "print(\" 2D array of float values\", arr1)\n",
    "print(\" 2D array of integer values\", arr2)\n",
    "print(\" get the random number from array\", rnum)\n",
    "print(\" generate array of size 2,3 using choice of numbers in 1D array\", narray)\n",
    "print(\" Generate 100 Number using probability of values in array\", probabilityNumber)\n",
    "print(\" Generate 2 D array using probability of values in array\", probabilityArray)\n",
    "\n",
    "\n"
   ]
  },
  {
   "cell_type": "markdown",
   "metadata": {},
   "source": []
  }
 ],
 "metadata": {
  "kernelspec": {
   "display_name": "Python 3",
   "language": "python",
   "name": "python3"
  },
  "language_info": {
   "codemirror_mode": {
    "name": "ipython",
    "version": 3
   },
   "file_extension": ".py",
   "mimetype": "text/x-python",
   "name": "python",
   "nbconvert_exporter": "python",
   "pygments_lexer": "ipython3",
   "version": "3.12.2"
  }
 },
 "nbformat": 4,
 "nbformat_minor": 2
}
