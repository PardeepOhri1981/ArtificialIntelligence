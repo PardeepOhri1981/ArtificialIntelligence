{
 "cells": [
  {
   "cell_type": "code",
   "execution_count": 4,
   "metadata": {},
   "outputs": [],
   "source": [
    "import pandas as pd\n",
    "import matplotlib.pyplot as plt\n",
    "import numpy as np"
   ]
  },
  {
   "cell_type": "code",
   "execution_count": 5,
   "metadata": {},
   "outputs": [
    {
     "data": {
      "text/html": [
       "<div>\n",
       "<style scoped>\n",
       "    .dataframe tbody tr th:only-of-type {\n",
       "        vertical-align: middle;\n",
       "    }\n",
       "\n",
       "    .dataframe tbody tr th {\n",
       "        vertical-align: top;\n",
       "    }\n",
       "\n",
       "    .dataframe thead th {\n",
       "        text-align: right;\n",
       "    }\n",
       "</style>\n",
       "<table border=\"1\" class=\"dataframe\">\n",
       "  <thead>\n",
       "    <tr style=\"text-align: right;\">\n",
       "      <th></th>\n",
       "      <th>cgpa</th>\n",
       "      <th>package</th>\n",
       "    </tr>\n",
       "  </thead>\n",
       "  <tbody>\n",
       "    <tr>\n",
       "      <th>0</th>\n",
       "      <td>6.89</td>\n",
       "      <td>3.26</td>\n",
       "    </tr>\n",
       "    <tr>\n",
       "      <th>1</th>\n",
       "      <td>5.12</td>\n",
       "      <td>1.98</td>\n",
       "    </tr>\n",
       "    <tr>\n",
       "      <th>2</th>\n",
       "      <td>7.82</td>\n",
       "      <td>3.25</td>\n",
       "    </tr>\n",
       "    <tr>\n",
       "      <th>3</th>\n",
       "      <td>7.42</td>\n",
       "      <td>3.67</td>\n",
       "    </tr>\n",
       "    <tr>\n",
       "      <th>4</th>\n",
       "      <td>6.94</td>\n",
       "      <td>3.57</td>\n",
       "    </tr>\n",
       "  </tbody>\n",
       "</table>\n",
       "</div>"
      ],
      "text/plain": [
       "   cgpa  package\n",
       "0  6.89     3.26\n",
       "1  5.12     1.98\n",
       "2  7.82     3.25\n",
       "3  7.42     3.67\n",
       "4  6.94     3.57"
      ]
     },
     "execution_count": 5,
     "metadata": {},
     "output_type": "execute_result"
    }
   ],
   "source": [
    "df = pd.read_csv('placement.csv')\n",
    "df.head()"
   ]
  },
  {
   "cell_type": "code",
   "execution_count": 6,
   "metadata": {},
   "outputs": [
    {
     "data": {
      "text/plain": [
       "Text(0, 0.5, 'Package')"
      ]
     },
     "execution_count": 6,
     "metadata": {},
     "output_type": "execute_result"
    },
    {
     "data": {
      "image/png": "[encoded data removed]",
      "text/plain": [
       "<Figure size 640x480 with 1 Axes>"
      ]
     },
     "metadata": {},
     "output_type": "display_data"
    }
   ],
   "source": [
    "# EDA to check the trends\n",
    "plt.scatter(df['cgpa'], df['package'])\n",
    "plt.xlabel('CGPA')\n",
    "plt.ylabel('Package')\n",
    "\n",
    "#trends show this is regression problem and to be solved nt regression\n"
   ]
  },
  {
   "cell_type": "code",
   "execution_count": 7,
   "metadata": {},
   "outputs": [],
   "source": [
    "X = df.iloc[:,0:1] # independent feature\n",
    "Y = df.iloc[:,1] # dependent feature\n"
   ]
  },
  {
   "cell_type": "code",
   "execution_count": 8,
   "metadata": {},
   "outputs": [
    {
     "name": "stdout",
     "output_type": "stream",
     "text": [
      "     cgpa\n",
      "0    6.89\n",
      "1    5.12\n",
      "2    7.82\n",
      "3    7.42\n",
      "4    6.94\n",
      "..    ...\n",
      "195  6.93\n",
      "196  5.89\n",
      "197  7.21\n",
      "198  7.63\n",
      "199  6.22\n",
      "\n",
      "[200 rows x 1 columns]\n",
      "0      3.26\n",
      "1      1.98\n",
      "2      3.25\n",
      "3      3.67\n",
      "4      3.57\n",
      "       ... \n",
      "195    2.46\n",
      "196    2.57\n",
      "197    3.24\n",
      "198    3.96\n",
      "199    2.33\n",
      "Name: package, Length: 200, dtype: float64\n"
     ]
    }
   ],
   "source": [
    "print(X)\n",
    "print(Y)"
   ]
  },
  {
   "cell_type": "code",
   "execution_count": 9,
   "metadata": {},
   "outputs": [
    {
     "name": "stdout",
     "output_type": "stream",
     "text": [
      "     cgpa\n",
      "79   7.18\n",
      "197  7.21\n",
      "38   8.62\n",
      "24   6.53\n",
      "122  5.12\n",
      "..    ...\n",
      "106  6.13\n",
      "14   7.73\n",
      "92   7.90\n",
      "179  7.14\n",
      "102  5.13\n",
      "\n",
      "[160 rows x 1 columns]\n",
      "     cgpa\n",
      "95   6.63\n",
      "15   7.25\n",
      "30   7.36\n",
      "158  5.95\n",
      "128  7.93\n",
      "115  8.35\n",
      "69   7.30\n",
      "170  6.22\n",
      "174  7.32\n",
      "45   7.87\n",
      "66   5.11\n",
      "182  5.88\n",
      "165  8.21\n",
      "78   6.59\n",
      "186  7.84\n",
      "177  7.09\n",
      "56   5.84\n",
      "152  7.37\n",
      "82   5.58\n",
      "68   7.56\n",
      "124  6.06\n",
      "16   6.84\n",
      "148  7.57\n",
      "93   6.79\n",
      "65   7.60\n",
      "60   5.61\n",
      "84   4.26\n",
      "67   6.51\n",
      "125  7.33\n",
      "132  5.84\n",
      "9    8.31\n",
      "18   6.94\n",
      "55   8.20\n",
      "75   6.97\n",
      "150  6.30\n",
      "104  7.62\n",
      "135  6.10\n",
      "137  7.14\n",
      "164  9.06\n",
      "76   6.94\n"
     ]
    }
   ],
   "source": [
    "from sklearn.model_selection import train_test_split\n",
    "X_Train, X_Test, Y_train, Y_test = train_test_split(X,Y, test_size= 0.2, random_state=42)\n",
    "print(X_Train)\n",
    "print(X_Test)\n"
   ]
  },
  {
   "cell_type": "code",
   "execution_count": 10,
   "metadata": {},
   "outputs": [],
   "source": [
    "from sklearn.linear_model import LinearRegression\n",
    "lr = LinearRegression()\n"
   ]
  },
  {
   "cell_type": "code",
   "execution_count": 11,
   "metadata": {},
   "outputs": [
    {
     "data": {
      "text/html": [
       "<style>#sk-container-id-1 {\n",
       "  /* Definition of color scheme common for light and dark mode */\n",
       "  --sklearn-color-text: black;\n",
       "  --sklearn-color-line: gray;\n",
       "  /* Definition of color scheme for unfitted estimators */\n",
       "  --sklearn-color-unfitted-level-0: #fff5e6;\n",
       "  --sklearn-color-unfitted-level-1: #f6e4d2;\n",
       "  --sklearn-color-unfitted-level-2: #ffe0b3;\n",
       "  --sklearn-color-unfitted-level-3: chocolate;\n",
       "  /* Definition of color scheme for fitted estimators */\n",
       "  --sklearn-color-fitted-level-0: #f0f8ff;\n",
       "  --sklearn-color-fitted-level-1: #d4ebff;\n",
       "  --sklearn-color-fitted-level-2: #b3dbfd;\n",
       "  --sklearn-color-fitted-level-3: cornflowerblue;\n",
       "\n",
       "  /* Specific color for light theme */\n",
       "  --sklearn-color-text-on-default-background: var(--sg-text-color, var(--theme-code-foreground, var(--jp-content-font-color1, black)));\n",
       "  --sklearn-color-background: var(--sg-background-color, var(--theme-background, var(--jp-layout-color0, white)));\n",
       "  --sklearn-color-border-box: var(--sg-text-color, var(--theme-code-foreground, var(--jp-content-font-color1, black)));\n",
       "  --sklearn-color-icon: #696969;\n",
       "\n",
       "  @media (prefers-color-scheme: dark) {\n",
       "    /* Redefinition of color scheme for dark theme */\n",
       "    --sklearn-color-text-on-default-background: var(--sg-text-color, var(--theme-code-foreground, var(--jp-content-font-color1, white)));\n",
       "    --sklearn-color-background: var(--sg-background-color, var(--theme-background, var(--jp-layout-color0, #111)));\n",
       "    --sklearn-color-border-box: var(--sg-text-color, var(--theme-code-foreground, var(--jp-content-font-color1, white)));\n",
       "    --sklearn-color-icon: #878787;\n",
       "  }\n",
       "}\n",
       "\n",
       "#sk-container-id-1 {\n",
       "  color: var(--sklearn-color-text);\n",
       "}\n",
       "\n",
       "#sk-container-id-1 pre {\n",
       "  padding: 0;\n",
       "}\n",
       "\n",
       "#sk-container-id-1 input.sk-hidden--visually {\n",
       "  border: 0;\n",
       "  clip: rect(1px 1px 1px 1px);\n",
       "  clip: rect(1px, 1px, 1px, 1px);\n",
       "  height: 1px;\n",
       "  margin: -1px;\n",
       "  overflow: hidden;\n",
       "  padding: 0;\n",
       "  position: absolute;\n",
       "  width: 1px;\n",
       "}\n",
       "\n",
       "#sk-container-id-1 div.sk-dashed-wrapped {\n",
       "  border: 1px dashed var(--sklearn-color-line);\n",
       "  margin: 0 0.4em 0.5em 0.4em;\n",
       "  box-sizing: border-box;\n",
       "  padding-bottom: 0.4em;\n",
       "  background-color: var(--sklearn-color-background);\n",
       "}\n",
       "\n",
       "#sk-container-id-1 div.sk-container {\n",
       "  /* jupyter's `normalize.less` sets `[hidden] { display: none; }`\n",
       "     but bootstrap.min.css set `[hidden] { display: none !important; }`\n",
       "     so we also need the `!important` here to be able to override the\n",
       "     default hidden behavior on the sphinx rendered scikit-learn.org.\n",
       "     See: https://github.com/scikit-learn/scikit-learn/issues/21755 */\n",
       "  display: inline-block !important;\n",
       "  position: relative;\n",
       "}\n",
       "\n",
       "#sk-container-id-1 div.sk-text-repr-fallback {\n",
       "  display: none;\n",
       "}\n",
       "\n",
       "div.sk-parallel-item,\n",
       "div.sk-serial,\n",
       "div.sk-item {\n",
       "  /* draw centered vertical line to link estimators */\n",
       "  background-image: linear-gradient(var(--sklearn-color-text-on-default-background), var(--sklearn-color-text-on-default-background));\n",
       "  background-size: 2px 100%;\n",
       "  background-repeat: no-repeat;\n",
       "  background-position: center center;\n",
       "}\n",
       "\n",
       "/* Parallel-specific style estimator block */\n",
       "\n",
       "#sk-container-id-1 div.sk-parallel-item::after {\n",
       "  content: \"\";\n",
       "  width: 100%;\n",
       "  border-bottom: 2px solid var(--sklearn-color-text-on-default-background);\n",
       "  flex-grow: 1;\n",
       "}\n",
       "\n",
       "#sk-container-id-1 div.sk-parallel {\n",
       "  display: flex;\n",
       "  align-items: stretch;\n",
       "  justify-content: center;\n",
       "  background-color: var(--sklearn-color-background);\n",
       "  position: relative;\n",
       "}\n",
       "\n",
       "#sk-container-id-1 div.sk-parallel-item {\n",
       "  display: flex;\n",
       "  flex-direction: column;\n",
       "}\n",
       "\n",
       "#sk-container-id-1 div.sk-parallel-item:first-child::after {\n",
       "  align-self: flex-end;\n",
       "  width: 50%;\n",
       "}\n",
       "\n",
       "#sk-container-id-1 div.sk-parallel-item:last-child::after {\n",
       "  align-self: flex-start;\n",
       "  width: 50%;\n",
       "}\n",
       "\n",
       "#sk-container-id-1 div.sk-parallel-item:only-child::after {\n",
       "  width: 0;\n",
       "}\n",
       "\n",
       "/* Serial-specific style estimator block */\n",
       "\n",
       "#sk-container-id-1 div.sk-serial {\n",
       "  display: flex;\n",
       "  flex-direction: column;\n",
       "  align-items: center;\n",
       "  background-color: var(--sklearn-color-background);\n",
       "  padding-right: 1em;\n",
       "  padding-left: 1em;\n",
       "}\n",
       "\n",
       "\n",
       "/* Toggleable style: style used for estimator/Pipeline/ColumnTransformer box that is\n",
       "clickable and can be expanded/collapsed.\n",
       "- Pipeline and ColumnTransformer use this feature and define the default style\n",
       "- Estimators will overwrite some part of the style using the `sk-estimator` class\n",
       "*/\n",
       "\n",
       "/* Pipeline and ColumnTransformer style (default) */\n",
       "\n",
       "#sk-container-id-1 div.sk-toggleable {\n",
       "  /* Default theme specific background. It is overwritten whether we have a\n",
       "  specific estimator or a Pipeline/ColumnTransformer */\n",
       "  background-color: var(--sklearn-color-background);\n",
       "}\n",
       "\n",
       "/* Toggleable label */\n",
       "#sk-container-id-1 label.sk-toggleable__label {\n",
       "  cursor: pointer;\n",
       "  display: block;\n",
       "  width: 100%;\n",
       "  margin-bottom: 0;\n",
       "  padding: 0.5em;\n",
       "  box-sizing: border-box;\n",
       "  text-align: center;\n",
       "}\n",
       "\n",
       "#sk-container-id-1 label.sk-toggleable__label-arrow:before {\n",
       "  /* Arrow on the left of the label */\n",
       "  content: \"▸\";\n",
       "  float: left;\n",
       "  margin-right: 0.25em;\n",
       "  color: var(--sklearn-color-icon);\n",
       "}\n",
       "\n",
       "#sk-container-id-1 label.sk-toggleable__label-arrow:hover:before {\n",
       "  color: var(--sklearn-color-text);\n",
       "}\n",
       "\n",
       "/* Toggleable content - dropdown */\n",
       "\n",
       "#sk-container-id-1 div.sk-toggleable__content {\n",
       "  max-height: 0;\n",
       "  max-width: 0;\n",
       "  overflow: hidden;\n",
       "  text-align: left;\n",
       "  /* unfitted */\n",
       "  background-color: var(--sklearn-color-unfitted-level-0);\n",
       "}\n",
       "\n",
       "#sk-container-id-1 div.sk-toggleable__content.fitted {\n",
       "  /* fitted */\n",
       "  background-color: var(--sklearn-color-fitted-level-0);\n",
       "}\n",
       "\n",
       "#sk-container-id-1 div.sk-toggleable__content pre {\n",
       "  margin: 0.2em;\n",
       "  border-radius: 0.25em;\n",
       "  color: var(--sklearn-color-text);\n",
       "  /* unfitted */\n",
       "  background-color: var(--sklearn-color-unfitted-level-0);\n",
       "}\n",
       "\n",
       "#sk-container-id-1 div.sk-toggleable__content.fitted pre {\n",
       "  /* unfitted */\n",
       "  background-color: var(--sklearn-color-fitted-level-0);\n",
       "}\n",
       "\n",
       "#sk-container-id-1 input.sk-toggleable__control:checked~div.sk-toggleable__content {\n",
       "  /* Expand drop-down */\n",
       "  max-height: 200px;\n",
       "  max-width: 100%;\n",
       "  overflow: auto;\n",
       "}\n",
       "\n",
       "#sk-container-id-1 input.sk-toggleable__control:checked~label.sk-toggleable__label-arrow:before {\n",
       "  content: \"▾\";\n",
       "}\n",
       "\n",
       "/* Pipeline/ColumnTransformer-specific style */\n",
       "\n",
       "#sk-container-id-1 div.sk-label input.sk-toggleable__control:checked~label.sk-toggleable__label {\n",
       "  color: var(--sklearn-color-text);\n",
       "  background-color: var(--sklearn-color-unfitted-level-2);\n",
       "}\n",
       "\n",
       "#sk-container-id-1 div.sk-label.fitted input.sk-toggleable__control:checked~label.sk-toggleable__label {\n",
       "  background-color: var(--sklearn-color-fitted-level-2);\n",
       "}\n",
       "\n",
       "/* Estimator-specific style */\n",
       "\n",
       "/* Colorize estimator box */\n",
       "#sk-container-id-1 div.sk-estimator input.sk-toggleable__control:checked~label.sk-toggleable__label {\n",
       "  /* unfitted */\n",
       "  background-color: var(--sklearn-color-unfitted-level-2);\n",
       "}\n",
       "\n",
       "#sk-container-id-1 div.sk-estimator.fitted input.sk-toggleable__control:checked~label.sk-toggleable__label {\n",
       "  /* fitted */\n",
       "  background-color: var(--sklearn-color-fitted-level-2);\n",
       "}\n",
       "\n",
       "#sk-container-id-1 div.sk-label label.sk-toggleable__label,\n",
       "#sk-container-id-1 div.sk-label label {\n",
       "  /* The background is the default theme color */\n",
       "  color: var(--sklearn-color-text-on-default-background);\n",
       "}\n",
       "\n",
       "/* On hover, darken the color of the background */\n",
       "#sk-container-id-1 div.sk-label:hover label.sk-toggleable__label {\n",
       "  color: var(--sklearn-color-text);\n",
       "  background-color: var(--sklearn-color-unfitted-level-2);\n",
       "}\n",
       "\n",
       "/* Label box, darken color on hover, fitted */\n",
       "#sk-container-id-1 div.sk-label.fitted:hover label.sk-toggleable__label.fitted {\n",
       "  color: var(--sklearn-color-text);\n",
       "  background-color: var(--sklearn-color-fitted-level-2);\n",
       "}\n",
       "\n",
       "/* Estimator label */\n",
       "\n",
       "#sk-container-id-1 div.sk-label label {\n",
       "  font-family: monospace;\n",
       "  font-weight: bold;\n",
       "  display: inline-block;\n",
       "  line-height: 1.2em;\n",
       "}\n",
       "\n",
       "#sk-container-id-1 div.sk-label-container {\n",
       "  text-align: center;\n",
       "}\n",
       "\n",
       "/* Estimator-specific */\n",
       "#sk-container-id-1 div.sk-estimator {\n",
       "  font-family: monospace;\n",
       "  border: 1px dotted var(--sklearn-color-border-box);\n",
       "  border-radius: 0.25em;\n",
       "  box-sizing: border-box;\n",
       "  margin-bottom: 0.5em;\n",
       "  /* unfitted */\n",
       "  background-color: var(--sklearn-color-unfitted-level-0);\n",
       "}\n",
       "\n",
       "#sk-container-id-1 div.sk-estimator.fitted {\n",
       "  /* fitted */\n",
       "  background-color: var(--sklearn-color-fitted-level-0);\n",
       "}\n",
       "\n",
       "/* on hover */\n",
       "#sk-container-id-1 div.sk-estimator:hover {\n",
       "  /* unfitted */\n",
       "  background-color: var(--sklearn-color-unfitted-level-2);\n",
       "}\n",
       "\n",
       "#sk-container-id-1 div.sk-estimator.fitted:hover {\n",
       "  /* fitted */\n",
       "  background-color: var(--sklearn-color-fitted-level-2);\n",
       "}\n",
       "\n",
       "/* Specification for estimator info (e.g. \"i\" and \"?\") */\n",
       "\n",
       "/* Common style for \"i\" and \"?\" */\n",
       "\n",
       ".sk-estimator-doc-link,\n",
       "a:link.sk-estimator-doc-link,\n",
       "a:visited.sk-estimator-doc-link {\n",
       "  float: right;\n",
       "  font-size: smaller;\n",
       "  line-height: 1em;\n",
       "  font-family: monospace;\n",
       "  background-color: var(--sklearn-color-background);\n",
       "  border-radius: 1em;\n",
       "  height: 1em;\n",
       "  width: 1em;\n",
       "  text-decoration: none !important;\n",
       "  margin-left: 1ex;\n",
       "  /* unfitted */\n",
       "  border: var(--sklearn-color-unfitted-level-1) 1pt solid;\n",
       "  color: var(--sklearn-color-unfitted-level-1);\n",
       "}\n",
       "\n",
       ".sk-estimator-doc-link.fitted,\n",
       "a:link.sk-estimator-doc-link.fitted,\n",
       "a:visited.sk-estimator-doc-link.fitted {\n",
       "  /* fitted */\n",
       "  border: var(--sklearn-color-fitted-level-1) 1pt solid;\n",
       "  color: var(--sklearn-color-fitted-level-1);\n",
       "}\n",
       "\n",
       "/* On hover */\n",
       "div.sk-estimator:hover .sk-estimator-doc-link:hover,\n",
       ".sk-estimator-doc-link:hover,\n",
       "div.sk-label-container:hover .sk-estimator-doc-link:hover,\n",
       ".sk-estimator-doc-link:hover {\n",
       "  /* unfitted */\n",
       "  background-color: var(--sklearn-color-unfitted-level-3);\n",
       "  color: var(--sklearn-color-background);\n",
       "  text-decoration: none;\n",
       "}\n",
       "\n",
       "div.sk-estimator.fitted:hover .sk-estimator-doc-link.fitted:hover,\n",
       ".sk-estimator-doc-link.fitted:hover,\n",
       "div.sk-label-container:hover .sk-estimator-doc-link.fitted:hover,\n",
       ".sk-estimator-doc-link.fitted:hover {\n",
       "  /* fitted */\n",
       "  background-color: var(--sklearn-color-fitted-level-3);\n",
       "  color: var(--sklearn-color-background);\n",
       "  text-decoration: none;\n",
       "}\n",
       "\n",
       "/* Span, style for the box shown on hovering the info icon */\n",
       ".sk-estimator-doc-link span {\n",
       "  display: none;\n",
       "  z-index: 9999;\n",
       "  position: relative;\n",
       "  font-weight: normal;\n",
       "  right: .2ex;\n",
       "  padding: .5ex;\n",
       "  margin: .5ex;\n",
       "  width: min-content;\n",
       "  min-width: 20ex;\n",
       "  max-width: 50ex;\n",
       "  color: var(--sklearn-color-text);\n",
       "  box-shadow: 2pt 2pt 4pt #999;\n",
       "  /* unfitted */\n",
       "  background: var(--sklearn-color-unfitted-level-0);\n",
       "  border: .5pt solid var(--sklearn-color-unfitted-level-3);\n",
       "}\n",
       "\n",
       ".sk-estimator-doc-link.fitted span {\n",
       "  /* fitted */\n",
       "  background: var(--sklearn-color-fitted-level-0);\n",
       "  border: var(--sklearn-color-fitted-level-3);\n",
       "}\n",
       "\n",
       ".sk-estimator-doc-link:hover span {\n",
       "  display: block;\n",
       "}\n",
       "\n",
       "/* \"?\"-specific style due to the `<a>` HTML tag */\n",
       "\n",
       "#sk-container-id-1 a.estimator_doc_link {\n",
       "  float: right;\n",
       "  font-size: 1rem;\n",
       "  line-height: 1em;\n",
       "  font-family: monospace;\n",
       "  background-color: var(--sklearn-color-background);\n",
       "  border-radius: 1rem;\n",
       "  height: 1rem;\n",
       "  width: 1rem;\n",
       "  text-decoration: none;\n",
       "  /* unfitted */\n",
       "  color: var(--sklearn-color-unfitted-level-1);\n",
       "  border: var(--sklearn-color-unfitted-level-1) 1pt solid;\n",
       "}\n",
       "\n",
       "#sk-container-id-1 a.estimator_doc_link.fitted {\n",
       "  /* fitted */\n",
       "  border: var(--sklearn-color-fitted-level-1) 1pt solid;\n",
       "  color: var(--sklearn-color-fitted-level-1);\n",
       "}\n",
       "\n",
       "/* On hover */\n",
       "#sk-container-id-1 a.estimator_doc_link:hover {\n",
       "  /* unfitted */\n",
       "  background-color: var(--sklearn-color-unfitted-level-3);\n",
       "  color: var(--sklearn-color-background);\n",
       "  text-decoration: none;\n",
       "}\n",
       "\n",
       "#sk-container-id-1 a.estimator_doc_link.fitted:hover {\n",
       "  /* fitted */\n",
       "  background-color: var(--sklearn-color-fitted-level-3);\n",
       "}\n",
       "</style><div id=\"sk-container-id-1\" class=\"sk-top-container\"><div class=\"sk-text-repr-fallback\"><pre>LinearRegression()</pre><b>In a Jupyter environment, please rerun this cell to show the HTML representation or trust the notebook. <br />On GitHub, the HTML representation is unable to render, please try loading this page with nbviewer.org.</b></div><div class=\"sk-container\" hidden><div class=\"sk-item\"><div class=\"sk-estimator fitted sk-toggleable\"><input class=\"sk-toggleable__control sk-hidden--visually\" id=\"sk-estimator-id-1\" type=\"checkbox\" checked><label for=\"sk-estimator-id-1\" class=\"sk-toggleable__label fitted sk-toggleable__label-arrow fitted\">&nbsp;&nbsp;LinearRegression<a class=\"sk-estimator-doc-link fitted\" rel=\"noreferrer\" target=\"_blank\" href=\"https://scikit-learn.org/1.5/modules/generated/sklearn.linear_model.LinearRegression.html\">?<span>Documentation for LinearRegression</span></a><span class=\"sk-estimator-doc-link fitted\">i<span>Fitted</span></span></label><div class=\"sk-toggleable__content fitted\"><pre>LinearRegression()</pre></div> </div></div></div></div>"
      ],
      "text/plain": [
       "LinearRegression()"
      ]
     },
     "execution_count": 11,
     "metadata": {},
     "output_type": "execute_result"
    }
   ],
   "source": [
    "## Model Training complete\n",
    "lr.fit(X_Train,Y_train)"
   ]
  },
  {
   "cell_type": "code",
   "execution_count": 12,
   "metadata": {},
   "outputs": [
    {
     "name": "stdout",
     "output_type": "stream",
     "text": [
      "95     2.79\n",
      "15     3.23\n",
      "30     3.26\n",
      "158    3.04\n",
      "128    3.34\n",
      "115    4.21\n",
      "69     2.94\n",
      "170    2.87\n",
      "174    2.99\n",
      "45     3.58\n",
      "66     1.63\n",
      "182    2.08\n",
      "165    4.08\n",
      "78     2.21\n",
      "186    3.47\n",
      "177    3.64\n",
      "56     2.74\n",
      "152    3.08\n",
      "82     2.17\n",
      "68     2.99\n",
      "124    2.31\n",
      "16     2.35\n",
      "148    3.40\n",
      "93     3.08\n",
      "65     3.81\n",
      "60     2.19\n",
      "84     1.53\n",
      "67     2.89\n",
      "125    3.16\n",
      "132    2.48\n",
      "9      3.51\n",
      "18     2.98\n",
      "55     3.39\n",
      "75     3.28\n",
      "150    2.73\n",
      "104    3.74\n",
      "135    2.60\n",
      "137    3.13\n",
      "164    3.82\n",
      "76     3.15\n",
      "Name: package, dtype: float64\n",
      "[2.78031348]\n"
     ]
    },
    {
     "name": "stderr",
     "output_type": "stream",
     "text": [
      "c:\\Users\\parde\\AppData\\Local\\Programs\\Python\\Python312\\Lib\\site-packages\\sklearn\\base.py:493: UserWarning: X does not have valid feature names, but LinearRegression was fitted with feature names\n",
      "  warnings.warn(\n"
     ]
    }
   ],
   "source": [
    "## Prediction\n",
    "print(Y_test)\n",
    "print(lr.predict(X_Test.iloc[0].values.reshape(1,1))) ## Y Prditicable\n",
    "# the actual value of Y_Test 1 row is 2.79 and as per Linear regression its 2.79 then only diff is .01\n",
    "\n"
   ]
  },
  {
   "cell_type": "code",
   "execution_count": 13,
   "metadata": {},
   "outputs": [
    {
     "name": "stdout",
     "output_type": "stream",
     "text": [
      "95     2.79\n",
      "15     3.23\n",
      "30     3.26\n",
      "158    3.04\n",
      "128    3.34\n",
      "115    4.21\n",
      "69     2.94\n",
      "170    2.87\n",
      "174    2.99\n",
      "45     3.58\n",
      "66     1.63\n",
      "182    2.08\n",
      "165    4.08\n",
      "78     2.21\n",
      "186    3.47\n",
      "177    3.64\n",
      "56     2.74\n",
      "152    3.08\n",
      "82     2.17\n",
      "68     2.99\n",
      "124    2.31\n",
      "16     2.35\n",
      "148    3.40\n",
      "93     3.08\n",
      "65     3.81\n",
      "60     2.19\n",
      "84     1.53\n",
      "67     2.89\n",
      "125    3.16\n",
      "132    2.48\n",
      "9      3.51\n",
      "18     2.98\n",
      "55     3.39\n",
      "75     3.28\n",
      "150    2.73\n",
      "104    3.74\n",
      "135    2.60\n",
      "137    3.13\n",
      "164    3.82\n",
      "76     3.15\n",
      "Name: package, dtype: float64\n",
      "[3.13635249]\n"
     ]
    },
    {
     "name": "stderr",
     "output_type": "stream",
     "text": [
      "c:\\Users\\parde\\AppData\\Local\\Programs\\Python\\Python312\\Lib\\site-packages\\sklearn\\base.py:493: UserWarning: X does not have valid feature names, but LinearRegression was fitted with feature names\n",
      "  warnings.warn(\n"
     ]
    }
   ],
   "source": [
    "## Loss function\n",
    "\n",
    "print(Y_test)\n",
    "print(lr.predict(X_Test.iloc[1].values.reshape(1,1))) ## Y Prditicable\n",
    "# the actual value of Y_Test 2 row is 3.13 and as per Linear regression its 2.3.23 then only diff is .01\n"
   ]
  },
  {
   "cell_type": "code",
   "execution_count": 14,
   "metadata": {},
   "outputs": [
    {
     "data": {
      "text/plain": [
       "Text(0, 0.5, 'Package')"
      ]
     },
     "execution_count": 14,
     "metadata": {},
     "output_type": "execute_result"
    },
    {
     "data": {
      "image/png": "[encoded data removed]",
      "text/plain": [
       "<Figure size 640x480 with 1 Axes>"
      ]
     },
     "metadata": {},
     "output_type": "display_data"
    }
   ],
   "source": [
    "## to check the view of best fit line on Test Model\n",
    "plt.scatter(df['cgpa'],df['package'])\n",
    "plt.plot(X_Test,lr.predict(X_Test), color='red')\n",
    "plt.xlabel('CGPA')\n",
    "plt.ylabel('Package')"
   ]
  },
  {
   "cell_type": "code",
   "execution_count": 15,
   "metadata": {},
   "outputs": [
    {
     "data": {
      "text/plain": [
       "Text(0, 0.5, 'Package')"
      ]
     },
     "execution_count": 15,
     "metadata": {},
     "output_type": "execute_result"
    },
    {
     "data": {
      "image/png": "[encoded data removed]",
      "text/plain": [
       "<Figure size 640x480 with 1 Axes>"
      ]
     },
     "metadata": {},
     "output_type": "display_data"
    }
   ],
   "source": [
    "# Best fit line on Train data -- Its recommended\n",
    "plt.scatter(df['cgpa'],df['package'])\n",
    "plt.plot(X_Train,lr.predict(X_Train), color='red')\n",
    "plt.xlabel('CGPA')\n",
    "plt.ylabel('Package')"
   ]
  },
  {
   "cell_type": "code",
   "execution_count": 16,
   "metadata": {},
   "outputs": [
    {
     "name": "stdout",
     "output_type": "stream",
     "text": [
      "[0.57425647]\n"
     ]
    }
   ],
   "source": [
    "## Coffecient on train data -- slope value\n",
    "m = lr.coef_\n",
    "print(m)"
   ]
  },
  {
   "cell_type": "code",
   "execution_count": 17,
   "metadata": {},
   "outputs": [
    {
     "name": "stdout",
     "output_type": "stream",
     "text": [
      "-1.0270069374542108\n"
     ]
    }
   ],
   "source": [
    "# Intercept on train data -- slope value\n",
    "c = lr.intercept_\n",
    "print(c)"
   ]
  },
  {
   "cell_type": "code",
   "execution_count": 18,
   "metadata": {},
   "outputs": [
    {
     "name": "stdout",
     "output_type": "stream",
     "text": [
      "[3.1995207]\n"
     ]
    }
   ],
   "source": [
    "# y = mx+c ==== 7.36 is x value in model \n",
    "y = m*7.36 +c\n",
    "print(y)"
   ]
  },
  {
   "cell_type": "code",
   "execution_count": 19,
   "metadata": {},
   "outputs": [
    {
     "name": "stdout",
     "output_type": "stream",
     "text": [
      "[3.1995207]\n"
     ]
    },
    {
     "name": "stderr",
     "output_type": "stream",
     "text": [
      "c:\\Users\\parde\\AppData\\Local\\Programs\\Python\\Python312\\Lib\\site-packages\\sklearn\\base.py:493: UserWarning: X does not have valid feature names, but LinearRegression was fitted with feature names\n",
      "  warnings.warn(\n"
     ]
    }
   ],
   "source": [
    "print(lr.predict(X_Test.iloc[2].values.reshape(1,1))) ## Y Prditicable  to compare the actual line model y= mx+c and lr model value"
   ]
  },
  {
   "cell_type": "code",
   "execution_count": 20,
   "metadata": {},
   "outputs": [],
   "source": [
    "from sklearn.metrics import mean_squared_error, mean_absolute_error, r2_score"
   ]
  },
  {
   "cell_type": "code",
   "execution_count": 21,
   "metadata": {},
   "outputs": [],
   "source": [
    "y_predict = lr.predict(X_Test)"
   ]
  },
  {
   "cell_type": "code",
   "execution_count": 22,
   "metadata": {},
   "outputs": [
    {
     "data": {
      "text/plain": [
       "0.08417638361329656"
      ]
     },
     "execution_count": 22,
     "metadata": {},
     "output_type": "execute_result"
    }
   ],
   "source": [
    "mean_squared_error(Y_test, y_predict)"
   ]
  },
  {
   "cell_type": "code",
   "execution_count": 23,
   "metadata": {},
   "outputs": [
    {
     "data": {
      "text/plain": [
       "0.23150985393278373"
      ]
     },
     "execution_count": 23,
     "metadata": {},
     "output_type": "execute_result"
    }
   ],
   "source": [
    "mean_absolute_error(Y_test, y_predict)"
   ]
  },
  {
   "cell_type": "code",
   "execution_count": 24,
   "metadata": {},
   "outputs": [],
   "source": [
    "r2 = r2_score(Y_test, y_predict)"
   ]
  },
  {
   "cell_type": "code",
   "execution_count": 25,
   "metadata": {},
   "outputs": [
    {
     "name": "stdout",
     "output_type": "stream",
     "text": [
      "0.7671273372895138\n"
     ]
    }
   ],
   "source": [
    "## Adjusted R2\n",
    "## 1 - ((1-r2) (n-1)/(n-p-1))  n is row and p is independent features  p = X_Test.shape[1]\n",
    "AdjustedR2 = 1 - (((1-(r2_score(Y_test, y_predict)))) * (len(Y_test)-1)/(len(Y_test) - X_Test.shape[1] - 1))\n",
    "print(AdjustedR2)\n",
    "\n",
    "\n"
   ]
  },
  {
   "cell_type": "code",
   "execution_count": 26,
   "metadata": {},
   "outputs": [],
   "source": [
    "### new Feature added with Random data\n",
    "new_df1 = df.copy()\n"
   ]
  },
  {
   "cell_type": "code",
   "execution_count": 27,
   "metadata": {},
   "outputs": [
    {
     "data": {
      "text/plain": [
       "(200, 2)"
      ]
     },
     "execution_count": 27,
     "metadata": {},
     "output_type": "execute_result"
    }
   ],
   "source": [
    "df.shape ## shape of actual df"
   ]
  },
  {
   "cell_type": "code",
   "execution_count": 28,
   "metadata": {},
   "outputs": [
    {
     "data": {
      "text/html": [
       "<div>\n",
       "<style scoped>\n",
       "    .dataframe tbody tr th:only-of-type {\n",
       "        vertical-align: middle;\n",
       "    }\n",
       "\n",
       "    .dataframe tbody tr th {\n",
       "        vertical-align: top;\n",
       "    }\n",
       "\n",
       "    .dataframe thead th {\n",
       "        text-align: right;\n",
       "    }\n",
       "</style>\n",
       "<table border=\"1\" class=\"dataframe\">\n",
       "  <thead>\n",
       "    <tr style=\"text-align: right;\">\n",
       "      <th></th>\n",
       "      <th>cgpa</th>\n",
       "      <th>random_feature</th>\n",
       "      <th>package</th>\n",
       "    </tr>\n",
       "  </thead>\n",
       "  <tbody>\n",
       "    <tr>\n",
       "      <th>0</th>\n",
       "      <td>6.89</td>\n",
       "      <td>0.631312</td>\n",
       "      <td>3.26</td>\n",
       "    </tr>\n",
       "    <tr>\n",
       "      <th>1</th>\n",
       "      <td>5.12</td>\n",
       "      <td>0.020750</td>\n",
       "      <td>1.98</td>\n",
       "    </tr>\n",
       "    <tr>\n",
       "      <th>2</th>\n",
       "      <td>7.82</td>\n",
       "      <td>0.231085</td>\n",
       "      <td>3.25</td>\n",
       "    </tr>\n",
       "    <tr>\n",
       "      <th>3</th>\n",
       "      <td>7.42</td>\n",
       "      <td>0.251259</td>\n",
       "      <td>3.67</td>\n",
       "    </tr>\n",
       "    <tr>\n",
       "      <th>4</th>\n",
       "      <td>6.94</td>\n",
       "      <td>0.152904</td>\n",
       "      <td>3.57</td>\n",
       "    </tr>\n",
       "  </tbody>\n",
       "</table>\n",
       "</div>"
      ],
      "text/plain": [
       "   cgpa  random_feature  package\n",
       "0  6.89        0.631312     3.26\n",
       "1  5.12        0.020750     1.98\n",
       "2  7.82        0.231085     3.25\n",
       "3  7.42        0.251259     3.67\n",
       "4  6.94        0.152904     3.57"
      ]
     },
     "execution_count": 28,
     "metadata": {},
     "output_type": "execute_result"
    }
   ],
   "source": [
    "new_df1['random_feature'] = np.random.random(200)\n",
    "new_df1 = new_df1[['cgpa','random_feature', 'package']]\n",
    "new_df1.head()"
   ]
  },
  {
   "cell_type": "code",
   "execution_count": 29,
   "metadata": {},
   "outputs": [
    {
     "data": {
      "text/plain": [
       "Text(0, 0.5, 'cgpa')"
      ]
     },
     "execution_count": 29,
     "metadata": {},
     "output_type": "execute_result"
    },
    {
     "data": {
      "image/png": "[encoded data removed]",
      "text/plain": [
       "<Figure size 640x480 with 1 Axes>"
      ]
     },
     "metadata": {},
     "output_type": "display_data"
    }
   ],
   "source": [
    "plt.scatter(new_df1['random_feature'],new_df1['cgpa'])\n",
    "plt.xlabel('random_feature')\n",
    "plt.ylabel('cgpa')"
   ]
  },
  {
   "cell_type": "code",
   "execution_count": 30,
   "metadata": {},
   "outputs": [
    {
     "name": "stdout",
     "output_type": "stream",
     "text": [
      "     cgpa  random_feature\n",
      "0    6.89        0.631312\n",
      "1    5.12        0.020750\n",
      "2    7.82        0.231085\n",
      "3    7.42        0.251259\n",
      "4    6.94        0.152904\n",
      "..    ...             ...\n",
      "195  6.93        0.513426\n",
      "196  5.89        0.860048\n",
      "197  7.21        0.803731\n",
      "198  7.63        0.784172\n",
      "199  6.22        0.570858\n",
      "\n",
      "[200 rows x 2 columns]\n",
      "0      3.26\n",
      "1      1.98\n",
      "2      3.25\n",
      "3      3.67\n",
      "4      3.57\n",
      "       ... \n",
      "195    2.46\n",
      "196    2.57\n",
      "197    3.24\n",
      "198    3.96\n",
      "199    2.33\n",
      "Name: package, Length: 200, dtype: float64\n"
     ]
    }
   ],
   "source": [
    "X = new_df1.iloc[:,0:2] # independent features\n",
    "Y = new_df1.iloc[:,-1] # dependent feature\n",
    "print(X)\n",
    "print(Y)"
   ]
  },
  {
   "cell_type": "code",
   "execution_count": 31,
   "metadata": {},
   "outputs": [
    {
     "name": "stdout",
     "output_type": "stream",
     "text": [
      "     cgpa  random_feature\n",
      "137  7.14        0.244824\n",
      "163  8.93        0.340037\n",
      "111  5.42        0.728594\n",
      "123  5.10        0.534372\n",
      "109  7.77        0.995723\n",
      "..    ...             ...\n",
      "43   7.66        0.055194\n",
      "22   6.14        0.122728\n",
      "72   7.78        0.454074\n",
      "15   7.25        0.276720\n",
      "168  8.65        0.682110\n",
      "\n",
      "[160 rows x 2 columns]\n",
      "     cgpa  random_feature\n",
      "112  8.58        0.725965\n",
      "29   7.15        0.922062\n",
      "182  5.88        0.594308\n",
      "199  6.22        0.570858\n",
      "193  4.57        0.269689\n",
      "85   4.79        0.686482\n",
      "10   5.32        0.950180\n",
      "54   6.86        0.972063\n",
      "115  8.35        0.980492\n",
      "35   6.87        0.440589\n",
      "12   8.94        0.114053\n",
      "92   7.90        0.386517\n",
      "13   6.93        0.875228\n",
      "126  5.91        0.445317\n",
      "174  7.32        0.060013\n",
      "2    7.82        0.231085\n",
      "44   5.09        0.612336\n",
      "3    7.42        0.251259\n",
      "113  6.94        0.918574\n",
      "14   7.73        0.614014\n",
      "23   6.19        0.866483\n",
      "25   7.28        0.114839\n",
      "6    6.73        0.879395\n",
      "134  7.20        0.307518\n",
      "165  8.21        0.720217\n",
      "173  6.75        0.731815\n",
      "45   7.87        0.136869\n",
      "65   7.60        0.264340\n",
      "48   8.63        0.491924\n",
      "122  5.12        0.786595\n",
      "178  8.15        0.095989\n",
      "64   7.36        0.073928\n",
      "9    8.31        0.417912\n",
      "57   6.60        0.867195\n",
      "78   6.59        0.842935\n",
      "71   7.47        0.490839\n",
      "128  7.93        0.333211\n",
      "176  6.29        0.299714\n",
      "131  6.37        0.189979\n",
      "53   6.47        0.861575\n",
      "137    3.13\n",
      "163    3.91\n",
      "111    2.25\n",
      "123    2.30\n",
      "109    4.06\n",
      "       ... \n",
      "43     2.76\n",
      "22     2.30\n",
      "72     3.62\n",
      "15     3.23\n",
      "168    3.52\n",
      "Name: package, Length: 160, dtype: float64\n",
      "112    4.10\n",
      "29     3.49\n",
      "182    2.08\n",
      "199    2.33\n",
      "193    1.94\n",
      "85     1.48\n",
      "10     1.86\n",
      "54     3.09\n",
      "115    4.21\n",
      "35     2.87\n",
      "12     3.65\n",
      "92     4.00\n",
      "13     2.89\n",
      "126    2.60\n",
      "174    2.99\n",
      "2      3.25\n",
      "44     1.86\n",
      "3      3.67\n",
      "113    2.37\n",
      "14     3.42\n",
      "23     2.48\n",
      "25     3.65\n",
      "6      2.60\n",
      "134    2.83\n",
      "165    4.08\n",
      "173    2.56\n",
      "45     3.58\n",
      "65     3.81\n",
      "48     4.09\n",
      "122    2.01\n",
      "178    3.63\n",
      "64     2.92\n",
      "9      3.51\n",
      "57     1.94\n",
      "78     2.21\n",
      "71     3.34\n",
      "128    3.34\n",
      "176    3.23\n",
      "131    2.01\n",
      "53     2.61\n",
      "Name: package, dtype: float64\n"
     ]
    }
   ],
   "source": [
    "\n",
    "X_Train, X_Test, Y_train, Y_test = train_test_split(X,Y, test_size= 0.2, random_state=2)\n",
    "print(X_Train)\n",
    "print(X_Test)\n",
    "print(Y_train)\n",
    "print(Y_test)"
   ]
  },
  {
   "cell_type": "code",
   "execution_count": 32,
   "metadata": {},
   "outputs": [
    {
     "data": {
      "text/html": [
       "<style>#sk-container-id-2 {\n",
       "  /* Definition of color scheme common for light and dark mode */\n",
       "  --sklearn-color-text: black;\n",
       "  --sklearn-color-line: gray;\n",
       "  /* Definition of color scheme for unfitted estimators */\n",
       "  --sklearn-color-unfitted-level-0: #fff5e6;\n",
       "  --sklearn-color-unfitted-level-1: #f6e4d2;\n",
       "  --sklearn-color-unfitted-level-2: #ffe0b3;\n",
       "  --sklearn-color-unfitted-level-3: chocolate;\n",
       "  /* Definition of color scheme for fitted estimators */\n",
       "  --sklearn-color-fitted-level-0: #f0f8ff;\n",
       "  --sklearn-color-fitted-level-1: #d4ebff;\n",
       "  --sklearn-color-fitted-level-2: #b3dbfd;\n",
       "  --sklearn-color-fitted-level-3: cornflowerblue;\n",
       "\n",
       "  /* Specific color for light theme */\n",
       "  --sklearn-color-text-on-default-background: var(--sg-text-color, var(--theme-code-foreground, var(--jp-content-font-color1, black)));\n",
       "  --sklearn-color-background: var(--sg-background-color, var(--theme-background, var(--jp-layout-color0, white)));\n",
       "  --sklearn-color-border-box: var(--sg-text-color, var(--theme-code-foreground, var(--jp-content-font-color1, black)));\n",
       "  --sklearn-color-icon: #696969;\n",
       "\n",
       "  @media (prefers-color-scheme: dark) {\n",
       "    /* Redefinition of color scheme for dark theme */\n",
       "    --sklearn-color-text-on-default-background: var(--sg-text-color, var(--theme-code-foreground, var(--jp-content-font-color1, white)));\n",
       "    --sklearn-color-background: var(--sg-background-color, var(--theme-background, var(--jp-layout-color0, #111)));\n",
       "    --sklearn-color-border-box: var(--sg-text-color, var(--theme-code-foreground, var(--jp-content-font-color1, white)));\n",
       "    --sklearn-color-icon: #878787;\n",
       "  }\n",
       "}\n",
       "\n",
       "#sk-container-id-2 {\n",
       "  color: var(--sklearn-color-text);\n",
       "}\n",
       "\n",
       "#sk-container-id-2 pre {\n",
       "  padding: 0;\n",
       "}\n",
       "\n",
       "#sk-container-id-2 input.sk-hidden--visually {\n",
       "  border: 0;\n",
       "  clip: rect(1px 1px 1px 1px);\n",
       "  clip: rect(1px, 1px, 1px, 1px);\n",
       "  height: 1px;\n",
       "  margin: -1px;\n",
       "  overflow: hidden;\n",
       "  padding: 0;\n",
       "  position: absolute;\n",
       "  width: 1px;\n",
       "}\n",
       "\n",
       "#sk-container-id-2 div.sk-dashed-wrapped {\n",
       "  border: 1px dashed var(--sklearn-color-line);\n",
       "  margin: 0 0.4em 0.5em 0.4em;\n",
       "  box-sizing: border-box;\n",
       "  padding-bottom: 0.4em;\n",
       "  background-color: var(--sklearn-color-background);\n",
       "}\n",
       "\n",
       "#sk-container-id-2 div.sk-container {\n",
       "  /* jupyter's `normalize.less` sets `[hidden] { display: none; }`\n",
       "     but bootstrap.min.css set `[hidden] { display: none !important; }`\n",
       "     so we also need the `!important` here to be able to override the\n",
       "     default hidden behavior on the sphinx rendered scikit-learn.org.\n",
       "     See: https://github.com/scikit-learn/scikit-learn/issues/21755 */\n",
       "  display: inline-block !important;\n",
       "  position: relative;\n",
       "}\n",
       "\n",
       "#sk-container-id-2 div.sk-text-repr-fallback {\n",
       "  display: none;\n",
       "}\n",
       "\n",
       "div.sk-parallel-item,\n",
       "div.sk-serial,\n",
       "div.sk-item {\n",
       "  /* draw centered vertical line to link estimators */\n",
       "  background-image: linear-gradient(var(--sklearn-color-text-on-default-background), var(--sklearn-color-text-on-default-background));\n",
       "  background-size: 2px 100%;\n",
       "  background-repeat: no-repeat;\n",
       "  background-position: center center;\n",
       "}\n",
       "\n",
       "/* Parallel-specific style estimator block */\n",
       "\n",
       "#sk-container-id-2 div.sk-parallel-item::after {\n",
       "  content: \"\";\n",
       "  width: 100%;\n",
       "  border-bottom: 2px solid var(--sklearn-color-text-on-default-background);\n",
       "  flex-grow: 1;\n",
       "}\n",
       "\n",
       "#sk-container-id-2 div.sk-parallel {\n",
       "  display: flex;\n",
       "  align-items: stretch;\n",
       "  justify-content: center;\n",
       "  background-color: var(--sklearn-color-background);\n",
       "  position: relative;\n",
       "}\n",
       "\n",
       "#sk-container-id-2 div.sk-parallel-item {\n",
       "  display: flex;\n",
       "  flex-direction: column;\n",
       "}\n",
       "\n",
       "#sk-container-id-2 div.sk-parallel-item:first-child::after {\n",
       "  align-self: flex-end;\n",
       "  width: 50%;\n",
       "}\n",
       "\n",
       "#sk-container-id-2 div.sk-parallel-item:last-child::after {\n",
       "  align-self: flex-start;\n",
       "  width: 50%;\n",
       "}\n",
       "\n",
       "#sk-container-id-2 div.sk-parallel-item:only-child::after {\n",
       "  width: 0;\n",
       "}\n",
       "\n",
       "/* Serial-specific style estimator block */\n",
       "\n",
       "#sk-container-id-2 div.sk-serial {\n",
       "  display: flex;\n",
       "  flex-direction: column;\n",
       "  align-items: center;\n",
       "  background-color: var(--sklearn-color-background);\n",
       "  padding-right: 1em;\n",
       "  padding-left: 1em;\n",
       "}\n",
       "\n",
       "\n",
       "/* Toggleable style: style used for estimator/Pipeline/ColumnTransformer box that is\n",
       "clickable and can be expanded/collapsed.\n",
       "- Pipeline and ColumnTransformer use this feature and define the default style\n",
       "- Estimators will overwrite some part of the style using the `sk-estimator` class\n",
       "*/\n",
       "\n",
       "/* Pipeline and ColumnTransformer style (default) */\n",
       "\n",
       "#sk-container-id-2 div.sk-toggleable {\n",
       "  /* Default theme specific background. It is overwritten whether we have a\n",
       "  specific estimator or a Pipeline/ColumnTransformer */\n",
       "  background-color: var(--sklearn-color-background);\n",
       "}\n",
       "\n",
       "/* Toggleable label */\n",
       "#sk-container-id-2 label.sk-toggleable__label {\n",
       "  cursor: pointer;\n",
       "  display: block;\n",
       "  width: 100%;\n",
       "  margin-bottom: 0;\n",
       "  padding: 0.5em;\n",
       "  box-sizing: border-box;\n",
       "  text-align: center;\n",
       "}\n",
       "\n",
       "#sk-container-id-2 label.sk-toggleable__label-arrow:before {\n",
       "  /* Arrow on the left of the label */\n",
       "  content: \"▸\";\n",
       "  float: left;\n",
       "  margin-right: 0.25em;\n",
       "  color: var(--sklearn-color-icon);\n",
       "}\n",
       "\n",
       "#sk-container-id-2 label.sk-toggleable__label-arrow:hover:before {\n",
       "  color: var(--sklearn-color-text);\n",
       "}\n",
       "\n",
       "/* Toggleable content - dropdown */\n",
       "\n",
       "#sk-container-id-2 div.sk-toggleable__content {\n",
       "  max-height: 0;\n",
       "  max-width: 0;\n",
       "  overflow: hidden;\n",
       "  text-align: left;\n",
       "  /* unfitted */\n",
       "  background-color: var(--sklearn-color-unfitted-level-0);\n",
       "}\n",
       "\n",
       "#sk-container-id-2 div.sk-toggleable__content.fitted {\n",
       "  /* fitted */\n",
       "  background-color: var(--sklearn-color-fitted-level-0);\n",
       "}\n",
       "\n",
       "#sk-container-id-2 div.sk-toggleable__content pre {\n",
       "  margin: 0.2em;\n",
       "  border-radius: 0.25em;\n",
       "  color: var(--sklearn-color-text);\n",
       "  /* unfitted */\n",
       "  background-color: var(--sklearn-color-unfitted-level-0);\n",
       "}\n",
       "\n",
       "#sk-container-id-2 div.sk-toggleable__content.fitted pre {\n",
       "  /* unfitted */\n",
       "  background-color: var(--sklearn-color-fitted-level-0);\n",
       "}\n",
       "\n",
       "#sk-container-id-2 input.sk-toggleable__control:checked~div.sk-toggleable__content {\n",
       "  /* Expand drop-down */\n",
       "  max-height: 200px;\n",
       "  max-width: 100%;\n",
       "  overflow: auto;\n",
       "}\n",
       "\n",
       "#sk-container-id-2 input.sk-toggleable__control:checked~label.sk-toggleable__label-arrow:before {\n",
       "  content: \"▾\";\n",
       "}\n",
       "\n",
       "/* Pipeline/ColumnTransformer-specific style */\n",
       "\n",
       "#sk-container-id-2 div.sk-label input.sk-toggleable__control:checked~label.sk-toggleable__label {\n",
       "  color: var(--sklearn-color-text);\n",
       "  background-color: var(--sklearn-color-unfitted-level-2);\n",
       "}\n",
       "\n",
       "#sk-container-id-2 div.sk-label.fitted input.sk-toggleable__control:checked~label.sk-toggleable__label {\n",
       "  background-color: var(--sklearn-color-fitted-level-2);\n",
       "}\n",
       "\n",
       "/* Estimator-specific style */\n",
       "\n",
       "/* Colorize estimator box */\n",
       "#sk-container-id-2 div.sk-estimator input.sk-toggleable__control:checked~label.sk-toggleable__label {\n",
       "  /* unfitted */\n",
       "  background-color: var(--sklearn-color-unfitted-level-2);\n",
       "}\n",
       "\n",
       "#sk-container-id-2 div.sk-estimator.fitted input.sk-toggleable__control:checked~label.sk-toggleable__label {\n",
       "  /* fitted */\n",
       "  background-color: var(--sklearn-color-fitted-level-2);\n",
       "}\n",
       "\n",
       "#sk-container-id-2 div.sk-label label.sk-toggleable__label,\n",
       "#sk-container-id-2 div.sk-label label {\n",
       "  /* The background is the default theme color */\n",
       "  color: var(--sklearn-color-text-on-default-background);\n",
       "}\n",
       "\n",
       "/* On hover, darken the color of the background */\n",
       "#sk-container-id-2 div.sk-label:hover label.sk-toggleable__label {\n",
       "  color: var(--sklearn-color-text);\n",
       "  background-color: var(--sklearn-color-unfitted-level-2);\n",
       "}\n",
       "\n",
       "/* Label box, darken color on hover, fitted */\n",
       "#sk-container-id-2 div.sk-label.fitted:hover label.sk-toggleable__label.fitted {\n",
       "  color: var(--sklearn-color-text);\n",
       "  background-color: var(--sklearn-color-fitted-level-2);\n",
       "}\n",
       "\n",
       "/* Estimator label */\n",
       "\n",
       "#sk-container-id-2 div.sk-label label {\n",
       "  font-family: monospace;\n",
       "  font-weight: bold;\n",
       "  display: inline-block;\n",
       "  line-height: 1.2em;\n",
       "}\n",
       "\n",
       "#sk-container-id-2 div.sk-label-container {\n",
       "  text-align: center;\n",
       "}\n",
       "\n",
       "/* Estimator-specific */\n",
       "#sk-container-id-2 div.sk-estimator {\n",
       "  font-family: monospace;\n",
       "  border: 1px dotted var(--sklearn-color-border-box);\n",
       "  border-radius: 0.25em;\n",
       "  box-sizing: border-box;\n",
       "  margin-bottom: 0.5em;\n",
       "  /* unfitted */\n",
       "  background-color: var(--sklearn-color-unfitted-level-0);\n",
       "}\n",
       "\n",
       "#sk-container-id-2 div.sk-estimator.fitted {\n",
       "  /* fitted */\n",
       "  background-color: var(--sklearn-color-fitted-level-0);\n",
       "}\n",
       "\n",
       "/* on hover */\n",
       "#sk-container-id-2 div.sk-estimator:hover {\n",
       "  /* unfitted */\n",
       "  background-color: var(--sklearn-color-unfitted-level-2);\n",
       "}\n",
       "\n",
       "#sk-container-id-2 div.sk-estimator.fitted:hover {\n",
       "  /* fitted */\n",
       "  background-color: var(--sklearn-color-fitted-level-2);\n",
       "}\n",
       "\n",
       "/* Specification for estimator info (e.g. \"i\" and \"?\") */\n",
       "\n",
       "/* Common style for \"i\" and \"?\" */\n",
       "\n",
       ".sk-estimator-doc-link,\n",
       "a:link.sk-estimator-doc-link,\n",
       "a:visited.sk-estimator-doc-link {\n",
       "  float: right;\n",
       "  font-size: smaller;\n",
       "  line-height: 1em;\n",
       "  font-family: monospace;\n",
       "  background-color: var(--sklearn-color-background);\n",
       "  border-radius: 1em;\n",
       "  height: 1em;\n",
       "  width: 1em;\n",
       "  text-decoration: none !important;\n",
       "  margin-left: 1ex;\n",
       "  /* unfitted */\n",
       "  border: var(--sklearn-color-unfitted-level-1) 1pt solid;\n",
       "  color: var(--sklearn-color-unfitted-level-1);\n",
       "}\n",
       "\n",
       ".sk-estimator-doc-link.fitted,\n",
       "a:link.sk-estimator-doc-link.fitted,\n",
       "a:visited.sk-estimator-doc-link.fitted {\n",
       "  /* fitted */\n",
       "  border: var(--sklearn-color-fitted-level-1) 1pt solid;\n",
       "  color: var(--sklearn-color-fitted-level-1);\n",
       "}\n",
       "\n",
       "/* On hover */\n",
       "div.sk-estimator:hover .sk-estimator-doc-link:hover,\n",
       ".sk-estimator-doc-link:hover,\n",
       "div.sk-label-container:hover .sk-estimator-doc-link:hover,\n",
       ".sk-estimator-doc-link:hover {\n",
       "  /* unfitted */\n",
       "  background-color: var(--sklearn-color-unfitted-level-3);\n",
       "  color: var(--sklearn-color-background);\n",
       "  text-decoration: none;\n",
       "}\n",
       "\n",
       "div.sk-estimator.fitted:hover .sk-estimator-doc-link.fitted:hover,\n",
       ".sk-estimator-doc-link.fitted:hover,\n",
       "div.sk-label-container:hover .sk-estimator-doc-link.fitted:hover,\n",
       ".sk-estimator-doc-link.fitted:hover {\n",
       "  /* fitted */\n",
       "  background-color: var(--sklearn-color-fitted-level-3);\n",
       "  color: var(--sklearn-color-background);\n",
       "  text-decoration: none;\n",
       "}\n",
       "\n",
       "/* Span, style for the box shown on hovering the info icon */\n",
       ".sk-estimator-doc-link span {\n",
       "  display: none;\n",
       "  z-index: 9999;\n",
       "  position: relative;\n",
       "  font-weight: normal;\n",
       "  right: .2ex;\n",
       "  padding: .5ex;\n",
       "  margin: .5ex;\n",
       "  width: min-content;\n",
       "  min-width: 20ex;\n",
       "  max-width: 50ex;\n",
       "  color: var(--sklearn-color-text);\n",
       "  box-shadow: 2pt 2pt 4pt #999;\n",
       "  /* unfitted */\n",
       "  background: var(--sklearn-color-unfitted-level-0);\n",
       "  border: .5pt solid var(--sklearn-color-unfitted-level-3);\n",
       "}\n",
       "\n",
       ".sk-estimator-doc-link.fitted span {\n",
       "  /* fitted */\n",
       "  background: var(--sklearn-color-fitted-level-0);\n",
       "  border: var(--sklearn-color-fitted-level-3);\n",
       "}\n",
       "\n",
       ".sk-estimator-doc-link:hover span {\n",
       "  display: block;\n",
       "}\n",
       "\n",
       "/* \"?\"-specific style due to the `<a>` HTML tag */\n",
       "\n",
       "#sk-container-id-2 a.estimator_doc_link {\n",
       "  float: right;\n",
       "  font-size: 1rem;\n",
       "  line-height: 1em;\n",
       "  font-family: monospace;\n",
       "  background-color: var(--sklearn-color-background);\n",
       "  border-radius: 1rem;\n",
       "  height: 1rem;\n",
       "  width: 1rem;\n",
       "  text-decoration: none;\n",
       "  /* unfitted */\n",
       "  color: var(--sklearn-color-unfitted-level-1);\n",
       "  border: var(--sklearn-color-unfitted-level-1) 1pt solid;\n",
       "}\n",
       "\n",
       "#sk-container-id-2 a.estimator_doc_link.fitted {\n",
       "  /* fitted */\n",
       "  border: var(--sklearn-color-fitted-level-1) 1pt solid;\n",
       "  color: var(--sklearn-color-fitted-level-1);\n",
       "}\n",
       "\n",
       "/* On hover */\n",
       "#sk-container-id-2 a.estimator_doc_link:hover {\n",
       "  /* unfitted */\n",
       "  background-color: var(--sklearn-color-unfitted-level-3);\n",
       "  color: var(--sklearn-color-background);\n",
       "  text-decoration: none;\n",
       "}\n",
       "\n",
       "#sk-container-id-2 a.estimator_doc_link.fitted:hover {\n",
       "  /* fitted */\n",
       "  background-color: var(--sklearn-color-fitted-level-3);\n",
       "}\n",
       "</style><div id=\"sk-container-id-2\" class=\"sk-top-container\"><div class=\"sk-text-repr-fallback\"><pre>LinearRegression()</pre><b>In a Jupyter environment, please rerun this cell to show the HTML representation or trust the notebook. <br />On GitHub, the HTML representation is unable to render, please try loading this page with nbviewer.org.</b></div><div class=\"sk-container\" hidden><div class=\"sk-item\"><div class=\"sk-estimator fitted sk-toggleable\"><input class=\"sk-toggleable__control sk-hidden--visually\" id=\"sk-estimator-id-2\" type=\"checkbox\" checked><label for=\"sk-estimator-id-2\" class=\"sk-toggleable__label fitted sk-toggleable__label-arrow fitted\">&nbsp;&nbsp;LinearRegression<a class=\"sk-estimator-doc-link fitted\" rel=\"noreferrer\" target=\"_blank\" href=\"https://scikit-learn.org/1.5/modules/generated/sklearn.linear_model.LinearRegression.html\">?<span>Documentation for LinearRegression</span></a><span class=\"sk-estimator-doc-link fitted\">i<span>Fitted</span></span></label><div class=\"sk-toggleable__content fitted\"><pre>LinearRegression()</pre></div> </div></div></div></div>"
      ],
      "text/plain": [
       "LinearRegression()"
      ]
     },
     "execution_count": 32,
     "metadata": {},
     "output_type": "execute_result"
    }
   ],
   "source": [
    "lr = LinearRegression()\n",
    "lr.fit(X_Train,Y_train)"
   ]
  },
  {
   "cell_type": "code",
   "execution_count": 33,
   "metadata": {},
   "outputs": [],
   "source": [
    "y_predict = lr.predict(X_Test)"
   ]
  },
  {
   "cell_type": "code",
   "execution_count": 34,
   "metadata": {},
   "outputs": [
    {
     "data": {
      "text/plain": [
       "0.7774852336706488"
      ]
     },
     "execution_count": 34,
     "metadata": {},
     "output_type": "execute_result"
    }
   ],
   "source": [
    "r2= r2_score(Y_test, y_predict)\n",
    "r2"
   ]
  },
  {
   "cell_type": "code",
   "execution_count": 35,
   "metadata": {},
   "outputs": [
    {
     "name": "stdout",
     "output_type": "stream",
     "text": [
      "0.7654574084636568\n"
     ]
    }
   ],
   "source": [
    "## Adjusted R2\n",
    "## 1 - ((1-r2) (n-1)/(n-p-1))  n is row and p is independent features  p = X_Test.shape[1]\n",
    "AdjustedR2 = 1 - (((1-(r2_score(Y_test, y_predict)))) * (len(Y_test)-1)/(len(Y_test) - X_Test.shape[1] - 1))\n",
    "print(AdjustedR2)"
   ]
  },
  {
   "cell_type": "code",
   "execution_count": 43,
   "metadata": {},
   "outputs": [],
   "source": [
    "##IQ  add new feature in data set to check the accuracy\n",
    "new_df2 = df.copy()\n",
    "new_df2['iq'] = new_df2['package'] + (np.random.randint(-12,12,200)/10)\n",
    "new_df2 = new_df2[['cgpa','iq','package']]\n",
    "\n"
   ]
  },
  {
   "cell_type": "code",
   "execution_count": 44,
   "metadata": {},
   "outputs": [
    {
     "data": {
      "text/html": [
       "<div>\n",
       "<style scoped>\n",
       "    .dataframe tbody tr th:only-of-type {\n",
       "        vertical-align: middle;\n",
       "    }\n",
       "\n",
       "    .dataframe tbody tr th {\n",
       "        vertical-align: top;\n",
       "    }\n",
       "\n",
       "    .dataframe thead th {\n",
       "        text-align: right;\n",
       "    }\n",
       "</style>\n",
       "<table border=\"1\" class=\"dataframe\">\n",
       "  <thead>\n",
       "    <tr style=\"text-align: right;\">\n",
       "      <th></th>\n",
       "      <th>cgpa</th>\n",
       "      <th>iq</th>\n",
       "      <th>package</th>\n",
       "    </tr>\n",
       "  </thead>\n",
       "  <tbody>\n",
       "    <tr>\n",
       "      <th>0</th>\n",
       "      <td>6.89</td>\n",
       "      <td>4.16</td>\n",
       "      <td>3.26</td>\n",
       "    </tr>\n",
       "    <tr>\n",
       "      <th>1</th>\n",
       "      <td>5.12</td>\n",
       "      <td>2.78</td>\n",
       "      <td>1.98</td>\n",
       "    </tr>\n",
       "    <tr>\n",
       "      <th>2</th>\n",
       "      <td>7.82</td>\n",
       "      <td>4.25</td>\n",
       "      <td>3.25</td>\n",
       "    </tr>\n",
       "    <tr>\n",
       "      <th>3</th>\n",
       "      <td>7.42</td>\n",
       "      <td>4.57</td>\n",
       "      <td>3.67</td>\n",
       "    </tr>\n",
       "    <tr>\n",
       "      <th>4</th>\n",
       "      <td>6.94</td>\n",
       "      <td>4.57</td>\n",
       "      <td>3.57</td>\n",
       "    </tr>\n",
       "    <tr>\n",
       "      <th>...</th>\n",
       "      <td>...</td>\n",
       "      <td>...</td>\n",
       "      <td>...</td>\n",
       "    </tr>\n",
       "    <tr>\n",
       "      <th>195</th>\n",
       "      <td>6.93</td>\n",
       "      <td>2.16</td>\n",
       "      <td>2.46</td>\n",
       "    </tr>\n",
       "    <tr>\n",
       "      <th>196</th>\n",
       "      <td>5.89</td>\n",
       "      <td>1.47</td>\n",
       "      <td>2.57</td>\n",
       "    </tr>\n",
       "    <tr>\n",
       "      <th>197</th>\n",
       "      <td>7.21</td>\n",
       "      <td>3.34</td>\n",
       "      <td>3.24</td>\n",
       "    </tr>\n",
       "    <tr>\n",
       "      <th>198</th>\n",
       "      <td>7.63</td>\n",
       "      <td>2.96</td>\n",
       "      <td>3.96</td>\n",
       "    </tr>\n",
       "    <tr>\n",
       "      <th>199</th>\n",
       "      <td>6.22</td>\n",
       "      <td>2.93</td>\n",
       "      <td>2.33</td>\n",
       "    </tr>\n",
       "  </tbody>\n",
       "</table>\n",
       "<p>200 rows × 3 columns</p>\n",
       "</div>"
      ],
      "text/plain": [
       "     cgpa    iq  package\n",
       "0    6.89  4.16     3.26\n",
       "1    5.12  2.78     1.98\n",
       "2    7.82  4.25     3.25\n",
       "3    7.42  4.57     3.67\n",
       "4    6.94  4.57     3.57\n",
       "..    ...   ...      ...\n",
       "195  6.93  2.16     2.46\n",
       "196  5.89  1.47     2.57\n",
       "197  7.21  3.34     3.24\n",
       "198  7.63  2.96     3.96\n",
       "199  6.22  2.93     2.33\n",
       "\n",
       "[200 rows x 3 columns]"
      ]
     },
     "execution_count": 44,
     "metadata": {},
     "output_type": "execute_result"
    }
   ],
   "source": [
    "new_df2"
   ]
  },
  {
   "cell_type": "code",
   "execution_count": 45,
   "metadata": {},
   "outputs": [
    {
     "data": {
      "text/plain": [
       "<matplotlib.collections.PathCollection at 0x1736a718f80>"
      ]
     },
     "execution_count": 45,
     "metadata": {},
     "output_type": "execute_result"
    },
    {
     "data": {
      "image/png": "[encoded data removed]",
      "text/plain": [
       "<Figure size 640x480 with 1 Axes>"
      ]
     },
     "metadata": {},
     "output_type": "display_data"
    }
   ],
   "source": [
    "plt.scatter(new_df2['iq'],new_df2['package'])"
   ]
  },
  {
   "cell_type": "code",
   "execution_count": 57,
   "metadata": {},
   "outputs": [
    {
     "name": "stdout",
     "output_type": "stream",
     "text": [
      "R2 value: 0.8198006680166645\n",
      "Adjusted R2 value: 0.8100601635851329\n"
     ]
    }
   ],
   "source": [
    "## Multilinear regression\n",
    "\n",
    "X = new_df2.iloc[:,0:2] # independent features\n",
    "Y = new_df2.iloc[:,-1] # dependent feature\n",
    "X_Train, X_Test, Y_train, Y_test = train_test_split(X,Y, test_size= 0.2, random_state=2)\n",
    "lr = LinearRegression()\n",
    "lr.fit(X_Train,Y_train)\n",
    "y_predict = lr.predict(X_Test)\n",
    "r2= r2_score(Y_test, y_predict)\n",
    "print('R2 value:',r2)\n",
    "## Adjusted R2\n",
    "## 1 - ((1-r2) (n-1)/(n-p-1))  n is row and p is independent features  p = X_Test.shape[1]\n",
    "AdjustedR2 = 1 - (((1-(r2_score(Y_test, y_predict)))) * (len(Y_test)-1)/(len(Y_test) - X_Test.shape[1] - 1))\n",
    "print('Adjusted R2 value:',AdjustedR2)"
   ]
  },
  {
   "cell_type": "markdown",
   "metadata": {},
   "source": [
    "## For 3 Dimensional  features"
   ]
  },
  {
   "cell_type": "code",
   "execution_count": 59,
   "metadata": {},
   "outputs": [
    {
     "data": {
      "text/plain": [
       "Index(['cgpa', 'iq', 'package'], dtype='object')"
      ]
     },
     "execution_count": 59,
     "metadata": {},
     "output_type": "execute_result"
    }
   ],
   "source": [
    "import plotly.express as px\n",
    "new_df2.columns\n"
   ]
  },
  {
   "cell_type": "code",
   "execution_count": 61,
   "metadata": {},
   "outputs": [
    {
     "data": {
      "application/vnd.plotly.v1+json": {
       "config": {
        "plotlyServerURL": "https://plot.ly"
       },
       "data": [
        {
         "hovertemplate": "cgpa=%{x}<br>iq=%{y}<br>package=%{z}<extra></extra>",
         "legendgroup": "",
         "marker": {
          "color": "#636efa",
          "symbol": "circle"
         },
         "mode": "markers",
         "name": "",
         "scene": "scene",
         "showlegend": false,
         "type": "scatter3d",
         "x": [
          6.89,
          5.12,
          7.82,
          7.42,
          6.94,
          7.89,
          6.73,
          6.75,
          6.09,
          8.31,
          5.32,
          6.61,
          8.94,
          6.93,
          7.73,
          7.25,
          6.84,
          5.38,
          6.94,
          7.48,
          7.28,
          6.85,
          6.14,
          6.19,
          6.53,
          7.28,
          8.31,
          5.42,
          5.94,
          7.15,
          7.36,
          8.1,
          6.96,
          6.35,
          7.34,
          6.87,
          5.99,
          5.9,
          8.62,
          7.43,
          9.38,
          6.89,
          5.95,
          7.66,
          5.09,
          7.87,
          6.07,
          5.84,
          8.63,
          8.87,
          9.58,
          9.26,
          8.37,
          6.47,
          6.86,
          8.2,
          5.84,
          6.6,
          6.92,
          7.56,
          5.61,
          5.48,
          6.34,
          9.16,
          7.36,
          7.6,
          5.11,
          6.51,
          7.56,
          7.3,
          5.79,
          7.47,
          7.78,
          8.44,
          6.85,
          6.97,
          6.94,
          8.99,
          6.59,
          7.18,
          7.63,
          6.1,
          5.58,
          8.44,
          4.26,
          4.79,
          7.61,
          8.09,
          4.73,
          6.42,
          7.11,
          6.22,
          7.9,
          6.79,
          5.83,
          6.63,
          7.11,
          5.98,
          7.69,
          6.61,
          7.95,
          6.71,
          5.13,
          7.05,
          7.62,
          6.66,
          6.13,
          6.33,
          7.76,
          7.77,
          8.18,
          5.42,
          8.58,
          6.94,
          5.84,
          8.35,
          9.04,
          7.12,
          7.4,
          7.39,
          5.23,
          6.5,
          5.12,
          5.1,
          6.06,
          7.33,
          5.91,
          6.78,
          7.93,
          7.29,
          6.68,
          6.37,
          5.84,
          6.05,
          7.2,
          6.1,
          5.64,
          7.14,
          7.91,
          7.19,
          7.91,
          6.76,
          6.93,
          4.85,
          6.17,
          5.84,
          6.07,
          5.66,
          7.57,
          8.28,
          6.3,
          6.12,
          7.37,
          7.94,
          7.08,
          6.98,
          7.38,
          6.47,
          5.95,
          8.71,
          7.13,
          7.3,
          5.53,
          8.93,
          9.06,
          8.21,
          8.6,
          8.13,
          8.65,
          9.31,
          6.22,
          8.01,
          6.93,
          6.75,
          7.32,
          7.04,
          6.29,
          7.09,
          8.15,
          7.14,
          6.19,
          8.22,
          5.88,
          7.28,
          7.88,
          6.31,
          7.84,
          6.26,
          7.35,
          8.11,
          6.19,
          7.28,
          8.25,
          4.57,
          7.89,
          6.93,
          5.89,
          7.21,
          7.63,
          6.22
         ],
         "y": [
          4.16,
          2.7800000000000002,
          4.25,
          4.57,
          4.57,
          3.29,
          1.5,
          3.2800000000000002,
          1.21,
          4.41,
          2.46,
          3.4000000000000004,
          2.55,
          1.79,
          3.62,
          2.0300000000000002,
          1.55,
          2.29,
          1.98,
          3.23,
          2.46,
          1.83,
          3.0999999999999996,
          1.78,
          2.81,
          2.55,
          3.2199999999999998,
          2.56,
          1.7400000000000002,
          4.59,
          2.5599999999999996,
          4.79,
          2.48,
          2.13,
          3.02,
          2.17,
          3.04,
          3.2300000000000004,
          3.16,
          3.83,
          3.0199999999999996,
          2.9000000000000004,
          2.94,
          2.46,
          1.06,
          4.18,
          1.6599999999999997,
          2.0599999999999996,
          3.79,
          5.32,
          5.2299999999999995,
          3.79,
          4.61,
          1.91,
          3.19,
          3.29,
          2.64,
          1.14,
          2.8899999999999997,
          2.31,
          1.89,
          1.11,
          2.19,
          5.15,
          3.42,
          3.41,
          0.6299999999999999,
          2.1900000000000004,
          1.8900000000000001,
          1.74,
          2.25,
          3.2399999999999998,
          4.62,
          4.53,
          2.24,
          2.28,
          2.25,
          4.3,
          3.31,
          3.7,
          3.44,
          2.6,
          1.27,
          3.6900000000000004,
          1.9300000000000002,
          2.38,
          2.27,
          3.15,
          0.28,
          2.9200000000000004,
          3.3600000000000003,
          2.84,
          3.1,
          2.88,
          2.82,
          3.79,
          1.41,
          2.2399999999999998,
          2.93,
          4.04,
          4.54,
          2.8200000000000003,
          2.27,
          2.6,
          4.74,
          2.2199999999999998,
          2.8899999999999997,
          1.4899999999999998,
          2.84,
          3.6599999999999997,
          3.0599999999999996,
          1.35,
          4.1,
          2.77,
          2.0700000000000003,
          5.3100000000000005,
          3.23,
          2.89,
          3.28,
          2.05,
          2.63,
          3.02,
          2.71,
          1.0999999999999999,
          2.11,
          3.56,
          2.8000000000000003,
          4.109999999999999,
          2.7399999999999998,
          3.42,
          3.39,
          1.4099999999999997,
          2.58,
          1.58,
          2.5300000000000002,
          1.5,
          2.4,
          3.4299999999999997,
          3.39,
          2.6999999999999997,
          2.05,
          3.88,
          4.04,
          1.74,
          1.72,
          2.7800000000000002,
          1.76,
          1.1099999999999999,
          2.8,
          3.4699999999999998,
          2.33,
          2.46,
          3.18,
          4.19,
          1.85,
          3.69,
          1.93,
          1.6,
          1.84,
          5.18,
          1.7300000000000002,
          2.93,
          2.9499999999999997,
          4.21,
          2.7199999999999998,
          4.08,
          3.68,
          4.5,
          4.52,
          4.57,
          3.27,
          2.86,
          1.4099999999999997,
          1.86,
          3.5900000000000003,
          2.5,
          2.5300000000000002,
          2.74,
          3.9299999999999997,
          2.9299999999999997,
          2.52,
          4.79,
          2.48,
          2.52,
          2.34,
          2.58,
          3.77,
          3.44,
          2.18,
          4.859999999999999,
          2.19,
          3.08,
          4.35,
          2.94,
          3.07,
          2.16,
          1.4699999999999998,
          3.3400000000000003,
          2.96,
          2.93
         ],
         "z": [
          3.26,
          1.98,
          3.25,
          3.67,
          3.57,
          2.99,
          2.6,
          2.48,
          2.31,
          3.51,
          1.86,
          2.6,
          3.65,
          2.89,
          3.42,
          3.23,
          2.35,
          2.09,
          2.98,
          2.83,
          3.16,
          2.93,
          2.3,
          2.48,
          2.71,
          3.65,
          3.42,
          2.16,
          2.24,
          3.49,
          3.26,
          3.89,
          3.08,
          2.73,
          3.42,
          2.87,
          2.84,
          2.43,
          4.36,
          3.33,
          4.02,
          2.7,
          2.54,
          2.76,
          1.86,
          3.58,
          2.26,
          3.26,
          4.09,
          4.62,
          4.43,
          3.79,
          4.11,
          2.61,
          3.09,
          3.39,
          2.74,
          1.94,
          3.09,
          3.31,
          2.19,
          1.61,
          2.09,
          4.25,
          2.92,
          3.81,
          1.63,
          2.89,
          2.99,
          2.94,
          2.35,
          3.34,
          3.62,
          4.03,
          3.44,
          3.28,
          3.15,
          4.6,
          2.21,
          3,
          3.44,
          2.2,
          2.17,
          3.49,
          1.53,
          1.48,
          2.77,
          3.55,
          1.48,
          2.72,
          2.66,
          2.14,
          4,
          3.08,
          2.42,
          2.79,
          2.61,
          2.84,
          3.83,
          3.24,
          4.14,
          3.52,
          1.37,
          3,
          3.74,
          2.82,
          2.19,
          2.59,
          3.54,
          4.06,
          3.76,
          2.25,
          4.1,
          2.37,
          1.87,
          4.21,
          3.33,
          2.99,
          2.88,
          2.65,
          1.73,
          3.02,
          2.01,
          2.3,
          2.31,
          3.16,
          2.6,
          3.11,
          3.34,
          3.12,
          2.49,
          2.01,
          2.48,
          2.58,
          2.83,
          2.6,
          2.1,
          3.13,
          3.89,
          2.4,
          3.15,
          3.18,
          3.04,
          1.54,
          2.42,
          2.18,
          2.46,
          2.21,
          3.4,
          3.67,
          2.73,
          2.76,
          3.08,
          3.99,
          2.85,
          3.09,
          3.13,
          2.7,
          3.04,
          4.08,
          2.93,
          3.33,
          2.55,
          3.91,
          3.82,
          4.08,
          3.98,
          3.6,
          3.52,
          4.37,
          2.87,
          3.76,
          2.51,
          2.56,
          2.99,
          3.5,
          3.23,
          3.64,
          3.63,
          3.03,
          2.72,
          3.89,
          2.08,
          2.72,
          3.14,
          3.18,
          3.47,
          2.44,
          3.08,
          4.06,
          2.69,
          3.48,
          3.75,
          1.94,
          3.67,
          2.46,
          2.57,
          3.24,
          3.96,
          2.33
         ]
        }
       ],
       "layout": {
        "legend": {
         "tracegroupgap": 0
        },
        "margin": {
         "t": 60
        },
        "scene": {
         "domain": {
          "x": [
           0,
           1
          ],
          "y": [
           0,
           1
          ]
         },
         "xaxis": {
          "title": {
           "text": "cgpa"
          }
         },
         "yaxis": {
          "title": {
           "text": "iq"
          }
         },
         "zaxis": {
          "title": {
           "text": "package"
          }
         }
        },
        "template": {
         "data": {
          "bar": [
           {
            "error_x": {
             "color": "#2a3f5f"
            },
            "error_y": {
             "color": "#2a3f5f"
            },
            "marker": {
             "line": {
              "color": "#E5ECF6",
              "width": 0.5
             },
             "pattern": {
              "fillmode": "overlay",
              "size": 10,
              "solidity": 0.2
             }
            },
            "type": "bar"
           }
          ],
          "barpolar": [
           {
            "marker": {
             "line": {
              "color": "#E5ECF6",
              "width": 0.5
             },
             "pattern": {
              "fillmode": "overlay",
              "size": 10,
              "solidity": 0.2
             }
            },
            "type": "barpolar"
           }
          ],
          "carpet": [
           {
            "aaxis": {
             "endlinecolor": "#2a3f5f",
             "gridcolor": "white",
             "linecolor": "white",
             "minorgridcolor": "white",
             "startlinecolor": "#2a3f5f"
            },
            "baxis": {
             "endlinecolor": "#2a3f5f",
             "gridcolor": "white",
             "linecolor": "white",
             "minorgridcolor": "white",
             "startlinecolor": "#2a3f5f"
            },
            "type": "carpet"
           }
          ],
          "choropleth": [
           {
            "colorbar": {
             "outlinewidth": 0,
             "ticks": ""
            },
            "type": "choropleth"
           }
          ],
          "contour": [
           {
            "colorbar": {
             "outlinewidth": 0,
             "ticks": ""
            },
            "colorscale": [
             [
              0,
              "#0d0887"
             ],
             [
              0.1111111111111111,
              "#46039f"
             ],
             [
              0.2222222222222222,
              "#7201a8"
             ],
             [
              0.3333333333333333,
              "#9c179e"
             ],
             [
              0.4444444444444444,
              "#bd3786"
             ],
             [
              0.5555555555555556,
              "#d8576b"
             ],
             [
              0.6666666666666666,
              "#ed7953"
             ],
             [
              0.7777777777777778,
              "#fb9f3a"
             ],
             [
              0.8888888888888888,
              "#fdca26"
             ],
             [
              1,
              "#f0f921"
             ]
            ],
            "type": "contour"
           }
          ],
          "contourcarpet": [
           {
            "colorbar": {
             "outlinewidth": 0,
             "ticks": ""
            },
            "type": "contourcarpet"
           }
          ],
          "heatmap": [
           {
            "colorbar": {
             "outlinewidth": 0,
             "ticks": ""
            },
            "colorscale": [
             [
              0,
              "#0d0887"
             ],
             [
              0.1111111111111111,
              "#46039f"
             ],
             [
              0.2222222222222222,
              "#7201a8"
             ],
             [
              0.3333333333333333,
              "#9c179e"
             ],
             [
              0.4444444444444444,
              "#bd3786"
             ],
             [
              0.5555555555555556,
              "#d8576b"
             ],
             [
              0.6666666666666666,
              "#ed7953"
             ],
             [
              0.7777777777777778,
              "#fb9f3a"
             ],
             [
              0.8888888888888888,
              "#fdca26"
             ],
             [
              1,
              "#f0f921"
             ]
            ],
            "type": "heatmap"
           }
          ],
          "heatmapgl": [
           {
            "colorbar": {
             "outlinewidth": 0,
             "ticks": ""
            },
            "colorscale": [
             [
              0,
              "#0d0887"
             ],
             [
              0.1111111111111111,
              "#46039f"
             ],
             [
              0.2222222222222222,
              "#7201a8"
             ],
             [
              0.3333333333333333,
              "#9c179e"
             ],
             [
              0.4444444444444444,
              "#bd3786"
             ],
             [
              0.5555555555555556,
              "#d8576b"
             ],
             [
              0.6666666666666666,
              "#ed7953"
             ],
             [
              0.7777777777777778,
              "#fb9f3a"
             ],
             [
              0.8888888888888888,
              "#fdca26"
             ],
             [
              1,
              "#f0f921"
             ]
            ],
            "type": "heatmapgl"
           }
          ],
          "histogram": [
           {
            "marker": {
             "pattern": {
              "fillmode": "overlay",
              "size": 10,
              "solidity": 0.2
             }
            },
            "type": "histogram"
           }
          ],
          "histogram2d": [
           {
            "colorbar": {
             "outlinewidth": 0,
             "ticks": ""
            },
            "colorscale": [
             [
              0,
              "#0d0887"
             ],
             [
              0.1111111111111111,
              "#46039f"
             ],
             [
              0.2222222222222222,
              "#7201a8"
             ],
             [
              0.3333333333333333,
              "#9c179e"
             ],
             [
              0.4444444444444444,
              "#bd3786"
             ],
             [
              0.5555555555555556,
              "#d8576b"
             ],
             [
              0.6666666666666666,
              "#ed7953"
             ],
             [
              0.7777777777777778,
              "#fb9f3a"
             ],
             [
              0.8888888888888888,
              "#fdca26"
             ],
             [
              1,
              "#f0f921"
             ]
            ],
            "type": "histogram2d"
           }
          ],
          "histogram2dcontour": [
           {
            "colorbar": {
             "outlinewidth": 0,
             "ticks": ""
            },
            "colorscale": [
             [
              0,
              "#0d0887"
             ],
             [
              0.1111111111111111,
              "#46039f"
             ],
             [
              0.2222222222222222,
              "#7201a8"
             ],
             [
              0.3333333333333333,
              "#9c179e"
             ],
             [
              0.4444444444444444,
              "#bd3786"
             ],
             [
              0.5555555555555556,
              "#d8576b"
             ],
             [
              0.6666666666666666,
              "#ed7953"
             ],
             [
              0.7777777777777778,
              "#fb9f3a"
             ],
             [
              0.8888888888888888,
              "#fdca26"
             ],
             [
              1,
              "#f0f921"
             ]
            ],
            "type": "histogram2dcontour"
           }
          ],
          "mesh3d": [
           {
            "colorbar": {
             "outlinewidth": 0,
             "ticks": ""
            },
            "type": "mesh3d"
           }
          ],
          "parcoords": [
           {
            "line": {
             "colorbar": {
              "outlinewidth": 0,
              "ticks": ""
             }
            },
            "type": "parcoords"
           }
          ],
          "pie": [
           {
            "automargin": true,
            "type": "pie"
           }
          ],
          "scatter": [
           {
            "fillpattern": {
             "fillmode": "overlay",
             "size": 10,
             "solidity": 0.2
            },
            "type": "scatter"
           }
          ],
          "scatter3d": [
           {
            "line": {
             "colorbar": {
              "outlinewidth": 0,
              "ticks": ""
             }
            },
            "marker": {
             "colorbar": {
              "outlinewidth": 0,
              "ticks": ""
             }
            },
            "type": "scatter3d"
           }
          ],
          "scattercarpet": [
           {
            "marker": {
             "colorbar": {
              "outlinewidth": 0,
              "ticks": ""
             }
            },
            "type": "scattercarpet"
           }
          ],
          "scattergeo": [
           {
            "marker": {
             "colorbar": {
              "outlinewidth": 0,
              "ticks": ""
             }
            },
            "type": "scattergeo"
           }
          ],
          "scattergl": [
           {
            "marker": {
             "colorbar": {
              "outlinewidth": 0,
              "ticks": ""
             }
            },
            "type": "scattergl"
           }
          ],
          "scattermapbox": [
           {
            "marker": {
             "colorbar": {
              "outlinewidth": 0,
              "ticks": ""
             }
            },
            "type": "scattermapbox"
           }
          ],
          "scatterpolar": [
           {
            "marker": {
             "colorbar": {
              "outlinewidth": 0,
              "ticks": ""
             }
            },
            "type": "scatterpolar"
           }
          ],
          "scatterpolargl": [
           {
            "marker": {
             "colorbar": {
              "outlinewidth": 0,
              "ticks": ""
             }
            },
            "type": "scatterpolargl"
           }
          ],
          "scatterternary": [
           {
            "marker": {
             "colorbar": {
              "outlinewidth": 0,
              "ticks": ""
             }
            },
            "type": "scatterternary"
           }
          ],
          "surface": [
           {
            "colorbar": {
             "outlinewidth": 0,
             "ticks": ""
            },
            "colorscale": [
             [
              0,
              "#0d0887"
             ],
             [
              0.1111111111111111,
              "#46039f"
             ],
             [
              0.2222222222222222,
              "#7201a8"
             ],
             [
              0.3333333333333333,
              "#9c179e"
             ],
             [
              0.4444444444444444,
              "#bd3786"
             ],
             [
              0.5555555555555556,
              "#d8576b"
             ],
             [
              0.6666666666666666,
              "#ed7953"
             ],
             [
              0.7777777777777778,
              "#fb9f3a"
             ],
             [
              0.8888888888888888,
              "#fdca26"
             ],
             [
              1,
              "#f0f921"
             ]
            ],
            "type": "surface"
           }
          ],
          "table": [
           {
            "cells": {
             "fill": {
              "color": "#EBF0F8"
             },
             "line": {
              "color": "white"
             }
            },
            "header": {
             "fill": {
              "color": "#C8D4E3"
             },
             "line": {
              "color": "white"
             }
            },
            "type": "table"
           }
          ]
         },
         "layout": {
          "annotationdefaults": {
           "arrowcolor": "#2a3f5f",
           "arrowhead": 0,
           "arrowwidth": 1
          },
          "autotypenumbers": "strict",
          "coloraxis": {
           "colorbar": {
            "outlinewidth": 0,
            "ticks": ""
           }
          },
          "colorscale": {
           "diverging": [
            [
             0,
             "#8e0152"
            ],
            [
             0.1,
             "#c51b7d"
            ],
            [
             0.2,
             "#de77ae"
            ],
            [
             0.3,
             "#f1b6da"
            ],
            [
             0.4,
             "#fde0ef"
            ],
            [
             0.5,
             "#f7f7f7"
            ],
            [
             0.6,
             "#e6f5d0"
            ],
            [
             0.7,
             "#b8e186"
            ],
            [
             0.8,
             "#7fbc41"
            ],
            [
             0.9,
             "#4d9221"
            ],
            [
             1,
             "#276419"
            ]
           ],
           "sequential": [
            [
             0,
             "#0d0887"
            ],
            [
             0.1111111111111111,
             "#46039f"
            ],
            [
             0.2222222222222222,
             "#7201a8"
            ],
            [
             0.3333333333333333,
             "#9c179e"
            ],
            [
             0.4444444444444444,
             "#bd3786"
            ],
            [
             0.5555555555555556,
             "#d8576b"
            ],
            [
             0.6666666666666666,
             "#ed7953"
            ],
            [
             0.7777777777777778,
             "#fb9f3a"
            ],
            [
             0.8888888888888888,
             "#fdca26"
            ],
            [
             1,
             "#f0f921"
            ]
           ],
           "sequentialminus": [
            [
             0,
             "#0d0887"
            ],
            [
             0.1111111111111111,
             "#46039f"
            ],
            [
             0.2222222222222222,
             "#7201a8"
            ],
            [
             0.3333333333333333,
             "#9c179e"
            ],
            [
             0.4444444444444444,
             "#bd3786"
            ],
            [
             0.5555555555555556,
             "#d8576b"
            ],
            [
             0.6666666666666666,
             "#ed7953"
            ],
            [
             0.7777777777777778,
             "#fb9f3a"
            ],
            [
             0.8888888888888888,
             "#fdca26"
            ],
            [
             1,
             "#f0f921"
            ]
           ]
          },
          "colorway": [
           "#636efa",
           "#EF553B",
           "#00cc96",
           "#ab63fa",
           "#FFA15A",
           "#19d3f3",
           "#FF6692",
           "#B6E880",
           "#FF97FF",
           "#FECB52"
          ],
          "font": {
           "color": "#2a3f5f"
          },
          "geo": {
           "bgcolor": "white",
           "lakecolor": "white",
           "landcolor": "#E5ECF6",
           "showlakes": true,
           "showland": true,
           "subunitcolor": "white"
          },
          "hoverlabel": {
           "align": "left"
          },
          "hovermode": "closest",
          "mapbox": {
           "style": "light"
          },
          "paper_bgcolor": "white",
          "plot_bgcolor": "#E5ECF6",
          "polar": {
           "angularaxis": {
            "gridcolor": "white",
            "linecolor": "white",
            "ticks": ""
           },
           "bgcolor": "#E5ECF6",
           "radialaxis": {
            "gridcolor": "white",
            "linecolor": "white",
            "ticks": ""
           }
          },
          "scene": {
           "xaxis": {
            "backgroundcolor": "#E5ECF6",
            "gridcolor": "white",
            "gridwidth": 2,
            "linecolor": "white",
            "showbackground": true,
            "ticks": "",
            "zerolinecolor": "white"
           },
           "yaxis": {
            "backgroundcolor": "#E5ECF6",
            "gridcolor": "white",
            "gridwidth": 2,
            "linecolor": "white",
            "showbackground": true,
            "ticks": "",
            "zerolinecolor": "white"
           },
           "zaxis": {
            "backgroundcolor": "#E5ECF6",
            "gridcolor": "white",
            "gridwidth": 2,
            "linecolor": "white",
            "showbackground": true,
            "ticks": "",
            "zerolinecolor": "white"
           }
          },
          "shapedefaults": {
           "line": {
            "color": "#2a3f5f"
           }
          },
          "ternary": {
           "aaxis": {
            "gridcolor": "white",
            "linecolor": "white",
            "ticks": ""
           },
           "baxis": {
            "gridcolor": "white",
            "linecolor": "white",
            "ticks": ""
           },
           "bgcolor": "#E5ECF6",
           "caxis": {
            "gridcolor": "white",
            "linecolor": "white",
            "ticks": ""
           }
          },
          "title": {
           "x": 0.05
          },
          "xaxis": {
           "automargin": true,
           "gridcolor": "white",
           "linecolor": "white",
           "ticks": "",
           "title": {
            "standoff": 15
           },
           "zerolinecolor": "white",
           "zerolinewidth": 2
          },
          "yaxis": {
           "automargin": true,
           "gridcolor": "white",
           "linecolor": "white",
           "ticks": "",
           "title": {
            "standoff": 15
           },
           "zerolinecolor": "white",
           "zerolinewidth": 2
          }
         }
        }
       }
      }
     },
     "metadata": {},
     "output_type": "display_data"
    },
    {
     "name": "stdout",
     "output_type": "stream",
     "text": [
      "Adjusted R2 value: 0.8100601635851329\n",
      "0.09967991842672877\n",
      "0.24800273113995522\n"
     ]
    }
   ],
   "source": [
    "fig = px.scatter_3d(new_df2, x= 'cgpa', y = 'iq', z= 'package' )\n",
    "fig.show()\n",
    "## Adjusted R2\n",
    "## 1 - ((1-r2) (n-1)/(n-p-1))  n is row and p is independent features  p = X_Test.shape[1]\n",
    "AdjustedR2 = 1 - (((1-(r2_score(Y_test, y_predict)))) * (len(Y_test)-1)/(len(Y_test) - X_Test.shape[1] - 1))\n",
    "print('Adjusted R2 value:',AdjustedR2)\n",
    "print(mean_squared_error(Y_test, y_predict))\n",
    "print(mean_absolute_error(Y_test, y_predict))\n"
   ]
  },
  {
   "cell_type": "code",
   "execution_count": 69,
   "metadata": {},
   "outputs": [
    {
     "data": {
      "application/vnd.plotly.v1+json": {
       "config": {
        "plotlyServerURL": "https://plot.ly"
       },
       "data": [
        {
         "hovertemplate": "cgpa=%{x}<br>iq=%{y}<br>package=%{z}<extra></extra>",
         "legendgroup": "",
         "marker": {
          "color": "#636efa",
          "symbol": "circle"
         },
         "mode": "markers",
         "name": "",
         "scene": "scene",
         "showlegend": false,
         "type": "scatter3d",
         "x": [
          6.89,
          5.12,
          7.82,
          7.42,
          6.94,
          7.89,
          6.73,
          6.75,
          6.09,
          8.31,
          5.32,
          6.61,
          8.94,
          6.93,
          7.73,
          7.25,
          6.84,
          5.38,
          6.94,
          7.48,
          7.28,
          6.85,
          6.14,
          6.19,
          6.53,
          7.28,
          8.31,
          5.42,
          5.94,
          7.15,
          7.36,
          8.1,
          6.96,
          6.35,
          7.34,
          6.87,
          5.99,
          5.9,
          8.62,
          7.43,
          9.38,
          6.89,
          5.95,
          7.66,
          5.09,
          7.87,
          6.07,
          5.84,
          8.63,
          8.87,
          9.58,
          9.26,
          8.37,
          6.47,
          6.86,
          8.2,
          5.84,
          6.6,
          6.92,
          7.56,
          5.61,
          5.48,
          6.34,
          9.16,
          7.36,
          7.6,
          5.11,
          6.51,
          7.56,
          7.3,
          5.79,
          7.47,
          7.78,
          8.44,
          6.85,
          6.97,
          6.94,
          8.99,
          6.59,
          7.18,
          7.63,
          6.1,
          5.58,
          8.44,
          4.26,
          4.79,
          7.61,
          8.09,
          4.73,
          6.42,
          7.11,
          6.22,
          7.9,
          6.79,
          5.83,
          6.63,
          7.11,
          5.98,
          7.69,
          6.61,
          7.95,
          6.71,
          5.13,
          7.05,
          7.62,
          6.66,
          6.13,
          6.33,
          7.76,
          7.77,
          8.18,
          5.42,
          8.58,
          6.94,
          5.84,
          8.35,
          9.04,
          7.12,
          7.4,
          7.39,
          5.23,
          6.5,
          5.12,
          5.1,
          6.06,
          7.33,
          5.91,
          6.78,
          7.93,
          7.29,
          6.68,
          6.37,
          5.84,
          6.05,
          7.2,
          6.1,
          5.64,
          7.14,
          7.91,
          7.19,
          7.91,
          6.76,
          6.93,
          4.85,
          6.17,
          5.84,
          6.07,
          5.66,
          7.57,
          8.28,
          6.3,
          6.12,
          7.37,
          7.94,
          7.08,
          6.98,
          7.38,
          6.47,
          5.95,
          8.71,
          7.13,
          7.3,
          5.53,
          8.93,
          9.06,
          8.21,
          8.6,
          8.13,
          8.65,
          9.31,
          6.22,
          8.01,
          6.93,
          6.75,
          7.32,
          7.04,
          6.29,
          7.09,
          8.15,
          7.14,
          6.19,
          8.22,
          5.88,
          7.28,
          7.88,
          6.31,
          7.84,
          6.26,
          7.35,
          8.11,
          6.19,
          7.28,
          8.25,
          4.57,
          7.89,
          6.93,
          5.89,
          7.21,
          7.63,
          6.22
         ],
         "y": [
          4.16,
          2.7800000000000002,
          4.25,
          4.57,
          4.57,
          3.29,
          1.5,
          3.2800000000000002,
          1.21,
          4.41,
          2.46,
          3.4000000000000004,
          2.55,
          1.79,
          3.62,
          2.0300000000000002,
          1.55,
          2.29,
          1.98,
          3.23,
          2.46,
          1.83,
          3.0999999999999996,
          1.78,
          2.81,
          2.55,
          3.2199999999999998,
          2.56,
          1.7400000000000002,
          4.59,
          2.5599999999999996,
          4.79,
          2.48,
          2.13,
          3.02,
          2.17,
          3.04,
          3.2300000000000004,
          3.16,
          3.83,
          3.0199999999999996,
          2.9000000000000004,
          2.94,
          2.46,
          1.06,
          4.18,
          1.6599999999999997,
          2.0599999999999996,
          3.79,
          5.32,
          5.2299999999999995,
          3.79,
          4.61,
          1.91,
          3.19,
          3.29,
          2.64,
          1.14,
          2.8899999999999997,
          2.31,
          1.89,
          1.11,
          2.19,
          5.15,
          3.42,
          3.41,
          0.6299999999999999,
          2.1900000000000004,
          1.8900000000000001,
          1.74,
          2.25,
          3.2399999999999998,
          4.62,
          4.53,
          2.24,
          2.28,
          2.25,
          4.3,
          3.31,
          3.7,
          3.44,
          2.6,
          1.27,
          3.6900000000000004,
          1.9300000000000002,
          2.38,
          2.27,
          3.15,
          0.28,
          2.9200000000000004,
          3.3600000000000003,
          2.84,
          3.1,
          2.88,
          2.82,
          3.79,
          1.41,
          2.2399999999999998,
          2.93,
          4.04,
          4.54,
          2.8200000000000003,
          2.27,
          2.6,
          4.74,
          2.2199999999999998,
          2.8899999999999997,
          1.4899999999999998,
          2.84,
          3.6599999999999997,
          3.0599999999999996,
          1.35,
          4.1,
          2.77,
          2.0700000000000003,
          5.3100000000000005,
          3.23,
          2.89,
          3.28,
          2.05,
          2.63,
          3.02,
          2.71,
          1.0999999999999999,
          2.11,
          3.56,
          2.8000000000000003,
          4.109999999999999,
          2.7399999999999998,
          3.42,
          3.39,
          1.4099999999999997,
          2.58,
          1.58,
          2.5300000000000002,
          1.5,
          2.4,
          3.4299999999999997,
          3.39,
          2.6999999999999997,
          2.05,
          3.88,
          4.04,
          1.74,
          1.72,
          2.7800000000000002,
          1.76,
          1.1099999999999999,
          2.8,
          3.4699999999999998,
          2.33,
          2.46,
          3.18,
          4.19,
          1.85,
          3.69,
          1.93,
          1.6,
          1.84,
          5.18,
          1.7300000000000002,
          2.93,
          2.9499999999999997,
          4.21,
          2.7199999999999998,
          4.08,
          3.68,
          4.5,
          4.52,
          4.57,
          3.27,
          2.86,
          1.4099999999999997,
          1.86,
          3.5900000000000003,
          2.5,
          2.5300000000000002,
          2.74,
          3.9299999999999997,
          2.9299999999999997,
          2.52,
          4.79,
          2.48,
          2.52,
          2.34,
          2.58,
          3.77,
          3.44,
          2.18,
          4.859999999999999,
          2.19,
          3.08,
          4.35,
          2.94,
          3.07,
          2.16,
          1.4699999999999998,
          3.3400000000000003,
          2.96,
          2.93
         ],
         "z": [
          3.26,
          1.98,
          3.25,
          3.67,
          3.57,
          2.99,
          2.6,
          2.48,
          2.31,
          3.51,
          1.86,
          2.6,
          3.65,
          2.89,
          3.42,
          3.23,
          2.35,
          2.09,
          2.98,
          2.83,
          3.16,
          2.93,
          2.3,
          2.48,
          2.71,
          3.65,
          3.42,
          2.16,
          2.24,
          3.49,
          3.26,
          3.89,
          3.08,
          2.73,
          3.42,
          2.87,
          2.84,
          2.43,
          4.36,
          3.33,
          4.02,
          2.7,
          2.54,
          2.76,
          1.86,
          3.58,
          2.26,
          3.26,
          4.09,
          4.62,
          4.43,
          3.79,
          4.11,
          2.61,
          3.09,
          3.39,
          2.74,
          1.94,
          3.09,
          3.31,
          2.19,
          1.61,
          2.09,
          4.25,
          2.92,
          3.81,
          1.63,
          2.89,
          2.99,
          2.94,
          2.35,
          3.34,
          3.62,
          4.03,
          3.44,
          3.28,
          3.15,
          4.6,
          2.21,
          3,
          3.44,
          2.2,
          2.17,
          3.49,
          1.53,
          1.48,
          2.77,
          3.55,
          1.48,
          2.72,
          2.66,
          2.14,
          4,
          3.08,
          2.42,
          2.79,
          2.61,
          2.84,
          3.83,
          3.24,
          4.14,
          3.52,
          1.37,
          3,
          3.74,
          2.82,
          2.19,
          2.59,
          3.54,
          4.06,
          3.76,
          2.25,
          4.1,
          2.37,
          1.87,
          4.21,
          3.33,
          2.99,
          2.88,
          2.65,
          1.73,
          3.02,
          2.01,
          2.3,
          2.31,
          3.16,
          2.6,
          3.11,
          3.34,
          3.12,
          2.49,
          2.01,
          2.48,
          2.58,
          2.83,
          2.6,
          2.1,
          3.13,
          3.89,
          2.4,
          3.15,
          3.18,
          3.04,
          1.54,
          2.42,
          2.18,
          2.46,
          2.21,
          3.4,
          3.67,
          2.73,
          2.76,
          3.08,
          3.99,
          2.85,
          3.09,
          3.13,
          2.7,
          3.04,
          4.08,
          2.93,
          3.33,
          2.55,
          3.91,
          3.82,
          4.08,
          3.98,
          3.6,
          3.52,
          4.37,
          2.87,
          3.76,
          2.51,
          2.56,
          2.99,
          3.5,
          3.23,
          3.64,
          3.63,
          3.03,
          2.72,
          3.89,
          2.08,
          2.72,
          3.14,
          3.18,
          3.47,
          2.44,
          3.08,
          4.06,
          2.69,
          3.48,
          3.75,
          1.94,
          3.67,
          2.46,
          2.57,
          3.24,
          3.96,
          2.33
         ]
        },
        {
         "opacity": 0.5,
         "type": "surface",
         "x": [
          [
           4.26,
           4.54,
           4.82,
           5.1,
           5.38,
           5.66,
           5.9399999999999995,
           6.22,
           6.5,
           6.78,
           7.0600000000000005,
           7.34,
           7.62,
           7.9,
           8.18,
           8.46,
           8.74,
           9.02,
           9.3,
           9.58
          ],
          [
           4.26,
           4.54,
           4.82,
           5.1,
           5.38,
           5.66,
           5.9399999999999995,
           6.22,
           6.5,
           6.78,
           7.0600000000000005,
           7.34,
           7.62,
           7.9,
           8.18,
           8.46,
           8.74,
           9.02,
           9.3,
           9.58
          ],
          [
           4.26,
           4.54,
           4.82,
           5.1,
           5.38,
           5.66,
           5.9399999999999995,
           6.22,
           6.5,
           6.78,
           7.0600000000000005,
           7.34,
           7.62,
           7.9,
           8.18,
           8.46,
           8.74,
           9.02,
           9.3,
           9.58
          ],
          [
           4.26,
           4.54,
           4.82,
           5.1,
           5.38,
           5.66,
           5.9399999999999995,
           6.22,
           6.5,
           6.78,
           7.0600000000000005,
           7.34,
           7.62,
           7.9,
           8.18,
           8.46,
           8.74,
           9.02,
           9.3,
           9.58
          ],
          [
           4.26,
           4.54,
           4.82,
           5.1,
           5.38,
           5.66,
           5.9399999999999995,
           6.22,
           6.5,
           6.78,
           7.0600000000000005,
           7.34,
           7.62,
           7.9,
           8.18,
           8.46,
           8.74,
           9.02,
           9.3,
           9.58
          ],
          [
           4.26,
           4.54,
           4.82,
           5.1,
           5.38,
           5.66,
           5.9399999999999995,
           6.22,
           6.5,
           6.78,
           7.0600000000000005,
           7.34,
           7.62,
           7.9,
           8.18,
           8.46,
           8.74,
           9.02,
           9.3,
           9.58
          ],
          [
           4.26,
           4.54,
           4.82,
           5.1,
           5.38,
           5.66,
           5.9399999999999995,
           6.22,
           6.5,
           6.78,
           7.0600000000000005,
           7.34,
           7.62,
           7.9,
           8.18,
           8.46,
           8.74,
           9.02,
           9.3,
           9.58
          ],
          [
           4.26,
           4.54,
           4.82,
           5.1,
           5.38,
           5.66,
           5.9399999999999995,
           6.22,
           6.5,
           6.78,
           7.0600000000000005,
           7.34,
           7.62,
           7.9,
           8.18,
           8.46,
           8.74,
           9.02,
           9.3,
           9.58
          ],
          [
           4.26,
           4.54,
           4.82,
           5.1,
           5.38,
           5.66,
           5.9399999999999995,
           6.22,
           6.5,
           6.78,
           7.0600000000000005,
           7.34,
           7.62,
           7.9,
           8.18,
           8.46,
           8.74,
           9.02,
           9.3,
           9.58
          ],
          [
           4.26,
           4.54,
           4.82,
           5.1,
           5.38,
           5.66,
           5.9399999999999995,
           6.22,
           6.5,
           6.78,
           7.0600000000000005,
           7.34,
           7.62,
           7.9,
           8.18,
           8.46,
           8.74,
           9.02,
           9.3,
           9.58
          ],
          [
           4.26,
           4.54,
           4.82,
           5.1,
           5.38,
           5.66,
           5.9399999999999995,
           6.22,
           6.5,
           6.78,
           7.0600000000000005,
           7.34,
           7.62,
           7.9,
           8.18,
           8.46,
           8.74,
           9.02,
           9.3,
           9.58
          ],
          [
           4.26,
           4.54,
           4.82,
           5.1,
           5.38,
           5.66,
           5.9399999999999995,
           6.22,
           6.5,
           6.78,
           7.0600000000000005,
           7.34,
           7.62,
           7.9,
           8.18,
           8.46,
           8.74,
           9.02,
           9.3,
           9.58
          ],
          [
           4.26,
           4.54,
           4.82,
           5.1,
           5.38,
           5.66,
           5.9399999999999995,
           6.22,
           6.5,
           6.78,
           7.0600000000000005,
           7.34,
           7.62,
           7.9,
           8.18,
           8.46,
           8.74,
           9.02,
           9.3,
           9.58
          ],
          [
           4.26,
           4.54,
           4.82,
           5.1,
           5.38,
           5.66,
           5.9399999999999995,
           6.22,
           6.5,
           6.78,
           7.0600000000000005,
           7.34,
           7.62,
           7.9,
           8.18,
           8.46,
           8.74,
           9.02,
           9.3,
           9.58
          ],
          [
           4.26,
           4.54,
           4.82,
           5.1,
           5.38,
           5.66,
           5.9399999999999995,
           6.22,
           6.5,
           6.78,
           7.0600000000000005,
           7.34,
           7.62,
           7.9,
           8.18,
           8.46,
           8.74,
           9.02,
           9.3,
           9.58
          ],
          [
           4.26,
           4.54,
           4.82,
           5.1,
           5.38,
           5.66,
           5.9399999999999995,
           6.22,
           6.5,
           6.78,
           7.0600000000000005,
           7.34,
           7.62,
           7.9,
           8.18,
           8.46,
           8.74,
           9.02,
           9.3,
           9.58
          ],
          [
           4.26,
           4.54,
           4.82,
           5.1,
           5.38,
           5.66,
           5.9399999999999995,
           6.22,
           6.5,
           6.78,
           7.0600000000000005,
           7.34,
           7.62,
           7.9,
           8.18,
           8.46,
           8.74,
           9.02,
           9.3,
           9.58
          ],
          [
           4.26,
           4.54,
           4.82,
           5.1,
           5.38,
           5.66,
           5.9399999999999995,
           6.22,
           6.5,
           6.78,
           7.0600000000000005,
           7.34,
           7.62,
           7.9,
           8.18,
           8.46,
           8.74,
           9.02,
           9.3,
           9.58
          ],
          [
           4.26,
           4.54,
           4.82,
           5.1,
           5.38,
           5.66,
           5.9399999999999995,
           6.22,
           6.5,
           6.78,
           7.0600000000000005,
           7.34,
           7.62,
           7.9,
           8.18,
           8.46,
           8.74,
           9.02,
           9.3,
           9.58
          ],
          [
           4.26,
           4.54,
           4.82,
           5.1,
           5.38,
           5.66,
           5.9399999999999995,
           6.22,
           6.5,
           6.78,
           7.0600000000000005,
           7.34,
           7.62,
           7.9,
           8.18,
           8.46,
           8.74,
           9.02,
           9.3,
           9.58
          ]
         ],
         "y": [
          [
           0.28,
           0.28,
           0.28,
           0.28,
           0.28,
           0.28,
           0.28,
           0.28,
           0.28,
           0.28,
           0.28,
           0.28,
           0.28,
           0.28,
           0.28,
           0.28,
           0.28,
           0.28,
           0.28,
           0.28
          ],
          [
           0.5452631578947369,
           0.5452631578947369,
           0.5452631578947369,
           0.5452631578947369,
           0.5452631578947369,
           0.5452631578947369,
           0.5452631578947369,
           0.5452631578947369,
           0.5452631578947369,
           0.5452631578947369,
           0.5452631578947369,
           0.5452631578947369,
           0.5452631578947369,
           0.5452631578947369,
           0.5452631578947369,
           0.5452631578947369,
           0.5452631578947369,
           0.5452631578947369,
           0.5452631578947369,
           0.5452631578947369
          ],
          [
           0.8105263157894738,
           0.8105263157894738,
           0.8105263157894738,
           0.8105263157894738,
           0.8105263157894738,
           0.8105263157894738,
           0.8105263157894738,
           0.8105263157894738,
           0.8105263157894738,
           0.8105263157894738,
           0.8105263157894738,
           0.8105263157894738,
           0.8105263157894738,
           0.8105263157894738,
           0.8105263157894738,
           0.8105263157894738,
           0.8105263157894738,
           0.8105263157894738,
           0.8105263157894738,
           0.8105263157894738
          ],
          [
           1.0757894736842106,
           1.0757894736842106,
           1.0757894736842106,
           1.0757894736842106,
           1.0757894736842106,
           1.0757894736842106,
           1.0757894736842106,
           1.0757894736842106,
           1.0757894736842106,
           1.0757894736842106,
           1.0757894736842106,
           1.0757894736842106,
           1.0757894736842106,
           1.0757894736842106,
           1.0757894736842106,
           1.0757894736842106,
           1.0757894736842106,
           1.0757894736842106,
           1.0757894736842106,
           1.0757894736842106
          ],
          [
           1.3410526315789475,
           1.3410526315789475,
           1.3410526315789475,
           1.3410526315789475,
           1.3410526315789475,
           1.3410526315789475,
           1.3410526315789475,
           1.3410526315789475,
           1.3410526315789475,
           1.3410526315789475,
           1.3410526315789475,
           1.3410526315789475,
           1.3410526315789475,
           1.3410526315789475,
           1.3410526315789475,
           1.3410526315789475,
           1.3410526315789475,
           1.3410526315789475,
           1.3410526315789475,
           1.3410526315789475
          ],
          [
           1.6063157894736844,
           1.6063157894736844,
           1.6063157894736844,
           1.6063157894736844,
           1.6063157894736844,
           1.6063157894736844,
           1.6063157894736844,
           1.6063157894736844,
           1.6063157894736844,
           1.6063157894736844,
           1.6063157894736844,
           1.6063157894736844,
           1.6063157894736844,
           1.6063157894736844,
           1.6063157894736844,
           1.6063157894736844,
           1.6063157894736844,
           1.6063157894736844,
           1.6063157894736844,
           1.6063157894736844
          ],
          [
           1.8715789473684212,
           1.8715789473684212,
           1.8715789473684212,
           1.8715789473684212,
           1.8715789473684212,
           1.8715789473684212,
           1.8715789473684212,
           1.8715789473684212,
           1.8715789473684212,
           1.8715789473684212,
           1.8715789473684212,
           1.8715789473684212,
           1.8715789473684212,
           1.8715789473684212,
           1.8715789473684212,
           1.8715789473684212,
           1.8715789473684212,
           1.8715789473684212,
           1.8715789473684212,
           1.8715789473684212
          ],
          [
           2.136842105263158,
           2.136842105263158,
           2.136842105263158,
           2.136842105263158,
           2.136842105263158,
           2.136842105263158,
           2.136842105263158,
           2.136842105263158,
           2.136842105263158,
           2.136842105263158,
           2.136842105263158,
           2.136842105263158,
           2.136842105263158,
           2.136842105263158,
           2.136842105263158,
           2.136842105263158,
           2.136842105263158,
           2.136842105263158,
           2.136842105263158,
           2.136842105263158
          ],
          [
           2.402105263157895,
           2.402105263157895,
           2.402105263157895,
           2.402105263157895,
           2.402105263157895,
           2.402105263157895,
           2.402105263157895,
           2.402105263157895,
           2.402105263157895,
           2.402105263157895,
           2.402105263157895,
           2.402105263157895,
           2.402105263157895,
           2.402105263157895,
           2.402105263157895,
           2.402105263157895,
           2.402105263157895,
           2.402105263157895,
           2.402105263157895,
           2.402105263157895
          ],
          [
           2.6673684210526316,
           2.6673684210526316,
           2.6673684210526316,
           2.6673684210526316,
           2.6673684210526316,
           2.6673684210526316,
           2.6673684210526316,
           2.6673684210526316,
           2.6673684210526316,
           2.6673684210526316,
           2.6673684210526316,
           2.6673684210526316,
           2.6673684210526316,
           2.6673684210526316,
           2.6673684210526316,
           2.6673684210526316,
           2.6673684210526316,
           2.6673684210526316,
           2.6673684210526316,
           2.6673684210526316
          ],
          [
           2.932631578947369,
           2.932631578947369,
           2.932631578947369,
           2.932631578947369,
           2.932631578947369,
           2.932631578947369,
           2.932631578947369,
           2.932631578947369,
           2.932631578947369,
           2.932631578947369,
           2.932631578947369,
           2.932631578947369,
           2.932631578947369,
           2.932631578947369,
           2.932631578947369,
           2.932631578947369,
           2.932631578947369,
           2.932631578947369,
           2.932631578947369,
           2.932631578947369
          ],
          [
           3.1978947368421053,
           3.1978947368421053,
           3.1978947368421053,
           3.1978947368421053,
           3.1978947368421053,
           3.1978947368421053,
           3.1978947368421053,
           3.1978947368421053,
           3.1978947368421053,
           3.1978947368421053,
           3.1978947368421053,
           3.1978947368421053,
           3.1978947368421053,
           3.1978947368421053,
           3.1978947368421053,
           3.1978947368421053,
           3.1978947368421053,
           3.1978947368421053,
           3.1978947368421053,
           3.1978947368421053
          ],
          [
           3.4631578947368427,
           3.4631578947368427,
           3.4631578947368427,
           3.4631578947368427,
           3.4631578947368427,
           3.4631578947368427,
           3.4631578947368427,
           3.4631578947368427,
           3.4631578947368427,
           3.4631578947368427,
           3.4631578947368427,
           3.4631578947368427,
           3.4631578947368427,
           3.4631578947368427,
           3.4631578947368427,
           3.4631578947368427,
           3.4631578947368427,
           3.4631578947368427,
           3.4631578947368427,
           3.4631578947368427
          ],
          [
           3.728421052631579,
           3.728421052631579,
           3.728421052631579,
           3.728421052631579,
           3.728421052631579,
           3.728421052631579,
           3.728421052631579,
           3.728421052631579,
           3.728421052631579,
           3.728421052631579,
           3.728421052631579,
           3.728421052631579,
           3.728421052631579,
           3.728421052631579,
           3.728421052631579,
           3.728421052631579,
           3.728421052631579,
           3.728421052631579,
           3.728421052631579,
           3.728421052631579
          ],
          [
           3.9936842105263164,
           3.9936842105263164,
           3.9936842105263164,
           3.9936842105263164,
           3.9936842105263164,
           3.9936842105263164,
           3.9936842105263164,
           3.9936842105263164,
           3.9936842105263164,
           3.9936842105263164,
           3.9936842105263164,
           3.9936842105263164,
           3.9936842105263164,
           3.9936842105263164,
           3.9936842105263164,
           3.9936842105263164,
           3.9936842105263164,
           3.9936842105263164,
           3.9936842105263164,
           3.9936842105263164
          ],
          [
           4.258947368421053,
           4.258947368421053,
           4.258947368421053,
           4.258947368421053,
           4.258947368421053,
           4.258947368421053,
           4.258947368421053,
           4.258947368421053,
           4.258947368421053,
           4.258947368421053,
           4.258947368421053,
           4.258947368421053,
           4.258947368421053,
           4.258947368421053,
           4.258947368421053,
           4.258947368421053,
           4.258947368421053,
           4.258947368421053,
           4.258947368421053,
           4.258947368421053
          ],
          [
           4.52421052631579,
           4.52421052631579,
           4.52421052631579,
           4.52421052631579,
           4.52421052631579,
           4.52421052631579,
           4.52421052631579,
           4.52421052631579,
           4.52421052631579,
           4.52421052631579,
           4.52421052631579,
           4.52421052631579,
           4.52421052631579,
           4.52421052631579,
           4.52421052631579,
           4.52421052631579,
           4.52421052631579,
           4.52421052631579,
           4.52421052631579,
           4.52421052631579
          ],
          [
           4.7894736842105265,
           4.7894736842105265,
           4.7894736842105265,
           4.7894736842105265,
           4.7894736842105265,
           4.7894736842105265,
           4.7894736842105265,
           4.7894736842105265,
           4.7894736842105265,
           4.7894736842105265,
           4.7894736842105265,
           4.7894736842105265,
           4.7894736842105265,
           4.7894736842105265,
           4.7894736842105265,
           4.7894736842105265,
           4.7894736842105265,
           4.7894736842105265,
           4.7894736842105265,
           4.7894736842105265
          ],
          [
           5.054736842105264,
           5.054736842105264,
           5.054736842105264,
           5.054736842105264,
           5.054736842105264,
           5.054736842105264,
           5.054736842105264,
           5.054736842105264,
           5.054736842105264,
           5.054736842105264,
           5.054736842105264,
           5.054736842105264,
           5.054736842105264,
           5.054736842105264,
           5.054736842105264,
           5.054736842105264,
           5.054736842105264,
           5.054736842105264,
           5.054736842105264,
           5.054736842105264
          ],
          [
           5.32,
           5.32,
           5.32,
           5.32,
           5.32,
           5.32,
           5.32,
           5.32,
           5.32,
           5.32,
           5.32,
           5.32,
           5.32,
           5.32,
           5.32,
           5.32,
           5.32,
           5.32,
           5.32,
           5.32
          ]
         ],
         "z": [
          [
           1.3372649156181884,
           1.4666246837763317,
           1.595984451934475,
           1.725344220092618,
           1.8547039882507612,
           1.9840637564089045,
           2.113423524567047,
           2.2427832927251905,
           2.372143060883334,
           2.501502829041477,
           2.6308625971996205,
           2.7602223653577633,
           2.8895821335159066,
           3.01894190167405,
           3.148301669832193,
           3.2776614379903366,
           3.4070212061484795,
           3.536380974306622,
           3.665740742464766,
           3.7951005106229085
          ],
          [
           1.3789779668715167,
           1.50833773502966,
           1.6376975031878034,
           1.7670572713459463,
           1.8964170395040896,
           2.025776807662233,
           2.155136575820376,
           2.2844963439785193,
           2.4138561121366626,
           2.543215880294806,
           2.6725756484529493,
           2.801935416611092,
           2.9312951847692355,
           3.0606549529273788,
           3.1900147210855216,
           3.3193744892436654,
           3.4487342574018083,
           3.5780940255599507,
           3.707453793718095,
           3.8368135618762373
          ],
          [
           1.4206910181248453,
           1.5500507862829886,
           1.679410554441132,
           1.8087703225992748,
           1.9381300907574182,
           2.0674898589155615,
           2.1968496270737043,
           2.3262093952318477,
           2.455569163389991,
           2.5849289315481343,
           2.7142886997062776,
           2.8436484678644205,
           2.973008236022564,
           3.102368004180707,
           3.23172777233885,
           3.3610875404969938,
           3.4904473086551366,
           3.619807076813279,
           3.7491668449714233,
           3.8785266131295657
          ],
          [
           1.4624040693781737,
           1.591763837536317,
           1.7211236056944603,
           1.8504833738526032,
           1.9798431420107465,
           2.10920291016889,
           2.2385626783270327,
           2.367922446485176,
           2.4972822146433193,
           2.6266419828014627,
           2.756001750959606,
           2.885361519117749,
           3.014721287275892,
           3.1440810554340355,
           3.2734408235921784,
           3.402800591750322,
           3.532160359908465,
           3.6615201280666074,
           3.7908798962247516,
           3.920239664382894
          ],
          [
           1.5041171206315023,
           1.6334768887896456,
           1.762836656947789,
           1.8921964251059318,
           2.021556193264075,
           2.150915961422218,
           2.280275729580361,
           2.4096354977385044,
           2.5389952658966477,
           2.668355034054791,
           2.7977148022129343,
           2.927074570371077,
           3.0564343385292205,
           3.185794106687364,
           3.3151538748455067,
           3.4445136430036505,
           3.5738734111617934,
           3.703233179319936,
           3.83259294747808,
           3.9619527156362224
          ],
          [
           1.5458301718848309,
           1.6751899400429742,
           1.8045497082011175,
           1.9339094763592604,
           2.0632692445174037,
           2.192629012675547,
           2.32198878083369,
           2.451348548991833,
           2.5807083171499765,
           2.71006808530812,
           2.839427853466263,
           2.968787621624406,
           3.0981473897825493,
           3.2275071579406927,
           3.3568669260988355,
           3.4862266942569793,
           3.615586462415122,
           3.7449462305732646,
           3.874305998731409,
           4.003665766889551
          ],
          [
           1.5875432231381592,
           1.7169029912963025,
           1.8462627594544458,
           1.9756225276125887,
           2.104982295770732,
           2.2343420639288754,
           2.3637018320870182,
           2.4930616002451615,
           2.622421368403305,
           2.751781136561448,
           2.8811409047195915,
           3.0105006728777344,
           3.1398604410358777,
           3.269220209194021,
           3.398579977352164,
           3.5279397455103076,
           3.6572995136684505,
           3.786659281826593,
           3.916019049984737,
           4.045378818142879
          ],
          [
           1.6292562743914876,
           1.7586160425496309,
           1.8879758107077742,
           2.017335578865917,
           2.1466953470240604,
           2.2760551151822037,
           2.4054148833403466,
           2.53477465149849,
           2.6641344196566332,
           2.7934941878147765,
           2.92285395597292,
           3.0522137241310627,
           3.181573492289206,
           3.3109332604473494,
           3.4402930286054922,
           3.569652796763636,
           3.699012564921779,
           3.8283723330799213,
           3.9577321012380655,
           4.087091869396208
          ],
          [
           1.6709693256448162,
           1.8003290938029595,
           1.9296888619611028,
           2.059048630119246,
           2.188408398277389,
           2.3177681664355325,
           2.4471279345936754,
           2.5764877027518187,
           2.705847470909962,
           2.8352072390681053,
           2.9645670072262487,
           3.0939267753843915,
           3.223286543542535,
           3.352646311700678,
           3.482006079858821,
           3.611365848016965,
           3.7407256161751077,
           3.87008538433325,
           3.9994451524913943,
           4.128804920649537
          ],
          [
           1.7126823768981447,
           1.842042145056288,
           1.9714019132144314,
           2.1007616813725742,
           2.2301214495307176,
           2.359481217688861,
           2.4888409858470038,
           2.618200754005147,
           2.7475605221632904,
           2.8769202903214337,
           3.006280058479577,
           3.13563982663772,
           3.264999594795863,
           3.3943593629540065,
           3.5237191311121494,
           3.653078899270293,
           3.782438667428436,
           3.9117984355865785,
           4.041158203744723,
           4.170517971902865
          ],
          [
           1.754395428151473,
           1.8837551963096164,
           2.0131149644677597,
           2.1424747326259026,
           2.271834500784046,
           2.4011942689421892,
           2.530554037100332,
           2.6599138052584754,
           2.7892735734166187,
           2.918633341574762,
           3.0479931097329054,
           3.1773528778910483,
           3.3067126460491916,
           3.436072414207335,
           3.5654321823654778,
           3.6947919505236215,
           3.8241517186817644,
           3.953511486839907,
           4.082871254998051,
           4.2122310231561935
          ],
          [
           1.7961084794048015,
           1.9254682475629448,
           2.054828015721088,
           2.184187783879231,
           2.3135475520373743,
           2.4429073201955176,
           2.5722670883536605,
           2.701626856511804,
           2.830986624669947,
           2.9603463928280904,
           3.0897061609862337,
           3.2190659291443766,
           3.34842569730252,
           3.4777854654606633,
           3.607145233618806,
           3.73650500177695,
           3.8658647699350928,
           3.995224538093235,
           4.124584306251379,
           4.253944074409522
          ],
          [
           1.8378215306581303,
           1.9671812988162736,
           2.096541066974417,
           2.2259008351325598,
           2.355260603290703,
           2.4846203714488464,
           2.6139801396069893,
           2.7433399077651326,
           2.872699675923276,
           3.0020594440814192,
           3.1314192122395625,
           3.2607789803977054,
           3.3901387485558487,
           3.519498516713992,
           3.648858284872135,
           3.7782180530302787,
           3.9075778211884216,
           4.0369375893465635,
           4.166297357504708,
           4.29565712566285
          ],
          [
           1.8795345819114586,
           2.008894350069602,
           2.1382541182277452,
           2.267613886385888,
           2.3969736545440314,
           2.5263334227021748,
           2.6556931908603176,
           2.785052959018461,
           2.9144127271766043,
           3.0437724953347476,
           3.173132263492891,
           3.3024920316510338,
           3.431851799809177,
           3.5612115679673204,
           3.6905713361254633,
           3.819931104283607,
           3.94929087244175,
           4.078650640599892,
           4.208010408758036,
           4.3373701769161785
          ],
          [
           1.921247633164787,
           2.0506074013229303,
           2.1799671694810736,
           2.3093269376392165,
           2.43868670579736,
           2.568046473955503,
           2.697406242113646,
           2.8267660102717893,
           2.9561257784299326,
           3.085485546588076,
           3.2148453147462193,
           3.344205082904362,
           3.4735648510625055,
           3.6029246192206488,
           3.7322843873787916,
           3.8616441555369354,
           3.9910039236950783,
           4.120363691853221,
           4.249723460011365,
           4.379083228169508
          ],
          [
           1.9629606844181153,
           2.0923204525762586,
           2.221680220734402,
           2.351039988892545,
           2.480399757050688,
           2.6097595252088315,
           2.7391192933669744,
           2.8684790615251177,
           2.997838829683261,
           3.1271985978414043,
           3.2565583659995476,
           3.3859181341576905,
           3.515277902315834,
           3.644637670473977,
           3.77399743863212,
           3.9033572067902638,
           4.032716974948407,
           4.1620767431065495,
           4.291436511264694,
           4.420796279422836
          ],
          [
           2.004673735671444,
           2.1340335038295875,
           2.2633932719877308,
           2.3927530401458736,
           2.522112808304017,
           2.6514725764621603,
           2.780832344620303,
           2.9101921127784465,
           3.03955188093659,
           3.168911649094733,
           3.2982714172528764,
           3.4276311854110193,
           3.5569909535691626,
           3.686350721727306,
           3.815710489885449,
           3.9450702580435926,
           4.0744300262017354,
           4.203789794359878,
           4.333149562518022,
           4.4625093306761645
          ],
          [
           2.0463867869247725,
           2.175746555082916,
           2.305106323241059,
           2.434466091399202,
           2.5638258595573453,
           2.6931856277154886,
           2.8225453958736315,
           2.951905164031775,
           3.081264932189918,
           3.2106247003480615,
           3.339984468506205,
           3.4693442366643477,
           3.598704004822491,
           3.7280637729806343,
           3.857423541138777,
           3.986783309296921,
           4.116143077455064,
           4.245502845613206,
           4.37486261377135,
           4.504222381929493
          ],
          [
           2.088099838178101,
           2.217459606336244,
           2.3468193744943875,
           2.4761791426525304,
           2.6055389108106737,
           2.734898678968817,
           2.86425844712696,
           2.993618215285103,
           3.1229779834432465,
           3.25233775160139,
           3.381697519759533,
           3.511057287917676,
           3.6404170560758193,
           3.7697768242339627,
           3.8991365923921055,
           4.02849636055025,
           4.157856128708392,
           4.287215896866535,
           4.416575665024679,
           4.545935433182821
          ],
          [
           2.129812889431429,
           2.2591726575895725,
           2.388532425747716,
           2.5178921939058587,
           2.647251962064002,
           2.7766117302221454,
           2.9059714983802882,
           3.0353312665384315,
           3.164691034696575,
           3.294050802854718,
           3.4234105710128615,
           3.5527703391710044,
           3.6821301073291477,
           3.811489875487291,
           3.940849643645434,
           4.070209411803578,
           4.1995691799617205,
           4.328928948119863,
           4.458288716278007,
           4.58764848443615
          ]
         ]
        }
       ],
       "layout": {
        "legend": {
         "tracegroupgap": 0
        },
        "margin": {
         "t": 60
        },
        "scene": {
         "domain": {
          "x": [
           0,
           1
          ],
          "y": [
           0,
           1
          ]
         },
         "xaxis": {
          "title": {
           "text": "cgpa"
          }
         },
         "yaxis": {
          "title": {
           "text": "iq"
          }
         },
         "zaxis": {
          "title": {
           "text": "package"
          }
         }
        },
        "template": {
         "data": {
          "bar": [
           {
            "error_x": {
             "color": "#2a3f5f"
            },
            "error_y": {
             "color": "#2a3f5f"
            },
            "marker": {
             "line": {
              "color": "#E5ECF6",
              "width": 0.5
             },
             "pattern": {
              "fillmode": "overlay",
              "size": 10,
              "solidity": 0.2
             }
            },
            "type": "bar"
           }
          ],
          "barpolar": [
           {
            "marker": {
             "line": {
              "color": "#E5ECF6",
              "width": 0.5
             },
             "pattern": {
              "fillmode": "overlay",
              "size": 10,
              "solidity": 0.2
             }
            },
            "type": "barpolar"
           }
          ],
          "carpet": [
           {
            "aaxis": {
             "endlinecolor": "#2a3f5f",
             "gridcolor": "white",
             "linecolor": "white",
             "minorgridcolor": "white",
             "startlinecolor": "#2a3f5f"
            },
            "baxis": {
             "endlinecolor": "#2a3f5f",
             "gridcolor": "white",
             "linecolor": "white",
             "minorgridcolor": "white",
             "startlinecolor": "#2a3f5f"
            },
            "type": "carpet"
           }
          ],
          "choropleth": [
           {
            "colorbar": {
             "outlinewidth": 0,
             "ticks": ""
            },
            "type": "choropleth"
           }
          ],
          "contour": [
           {
            "colorbar": {
             "outlinewidth": 0,
             "ticks": ""
            },
            "colorscale": [
             [
              0,
              "#0d0887"
             ],
             [
              0.1111111111111111,
              "#46039f"
             ],
             [
              0.2222222222222222,
              "#7201a8"
             ],
             [
              0.3333333333333333,
              "#9c179e"
             ],
             [
              0.4444444444444444,
              "#bd3786"
             ],
             [
              0.5555555555555556,
              "#d8576b"
             ],
             [
              0.6666666666666666,
              "#ed7953"
             ],
             [
              0.7777777777777778,
              "#fb9f3a"
             ],
             [
              0.8888888888888888,
              "#fdca26"
             ],
             [
              1,
              "#f0f921"
             ]
            ],
            "type": "contour"
           }
          ],
          "contourcarpet": [
           {
            "colorbar": {
             "outlinewidth": 0,
             "ticks": ""
            },
            "type": "contourcarpet"
           }
          ],
          "heatmap": [
           {
            "colorbar": {
             "outlinewidth": 0,
             "ticks": ""
            },
            "colorscale": [
             [
              0,
              "#0d0887"
             ],
             [
              0.1111111111111111,
              "#46039f"
             ],
             [
              0.2222222222222222,
              "#7201a8"
             ],
             [
              0.3333333333333333,
              "#9c179e"
             ],
             [
              0.4444444444444444,
              "#bd3786"
             ],
             [
              0.5555555555555556,
              "#d8576b"
             ],
             [
              0.6666666666666666,
              "#ed7953"
             ],
             [
              0.7777777777777778,
              "#fb9f3a"
             ],
             [
              0.8888888888888888,
              "#fdca26"
             ],
             [
              1,
              "#f0f921"
             ]
            ],
            "type": "heatmap"
           }
          ],
          "heatmapgl": [
           {
            "colorbar": {
             "outlinewidth": 0,
             "ticks": ""
            },
            "colorscale": [
             [
              0,
              "#0d0887"
             ],
             [
              0.1111111111111111,
              "#46039f"
             ],
             [
              0.2222222222222222,
              "#7201a8"
             ],
             [
              0.3333333333333333,
              "#9c179e"
             ],
             [
              0.4444444444444444,
              "#bd3786"
             ],
             [
              0.5555555555555556,
              "#d8576b"
             ],
             [
              0.6666666666666666,
              "#ed7953"
             ],
             [
              0.7777777777777778,
              "#fb9f3a"
             ],
             [
              0.8888888888888888,
              "#fdca26"
             ],
             [
              1,
              "#f0f921"
             ]
            ],
            "type": "heatmapgl"
           }
          ],
          "histogram": [
           {
            "marker": {
             "pattern": {
              "fillmode": "overlay",
              "size": 10,
              "solidity": 0.2
             }
            },
            "type": "histogram"
           }
          ],
          "histogram2d": [
           {
            "colorbar": {
             "outlinewidth": 0,
             "ticks": ""
            },
            "colorscale": [
             [
              0,
              "#0d0887"
             ],
             [
              0.1111111111111111,
              "#46039f"
             ],
             [
              0.2222222222222222,
              "#7201a8"
             ],
             [
              0.3333333333333333,
              "#9c179e"
             ],
             [
              0.4444444444444444,
              "#bd3786"
             ],
             [
              0.5555555555555556,
              "#d8576b"
             ],
             [
              0.6666666666666666,
              "#ed7953"
             ],
             [
              0.7777777777777778,
              "#fb9f3a"
             ],
             [
              0.8888888888888888,
              "#fdca26"
             ],
             [
              1,
              "#f0f921"
             ]
            ],
            "type": "histogram2d"
           }
          ],
          "histogram2dcontour": [
           {
            "colorbar": {
             "outlinewidth": 0,
             "ticks": ""
            },
            "colorscale": [
             [
              0,
              "#0d0887"
             ],
             [
              0.1111111111111111,
              "#46039f"
             ],
             [
              0.2222222222222222,
              "#7201a8"
             ],
             [
              0.3333333333333333,
              "#9c179e"
             ],
             [
              0.4444444444444444,
              "#bd3786"
             ],
             [
              0.5555555555555556,
              "#d8576b"
             ],
             [
              0.6666666666666666,
              "#ed7953"
             ],
             [
              0.7777777777777778,
              "#fb9f3a"
             ],
             [
              0.8888888888888888,
              "#fdca26"
             ],
             [
              1,
              "#f0f921"
             ]
            ],
            "type": "histogram2dcontour"
           }
          ],
          "mesh3d": [
           {
            "colorbar": {
             "outlinewidth": 0,
             "ticks": ""
            },
            "type": "mesh3d"
           }
          ],
          "parcoords": [
           {
            "line": {
             "colorbar": {
              "outlinewidth": 0,
              "ticks": ""
             }
            },
            "type": "parcoords"
           }
          ],
          "pie": [
           {
            "automargin": true,
            "type": "pie"
           }
          ],
          "scatter": [
           {
            "fillpattern": {
             "fillmode": "overlay",
             "size": 10,
             "solidity": 0.2
            },
            "type": "scatter"
           }
          ],
          "scatter3d": [
           {
            "line": {
             "colorbar": {
              "outlinewidth": 0,
              "ticks": ""
             }
            },
            "marker": {
             "colorbar": {
              "outlinewidth": 0,
              "ticks": ""
             }
            },
            "type": "scatter3d"
           }
          ],
          "scattercarpet": [
           {
            "marker": {
             "colorbar": {
              "outlinewidth": 0,
              "ticks": ""
             }
            },
            "type": "scattercarpet"
           }
          ],
          "scattergeo": [
           {
            "marker": {
             "colorbar": {
              "outlinewidth": 0,
              "ticks": ""
             }
            },
            "type": "scattergeo"
           }
          ],
          "scattergl": [
           {
            "marker": {
             "colorbar": {
              "outlinewidth": 0,
              "ticks": ""
             }
            },
            "type": "scattergl"
           }
          ],
          "scattermapbox": [
           {
            "marker": {
             "colorbar": {
              "outlinewidth": 0,
              "ticks": ""
             }
            },
            "type": "scattermapbox"
           }
          ],
          "scatterpolar": [
           {
            "marker": {
             "colorbar": {
              "outlinewidth": 0,
              "ticks": ""
             }
            },
            "type": "scatterpolar"
           }
          ],
          "scatterpolargl": [
           {
            "marker": {
             "colorbar": {
              "outlinewidth": 0,
              "ticks": ""
             }
            },
            "type": "scatterpolargl"
           }
          ],
          "scatterternary": [
           {
            "marker": {
             "colorbar": {
              "outlinewidth": 0,
              "ticks": ""
             }
            },
            "type": "scatterternary"
           }
          ],
          "surface": [
           {
            "colorbar": {
             "outlinewidth": 0,
             "ticks": ""
            },
            "colorscale": [
             [
              0,
              "#0d0887"
             ],
             [
              0.1111111111111111,
              "#46039f"
             ],
             [
              0.2222222222222222,
              "#7201a8"
             ],
             [
              0.3333333333333333,
              "#9c179e"
             ],
             [
              0.4444444444444444,
              "#bd3786"
             ],
             [
              0.5555555555555556,
              "#d8576b"
             ],
             [
              0.6666666666666666,
              "#ed7953"
             ],
             [
              0.7777777777777778,
              "#fb9f3a"
             ],
             [
              0.8888888888888888,
              "#fdca26"
             ],
             [
              1,
              "#f0f921"
             ]
            ],
            "type": "surface"
           }
          ],
          "table": [
           {
            "cells": {
             "fill": {
              "color": "#EBF0F8"
             },
             "line": {
              "color": "white"
             }
            },
            "header": {
             "fill": {
              "color": "#C8D4E3"
             },
             "line": {
              "color": "white"
             }
            },
            "type": "table"
           }
          ]
         },
         "layout": {
          "annotationdefaults": {
           "arrowcolor": "#2a3f5f",
           "arrowhead": 0,
           "arrowwidth": 1
          },
          "autotypenumbers": "strict",
          "coloraxis": {
           "colorbar": {
            "outlinewidth": 0,
            "ticks": ""
           }
          },
          "colorscale": {
           "diverging": [
            [
             0,
             "#8e0152"
            ],
            [
             0.1,
             "#c51b7d"
            ],
            [
             0.2,
             "#de77ae"
            ],
            [
             0.3,
             "#f1b6da"
            ],
            [
             0.4,
             "#fde0ef"
            ],
            [
             0.5,
             "#f7f7f7"
            ],
            [
             0.6,
             "#e6f5d0"
            ],
            [
             0.7,
             "#b8e186"
            ],
            [
             0.8,
             "#7fbc41"
            ],
            [
             0.9,
             "#4d9221"
            ],
            [
             1,
             "#276419"
            ]
           ],
           "sequential": [
            [
             0,
             "#0d0887"
            ],
            [
             0.1111111111111111,
             "#46039f"
            ],
            [
             0.2222222222222222,
             "#7201a8"
            ],
            [
             0.3333333333333333,
             "#9c179e"
            ],
            [
             0.4444444444444444,
             "#bd3786"
            ],
            [
             0.5555555555555556,
             "#d8576b"
            ],
            [
             0.6666666666666666,
             "#ed7953"
            ],
            [
             0.7777777777777778,
             "#fb9f3a"
            ],
            [
             0.8888888888888888,
             "#fdca26"
            ],
            [
             1,
             "#f0f921"
            ]
           ],
           "sequentialminus": [
            [
             0,
             "#0d0887"
            ],
            [
             0.1111111111111111,
             "#46039f"
            ],
            [
             0.2222222222222222,
             "#7201a8"
            ],
            [
             0.3333333333333333,
             "#9c179e"
            ],
            [
             0.4444444444444444,
             "#bd3786"
            ],
            [
             0.5555555555555556,
             "#d8576b"
            ],
            [
             0.6666666666666666,
             "#ed7953"
            ],
            [
             0.7777777777777778,
             "#fb9f3a"
            ],
            [
             0.8888888888888888,
             "#fdca26"
            ],
            [
             1,
             "#f0f921"
            ]
           ]
          },
          "colorway": [
           "#636efa",
           "#EF553B",
           "#00cc96",
           "#ab63fa",
           "#FFA15A",
           "#19d3f3",
           "#FF6692",
           "#B6E880",
           "#FF97FF",
           "#FECB52"
          ],
          "font": {
           "color": "#2a3f5f"
          },
          "geo": {
           "bgcolor": "white",
           "lakecolor": "white",
           "landcolor": "#E5ECF6",
           "showlakes": true,
           "showland": true,
           "subunitcolor": "white"
          },
          "hoverlabel": {
           "align": "left"
          },
          "hovermode": "closest",
          "mapbox": {
           "style": "light"
          },
          "paper_bgcolor": "white",
          "plot_bgcolor": "#E5ECF6",
          "polar": {
           "angularaxis": {
            "gridcolor": "white",
            "linecolor": "white",
            "ticks": ""
           },
           "bgcolor": "#E5ECF6",
           "radialaxis": {
            "gridcolor": "white",
            "linecolor": "white",
            "ticks": ""
           }
          },
          "scene": {
           "xaxis": {
            "backgroundcolor": "#E5ECF6",
            "gridcolor": "white",
            "gridwidth": 2,
            "linecolor": "white",
            "showbackground": true,
            "ticks": "",
            "zerolinecolor": "white"
           },
           "yaxis": {
            "backgroundcolor": "#E5ECF6",
            "gridcolor": "white",
            "gridwidth": 2,
            "linecolor": "white",
            "showbackground": true,
            "ticks": "",
            "zerolinecolor": "white"
           },
           "zaxis": {
            "backgroundcolor": "#E5ECF6",
            "gridcolor": "white",
            "gridwidth": 2,
            "linecolor": "white",
            "showbackground": true,
            "ticks": "",
            "zerolinecolor": "white"
           }
          },
          "shapedefaults": {
           "line": {
            "color": "#2a3f5f"
           }
          },
          "ternary": {
           "aaxis": {
            "gridcolor": "white",
            "linecolor": "white",
            "ticks": ""
           },
           "baxis": {
            "gridcolor": "white",
            "linecolor": "white",
            "ticks": ""
           },
           "bgcolor": "#E5ECF6",
           "caxis": {
            "gridcolor": "white",
            "linecolor": "white",
            "ticks": ""
           }
          },
          "title": {
           "x": 0.05
          },
          "xaxis": {
           "automargin": true,
           "gridcolor": "white",
           "linecolor": "white",
           "ticks": "",
           "title": {
            "standoff": 15
           },
           "zerolinecolor": "white",
           "zerolinewidth": 2
          },
          "yaxis": {
           "automargin": true,
           "gridcolor": "white",
           "linecolor": "white",
           "ticks": "",
           "title": {
            "standoff": 15
           },
           "zerolinecolor": "white",
           "zerolinewidth": 2
          }
         }
        }
       }
      }
     },
     "metadata": {},
     "output_type": "display_data"
    }
   ],
   "source": [
    "import plotly.graph_objects as go\n",
    "x = np.linspace(new_df2['cgpa'].min(),new_df2['cgpa'].max(), 20)\n",
    "y = np.linspace(new_df2['iq'].min(),new_df2['iq'].max(), 20)\n",
    "xGrid, yGrid = np.meshgrid(x,y)\n",
    "zGrid = (lr.intercept_ +lr.coef_[0] * xGrid +lr.coef_[1]*yGrid)\n",
    "\n",
    "fig = px.scatter_3d(new_df2, x= 'cgpa', y = 'iq', z = 'package')\n",
    "fig.add_trace(go.Surface(x= xGrid, y=yGrid, z= zGrid, opacity= 0.5))\n",
    "fig.show()"
   ]
  },
  {
   "cell_type": "code",
   "execution_count": 70,
   "metadata": {},
   "outputs": [
    {
     "data": {
      "text/html": [
       "<div>\n",
       "<style scoped>\n",
       "    .dataframe tbody tr th:only-of-type {\n",
       "        vertical-align: middle;\n",
       "    }\n",
       "\n",
       "    .dataframe tbody tr th {\n",
       "        vertical-align: top;\n",
       "    }\n",
       "\n",
       "    .dataframe thead th {\n",
       "        text-align: right;\n",
       "    }\n",
       "</style>\n",
       "<table border=\"1\" class=\"dataframe\">\n",
       "  <thead>\n",
       "    <tr style=\"text-align: right;\">\n",
       "      <th></th>\n",
       "      <th>cgpa</th>\n",
       "      <th>package</th>\n",
       "    </tr>\n",
       "  </thead>\n",
       "  <tbody>\n",
       "    <tr>\n",
       "      <th>0</th>\n",
       "      <td>6.89</td>\n",
       "      <td>3.26</td>\n",
       "    </tr>\n",
       "    <tr>\n",
       "      <th>1</th>\n",
       "      <td>5.12</td>\n",
       "      <td>1.98</td>\n",
       "    </tr>\n",
       "    <tr>\n",
       "      <th>2</th>\n",
       "      <td>7.82</td>\n",
       "      <td>3.25</td>\n",
       "    </tr>\n",
       "    <tr>\n",
       "      <th>3</th>\n",
       "      <td>7.42</td>\n",
       "      <td>3.67</td>\n",
       "    </tr>\n",
       "    <tr>\n",
       "      <th>4</th>\n",
       "      <td>6.94</td>\n",
       "      <td>3.57</td>\n",
       "    </tr>\n",
       "    <tr>\n",
       "      <th>...</th>\n",
       "      <td>...</td>\n",
       "      <td>...</td>\n",
       "    </tr>\n",
       "    <tr>\n",
       "      <th>195</th>\n",
       "      <td>6.93</td>\n",
       "      <td>2.46</td>\n",
       "    </tr>\n",
       "    <tr>\n",
       "      <th>196</th>\n",
       "      <td>5.89</td>\n",
       "      <td>2.57</td>\n",
       "    </tr>\n",
       "    <tr>\n",
       "      <th>197</th>\n",
       "      <td>7.21</td>\n",
       "      <td>3.24</td>\n",
       "    </tr>\n",
       "    <tr>\n",
       "      <th>198</th>\n",
       "      <td>7.63</td>\n",
       "      <td>3.96</td>\n",
       "    </tr>\n",
       "    <tr>\n",
       "      <th>199</th>\n",
       "      <td>6.22</td>\n",
       "      <td>2.33</td>\n",
       "    </tr>\n",
       "  </tbody>\n",
       "</table>\n",
       "<p>200 rows × 2 columns</p>\n",
       "</div>"
      ],
      "text/plain": [
       "     cgpa  package\n",
       "0    6.89     3.26\n",
       "1    5.12     1.98\n",
       "2    7.82     3.25\n",
       "3    7.42     3.67\n",
       "4    6.94     3.57\n",
       "..    ...      ...\n",
       "195  6.93     2.46\n",
       "196  5.89     2.57\n",
       "197  7.21     3.24\n",
       "198  7.63     3.96\n",
       "199  6.22     2.33\n",
       "\n",
       "[200 rows x 2 columns]"
      ]
     },
     "execution_count": 70,
     "metadata": {},
     "output_type": "execute_result"
    }
   ],
   "source": [
    "## gradient desecent\n",
    "df"
   ]
  },
  {
   "cell_type": "code",
   "execution_count": 72,
   "metadata": {},
   "outputs": [
    {
     "name": "stdout",
     "output_type": "stream",
     "text": [
      "[6.89 5.12 7.82 7.42 6.94 7.89 6.73 6.75 6.09 8.31 5.32 6.61 8.94 6.93\n",
      " 7.73 7.25 6.84 5.38 6.94 7.48 7.28 6.85 6.14 6.19 6.53 7.28 8.31 5.42\n",
      " 5.94 7.15 7.36 8.1  6.96 6.35 7.34 6.87 5.99 5.9  8.62 7.43 9.38 6.89\n",
      " 5.95 7.66 5.09 7.87 6.07 5.84 8.63 8.87 9.58 9.26 8.37 6.47 6.86 8.2\n",
      " 5.84 6.6  6.92 7.56 5.61 5.48 6.34 9.16 7.36 7.6  5.11 6.51 7.56 7.3\n",
      " 5.79 7.47 7.78 8.44 6.85 6.97 6.94 8.99 6.59 7.18 7.63 6.1  5.58 8.44\n",
      " 4.26 4.79 7.61 8.09 4.73 6.42 7.11 6.22 7.9  6.79 5.83 6.63 7.11 5.98\n",
      " 7.69 6.61 7.95 6.71 5.13 7.05 7.62 6.66 6.13 6.33 7.76 7.77 8.18 5.42\n",
      " 8.58 6.94 5.84 8.35 9.04 7.12 7.4  7.39 5.23 6.5  5.12 5.1  6.06 7.33\n",
      " 5.91 6.78 7.93 7.29 6.68 6.37 5.84 6.05 7.2  6.1  5.64 7.14 7.91 7.19\n",
      " 7.91 6.76 6.93 4.85 6.17 5.84 6.07 5.66 7.57 8.28 6.3  6.12 7.37 7.94\n",
      " 7.08 6.98 7.38 6.47 5.95 8.71 7.13 7.3  5.53 8.93 9.06 8.21 8.6  8.13\n",
      " 8.65 9.31 6.22 8.01 6.93 6.75 7.32 7.04 6.29 7.09 8.15 7.14 6.19 8.22\n",
      " 5.88 7.28 7.88 6.31 7.84 6.26 7.35 8.11 6.19 7.28 8.25 4.57 7.89 6.93\n",
      " 5.89 7.21 7.63 6.22]\n",
      "[[3.26]\n",
      " [1.98]\n",
      " [3.25]\n",
      " [3.67]\n",
      " [3.57]\n",
      " [2.99]\n",
      " [2.6 ]\n",
      " [2.48]\n",
      " [2.31]\n",
      " [3.51]\n",
      " [1.86]\n",
      " [2.6 ]\n",
      " [3.65]\n",
      " [2.89]\n",
      " [3.42]\n",
      " [3.23]\n",
      " [2.35]\n",
      " [2.09]\n",
      " [2.98]\n",
      " [2.83]\n",
      " [3.16]\n",
      " [2.93]\n",
      " [2.3 ]\n",
      " [2.48]\n",
      " [2.71]\n",
      " [3.65]\n",
      " [3.42]\n",
      " [2.16]\n",
      " [2.24]\n",
      " [3.49]\n",
      " [3.26]\n",
      " [3.89]\n",
      " [3.08]\n",
      " [2.73]\n",
      " [3.42]\n",
      " [2.87]\n",
      " [2.84]\n",
      " [2.43]\n",
      " [4.36]\n",
      " [3.33]\n",
      " [4.02]\n",
      " [2.7 ]\n",
      " [2.54]\n",
      " [2.76]\n",
      " [1.86]\n",
      " [3.58]\n",
      " [2.26]\n",
      " [3.26]\n",
      " [4.09]\n",
      " [4.62]\n",
      " [4.43]\n",
      " [3.79]\n",
      " [4.11]\n",
      " [2.61]\n",
      " [3.09]\n",
      " [3.39]\n",
      " [2.74]\n",
      " [1.94]\n",
      " [3.09]\n",
      " [3.31]\n",
      " [2.19]\n",
      " [1.61]\n",
      " [2.09]\n",
      " [4.25]\n",
      " [2.92]\n",
      " [3.81]\n",
      " [1.63]\n",
      " [2.89]\n",
      " [2.99]\n",
      " [2.94]\n",
      " [2.35]\n",
      " [3.34]\n",
      " [3.62]\n",
      " [4.03]\n",
      " [3.44]\n",
      " [3.28]\n",
      " [3.15]\n",
      " [4.6 ]\n",
      " [2.21]\n",
      " [3.  ]\n",
      " [3.44]\n",
      " [2.2 ]\n",
      " [2.17]\n",
      " [3.49]\n",
      " [1.53]\n",
      " [1.48]\n",
      " [2.77]\n",
      " [3.55]\n",
      " [1.48]\n",
      " [2.72]\n",
      " [2.66]\n",
      " [2.14]\n",
      " [4.  ]\n",
      " [3.08]\n",
      " [2.42]\n",
      " [2.79]\n",
      " [2.61]\n",
      " [2.84]\n",
      " [3.83]\n",
      " [3.24]\n",
      " [4.14]\n",
      " [3.52]\n",
      " [1.37]\n",
      " [3.  ]\n",
      " [3.74]\n",
      " [2.82]\n",
      " [2.19]\n",
      " [2.59]\n",
      " [3.54]\n",
      " [4.06]\n",
      " [3.76]\n",
      " [2.25]\n",
      " [4.1 ]\n",
      " [2.37]\n",
      " [1.87]\n",
      " [4.21]\n",
      " [3.33]\n",
      " [2.99]\n",
      " [2.88]\n",
      " [2.65]\n",
      " [1.73]\n",
      " [3.02]\n",
      " [2.01]\n",
      " [2.3 ]\n",
      " [2.31]\n",
      " [3.16]\n",
      " [2.6 ]\n",
      " [3.11]\n",
      " [3.34]\n",
      " [3.12]\n",
      " [2.49]\n",
      " [2.01]\n",
      " [2.48]\n",
      " [2.58]\n",
      " [2.83]\n",
      " [2.6 ]\n",
      " [2.1 ]\n",
      " [3.13]\n",
      " [3.89]\n",
      " [2.4 ]\n",
      " [3.15]\n",
      " [3.18]\n",
      " [3.04]\n",
      " [1.54]\n",
      " [2.42]\n",
      " [2.18]\n",
      " [2.46]\n",
      " [2.21]\n",
      " [3.4 ]\n",
      " [3.67]\n",
      " [2.73]\n",
      " [2.76]\n",
      " [3.08]\n",
      " [3.99]\n",
      " [2.85]\n",
      " [3.09]\n",
      " [3.13]\n",
      " [2.7 ]\n",
      " [3.04]\n",
      " [4.08]\n",
      " [2.93]\n",
      " [3.33]\n",
      " [2.55]\n",
      " [3.91]\n",
      " [3.82]\n",
      " [4.08]\n",
      " [3.98]\n",
      " [3.6 ]\n",
      " [3.52]\n",
      " [4.37]\n",
      " [2.87]\n",
      " [3.76]\n",
      " [2.51]\n",
      " [2.56]\n",
      " [2.99]\n",
      " [3.5 ]\n",
      " [3.23]\n",
      " [3.64]\n",
      " [3.63]\n",
      " [3.03]\n",
      " [2.72]\n",
      " [3.89]\n",
      " [2.08]\n",
      " [2.72]\n",
      " [3.14]\n",
      " [3.18]\n",
      " [3.47]\n",
      " [2.44]\n",
      " [3.08]\n",
      " [4.06]\n",
      " [2.69]\n",
      " [3.48]\n",
      " [3.75]\n",
      " [1.94]\n",
      " [3.67]\n",
      " [2.46]\n",
      " [2.57]\n",
      " [3.24]\n",
      " [3.96]\n",
      " [2.33]]\n"
     ]
    }
   ],
   "source": [
    "x = df['cgpa'].values\n",
    "y = df['package'].values.reshape(-1,1)\n",
    "print(x)\n",
    "print(y)"
   ]
  },
  {
   "cell_type": "code",
   "execution_count": null,
   "metadata": {},
   "outputs": [],
   "source": [
    "## Calculate cost function\n",
    "def compute_cost(x,y,theta) :\n",
    "    n = len(y)\n",
    "    prediction = X@theta  ## y cap \n",
    "    cost = ((1/2*n)* np.sum(prediction -y )**2)\n",
    "    return cost\n",
    "#Calaculuate gradient decendent\n",
    "def gradient_descent(x,y,theta, learning_rate, num_iterations):\n",
    "    n = len(y)\n",
    "    cost_history = []\n",
    "    for i in range(num_iterations):\n",
    "        prediction = X@theta\n",
    "        error = prediction - y\n",
    "        gradient = (1/n) * (x.T @ error)\n",
    "        theta = theta = learning_rate* gradient\n",
    "        cost_history.append(compute_cost(x,y,theta))\n",
    "    return theta, cost_history\n",
    "learning_rate = np.logspace(-4,0,10)   ### Provide learning rate from logspace (-4) which is 0.0001  to logspace (0) which is- 1, make upto  10 points\n",
    "\n",
    "num_iterations = 500\n",
    "initial_theta = np.zeros((x.shape[1],1))\n",
    "best_learning_rate = None\n",
    "best_theta = None\n",
    "lowest_cost = float('inf')\n",
    "\n",
    "\n",
    "for lr in learning_rate:\n",
    "    theta = initial_theta.copy()\n",
    "    _, cost_history = gradient_descent(x,y,theta, lr,num_iterations)\n",
    "    final_cost = cost_history[-1]\n",
    "\n",
    "    print(f\"learning rate: {lr}, final cost :{final_cost}\")\n",
    "    if final_cost < lowest_cost :\n",
    "        lowest_cost = final_cost\n",
    "        best_learning_rate = lr\n",
    "        best_theta = theta\n",
    "\n",
    "print(f\"Optimal learning rate : {best_learning_rate}\")\n",
    "print(f\"Learning parameter : {best_theta.ravel}\")\n",
    "\n",
    "## Train the optimal learning rate\n"
   ]
  },
  {
   "cell_type": "markdown",
   "metadata": {},
   "source": []
  }
 ],
 "metadata": {
  "kernelspec": {
   "display_name": "Python 3",
   "language": "python",
   "name": "python3"
  },
  "language_info": {
   "codemirror_mode": {
    "name": "ipython",
    "version": 3
   },
   "file_extension": ".py",
   "mimetype": "text/x-python",
   "name": "python",
   "nbconvert_exporter": "python",
   "pygments_lexer": "ipython3",
   "version": "3.12.2"
  }
 },
 "nbformat": 4,
 "nbformat_minor": 2
}
